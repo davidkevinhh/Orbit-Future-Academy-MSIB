{
  "nbformat": 4,
  "nbformat_minor": 0,
  "metadata": {
    "colab": {
      "name": " Algoritma-ImplementasiPythonLanjutan.ipynb",
      "private_outputs": true,
      "provenance": [],
      "include_colab_link": true
    },
    "kernelspec": {
      "name": "python3",
      "display_name": "Python 3"
    },
    "language_info": {
      "name": "python"
    }
  },
  "cells": [
    {
      "cell_type": "markdown",
      "metadata": {
        "id": "view-in-github",
        "colab_type": "text"
      },
      "source": [
        "<a href=\"https://colab.research.google.com/github/davidkevinhh/Orbit-Future-Academy-MSIB/blob/Assesments/Algoritma_ImplementasiPythonLanjutan.ipynb\" target=\"_parent\"><img src=\"https://colab.research.google.com/assets/colab-badge.svg\" alt=\"Open In Colab\"/></a>"
      ]
    },
    {
      "cell_type": "markdown",
      "metadata": {
        "id": "bWe6NO_-YTMf"
      },
      "source": [
        "# Algoritma, Flowchat, dan Pengondisian Lanjutan"
      ]
    },
    {
      "cell_type": "code",
      "metadata": {
        "id": "orAMbs_8THiw"
      },
      "source": [
        "import tensorflow as tf"
      ],
      "execution_count": null,
      "outputs": []
    },
    {
      "cell_type": "code",
      "metadata": {
        "id": "4fo3_QTUXYDP"
      },
      "source": [
        "class LossLearningRateScheduler(tf.keras.callbacks.History):\n",
        "    \"\"\"\n",
        "    base_lr: the starting learning rate\n",
        "    lookback_epochs: the number of epochs in the past to compare with the loss function at the current epoch to determine if progress is being made.\n",
        "    decay_threshold / decay_multiple: if loss function has not improved by a factor of decay_threshold * lookback_epochs, then decay_multiple will be applied to the learning rate.\n",
        "    spike_epochs: list of the epoch numbers where you want to spike the learning rate.\n",
        "    spike_multiple: the multiple applied to the current learning rate for a spike.\n",
        "    \"\"\"\n",
        "\n",
        "    def __init__(self, base_lr, lookback_epochs, spike_epochs = None, spike_multiple = 10, decay_threshold = 0.002, decay_multiple = 0.7, loss_type = 'val_loss'):\n",
        "\n",
        "\n",
        "        super(LossLearningRateScheduler, self).__init__()\n",
        "        self.base_lr = base_lr\n",
        "        self.lookback_epochs = lookback_epochs\n",
        "        self.spike_epochs = spike_epochs\n",
        "        self.spike_multiple = spike_multiple\n",
        "        self.decay_threshold = decay_threshold\n",
        "        self.decay_multiple = decay_multiple\n",
        "        self.loss_type = loss_type\n",
        "\n",
        "\n",
        "    def on_epoch_begin(self, epoch, logs=None):\n",
        "\n",
        "\n",
        "        if len(self.epoch) > self.lookback_epochs:\n",
        "\n",
        "\n",
        "            current_lr = tf.keras.backend.get_value(self.model.optimizer.lr)\n",
        "\n",
        "\n",
        "            target_loss = self.history[self.loss_type] \n",
        "\n",
        "\n",
        "            loss_diff =  target_loss[-int(self.lookback_epochs)] - target_loss[-1]\n",
        "\n",
        "\n",
        "            if loss_diff <= np.abs(target_loss[-1]) * (self.decay_threshold * self.lookback_epochs):\n",
        "\n",
        "\n",
        "                print(' '.join(('Changing learning rate from', str(current_lr), 'to', str(current_lr * self.decay_multiple))))\n",
        "                tf.keras.backend.set_value(self.model.optimizer.lr, current_lr * self.decay_multiple)\n",
        "                current_lr = current_lr * self.decay_multiple\n",
        "\n",
        "\n",
        "            else:\n",
        "\n",
        "\n",
        "                print(' '.join(('Learning rate:', str(current_lr))))\n",
        "\n",
        "\n",
        "            if self.spike_epochs is not None and len(self.epoch) in self.spike_epochs:\n",
        "                print(' '.join(('Spiking learning rate from', str(current_lr), 'to', str(current_lr * self.spike_multiple))))\n",
        "                tf.keras.backend.set_value(self.model.optimizer.lr, current_lr * self.spike_multiple)\n",
        "\n",
        "\n",
        "        else:\n",
        "\n",
        "\n",
        "            print(' '.join(('Setting learning rate to', str(self.base_lr))))\n",
        "            tf.keras.backend.set_value(self.model.optimizer.lr, self.base_lr)\n",
        "\n",
        "        return tf.keras.backend.get_value(self.model.optimizer.lr)\n",
        "\n",
        "\n",
        "\n",
        "callback_lr = LossLearningRateScheduler(base_lr=0.001, lookback_epochs=3)"
      ],
      "execution_count": null,
      "outputs": []
    },
    {
      "cell_type": "markdown",
      "metadata": {
        "id": "eC_XsZ0-w8ms"
      },
      "source": [
        "Menghitung luas dan keliling Persegi"
      ]
    },
    {
      "cell_type": "code",
      "metadata": {
        "id": "lwXeIUbPYK1q"
      },
      "source": [
        "print(\"MENGHITUNG LUAS & KELILING PERSEGI\")\n",
        "\n",
        "s = float(input(\"\\nMasukan Panjang Sisi dalam cm: \"))\n",
        "\n",
        "luas = s**2\n",
        "keliling = 4 * s\n",
        "\n",
        "print(\"\\nLuas Persegi \\t\\t:\",luas, \"cm^2\")\n",
        "print(\"Keliling Persegi\\t:\",keliling, \"cm\")"
      ],
      "execution_count": null,
      "outputs": []
    },
    {
      "cell_type": "code",
      "metadata": {
        "id": "NPSHRHK2MFv1"
      },
      "source": [
        "# GUNAKAN KODE INI UNTUK PRAKTIK #\n",
        "\n",
        "print(\"MENGHITUNG LUAS & KELILING PERSEGI\") # print judul program\n",
        "\n",
        "s = float(input(\"\\nMasukan Panjang Sisi dalam cm: \")) #defaul integer\n",
        "\n",
        "luas = s**2 # s kuadrat\n",
        "keliling = 4 * s \n",
        "\n",
        "\n",
        "print(\"\\nLuas Persegi \\t\\t:\",luas, \"cm^2\")\n",
        "print(\"Keliling Persegi\\t:\",keliling, \"cm\")"
      ],
      "execution_count": null,
      "outputs": []
    },
    {
      "cell_type": "code",
      "metadata": {
        "id": "X2u0G9Xjvq6I"
      },
      "source": [
        "a = (2.5)\n",
        "print(type(a))"
      ],
      "execution_count": null,
      "outputs": []
    },
    {
      "cell_type": "markdown",
      "metadata": {
        "id": "Oy6jK1gcxLu9"
      },
      "source": [
        "Menghitung Volume dan Luas Permukaan Bola"
      ]
    },
    {
      "cell_type": "code",
      "metadata": {
        "id": "o34A02DUw6UQ"
      },
      "source": [
        "\n",
        "print(\"MENGHITUNG VOLUME & LUAS PERMUKAAN BOLA\")\n",
        "\n",
        "jari_jari = float(input(\"\\nMasukan jari-jari dalam cm: \"))\n",
        "\n",
        "phi = 3.14\n",
        "volume = 4/3 * phi * jari_jari**3\n",
        "luas_permukaan = 4 * phi * jari_jari**2\n",
        "\n",
        "print(\"\\nVolume Bola adalah \\t\\t:\",volume, \"cm^3\")\n",
        "print(\"Luas Permukaan Bola adalah\\t:\",luas_permukaan, \"cm^2\")"
      ],
      "execution_count": null,
      "outputs": []
    },
    {
      "cell_type": "code",
      "metadata": {
        "id": "hUdvnWSYMPYE"
      },
      "source": [
        "# GUNAKAN KODE INI UNTUK PRAKTIK #\n",
        "\n",
        "print(\"MENGHITUNG VOLUME & LUAS PERMUKAAN BOLA\")\n",
        "\n",
        "jari_jari = float(input(\"\\nMasukan jari-jari dalam cm: \"))\n",
        "\n",
        "phi = 3.14\n",
        "volume = 4/3 * phi * jari_jari**3\n",
        "luas_permukaan = 4 * phi * jari_jari**2\n",
        "\n",
        "print(type(phi))\n",
        "print(\"\\nVolume Bola adalah \\t\\t:\",volume, \"cm^3\")\n",
        "print(\"Luas Permukaan Bola adalah\\t:\",luas_permukaan, \"cm^2\")"
      ],
      "execution_count": null,
      "outputs": []
    },
    {
      "cell_type": "markdown",
      "metadata": {
        "id": "s9npqktxMFBH"
      },
      "source": [
        "Percabangan pada konversi nilai desimal ke heksa, oktal, dan biner"
      ]
    },
    {
      "cell_type": "code",
      "metadata": {
        "id": "NoUC5sQ1xm7q"
      },
      "source": [
        "# program konversi bilangan sederhana \n",
        "# untuk membantu memahami terkait bilangan biner, oktal & heksademisal\n",
        "# program konversi bilangan desimal berbasis 10 \n",
        "\n",
        "\n",
        "\n",
        "number = int(input(\"Masukan bilangan berbasis 10 (Desimal)\\n\")) \n",
        "\n",
        "# Pilih konversi  \n",
        "print(\"a. Desimal menjadi Heksadesimal \") \n",
        "print(\"b. Desimal menjadi Oktal\") \n",
        "print(\"c. Desimal menjadi Biner\") \n",
        "\n",
        "# Memasukkan input \n",
        "print(\"Pilih konversi :- \") \n",
        "choice = input() \n",
        "\n",
        "# variable pemilihan\n",
        "# kondisi \n",
        "# Heksadesimal dipilih jika \"a\"\n",
        "\n",
        "if choice is 'a': \n",
        "\n",
        "\n",
        "\tprint(\"Heksademisal dari bilangan \" + str(number) +\n",
        "\t\t\" adalah \" + hex(number).lstrip(\"0x\").rstrip(\"L\")) \n",
        "\t\t\n",
        "if choice is 'b': \n",
        "\t\n",
        "\n",
        "\tprint(\"Oktal dari bilangan \" + str(number) +\n",
        "\t\t\" adalah \" + oct(number).lstrip(\"0o\").rstrip(\"L\")) \n",
        "\t\t\n",
        "if choice is 'c': \n",
        "\t\n",
        "\n",
        "\tprint(\"Biner dari bilangan \" + str(number) +\n",
        "\t\t\" adalah \"+bin(number).lstrip(\"0b\").rstrip(\"L\"))"
      ],
      "execution_count": null,
      "outputs": []
    },
    {
      "cell_type": "markdown",
      "metadata": {
        "id": "G4w8pNollvPf"
      },
      "source": [
        "Pecabangan model 1"
      ]
    },
    {
      "cell_type": "code",
      "metadata": {
        "id": "gHfiShf4lsp0"
      },
      "source": [
        "print(\"SELAMAT DATANG DI PROGRAM\\nMENGHITUNG VOLUME & LUAS PERMUKAAN BOLA\")\n",
        "\n",
        "jari_jari = float(input(\"\\nMasukan jari-jari dalam cm: \"))\n",
        "print(\"\\nPilih 1 untuk menghitung volume\\nPilih 2 untuk menghitung luas permukaan\")\n",
        "pilihan = input(\"\\nInput pilihan: \")\n",
        "phi = 3.14\n",
        "\n",
        "if pilihan == \"1\":\n",
        "  volume = 4/3 * phi * jari_jari**3\n",
        "  print(\"\\nVolume Bola adalah: \",volume, \"cm^3\")\n",
        "elif pilihan == \"2\":\n",
        "  luas_permukaan = 4 * phi * jari_jari**2\n",
        "  print(\"Luas Permukaan Bola adalah: \",luas_permukaan, \"cm^2\")\n",
        "else:\n",
        "  print(\"\\nMaaf, pilihan tidak tersedia\")\n",
        "\n",
        "print(\"\\nTerimakasih telah menggunakan program ini.\")"
      ],
      "execution_count": null,
      "outputs": []
    },
    {
      "cell_type": "code",
      "metadata": {
        "id": "ojWBIuADNMMA"
      },
      "source": [
        "# GUNAKAN KODE INI UNTUK PRAKTIK #\n",
        "\n",
        "print(\"SELAMAT DATANG DI PROGRAM\\nMENGHITUNG VOLUME & LUAS PERMUKAAN BOLA\")\n",
        "\n",
        "jari_jari = float(input(\"\\nMasukan jari-jari dalam cm: \"))\n",
        "print(\"\\nPilih 1 untuk menghitung volume\\nPilih 2 untuk menghitung luas permukaan\")\n",
        "pilihan = input(\"\\nInput pilihan: \")\n",
        "phi = 3.14\n",
        "\n",
        "if pilihan == \"1\":\n",
        "  volume = 4/3 * phi * jari_jari**3\n",
        "  print(\"\\nVolume Bola adalah: \",volume, \"cm^3\")\n",
        "elif pilihan == \"2\":\n",
        "  luas_permukaan = 4 * phi * jari_jari**2\n",
        "  print(\"Luas Permukaan Bola adalah: \",luas_permukaan, \"cm^2\")\n",
        "else:\n",
        "  print(\"\\nMaaf, pilihan tidak tersedia\")\n",
        "\n",
        "print(\"\\nTerimakasih telah menggunakan program ini.\")"
      ],
      "execution_count": null,
      "outputs": []
    },
    {
      "cell_type": "markdown",
      "metadata": {
        "id": "r3gqBCjWHdrz"
      },
      "source": [
        "Percabangan model 2"
      ]
    },
    {
      "cell_type": "code",
      "metadata": {
        "id": "8puMtwJhHf6r"
      },
      "source": [
        "print(\"SELAMAT DATANG DI PROGRAM\\nMENGHITUNG VOLUME & LUAS PERMUKAAN BOLA\")\n",
        "\n",
        "def hitung(jari_jari, pilihan):\n",
        "  phi = 3.14\n",
        "  if pilihan == \"1\":\n",
        "    volume = 4/3 * phi * jari_jari**3\n",
        "    print(\"\\nVolume Bola adalah: \",volume, \"cm^3\")\n",
        "  elif pilihan == \"2\":\n",
        "    luas_permukaan = 4 * phi * jari_jari**2\n",
        "    print(\"Luas Permukaan Bola adalah: \",luas_permukaan, \"cm^2\")\n",
        "  else:\n",
        "    print(\"\\nMaaf, pilihan tidak tersedia\")\n",
        "\n",
        "jari_jari = float(input(\"\\nMasukan jari-jari dalam cm: \"))\n",
        "print(\"\\nPilih 1 untuk menghitung volume\\nPilih 2 untuk menghitung luas permukaan\")\n",
        "pilihan = input(\"\\nInput pilihan: \")\n",
        "\n",
        "hitung(jari_jari, pilihan)\n",
        "\n",
        "print(\"\\nTerimakasih telah menggunakan program ini.\")"
      ],
      "execution_count": null,
      "outputs": []
    },
    {
      "cell_type": "code",
      "metadata": {
        "id": "bvGFEAVFNTtE"
      },
      "source": [
        "# GUNAKAN KODE INI UNTUK PRAKTIK #\n",
        "\n",
        "print(\"SELAMAT DATANG DI PROGRAM\\nMENGHITUNG VOLUME & LUAS PERMUKAAN BOLA\")\n",
        "\n",
        "def hitung(jari_jari, pilihan):\n",
        "  phi = 3.14\n",
        "  if pilihan == \"1\":\n",
        "    volume = 4/3 * phi * jari_jari**3\n",
        "    print(\"\\nVolume Bola adalah: \",volume, \"cm^3\")\n",
        "  elif pilihan == \"2\":\n",
        "    luas_permukaan = 4 * phi * jari_jari**2\n",
        "    print(\"Luas Permukaan Bola adalah: \",luas_permukaan, \"cm^2\")\n",
        "  else:\n",
        "    print(\"\\nMaaf, pilihan tidak tersedia\")\n",
        "\n",
        "jari_jari = float(input(\"\\nMasukan jari-jari dalam cm: \"))\n",
        "print(\"\\nPilih 1 untuk menghitung volume\\nPilih 2 untuk menghitung luas permukaan\")\n",
        "pilihan = input(\"\\nInput pilihan: \")\n",
        "\n",
        "hitung(jari_jari, pilihan)\n",
        "\n",
        "print(\"\\nTerimakasih telah menggunakan program ini.\")"
      ],
      "execution_count": null,
      "outputs": []
    },
    {
      "cell_type": "markdown",
      "metadata": {
        "id": "kucylcDJs3Z3"
      },
      "source": [
        "Perulangan model 1"
      ]
    },
    {
      "cell_type": "code",
      "metadata": {
        "id": "urle2pdps1rl"
      },
      "source": [
        "print(\"SELAMAT DATANG DI PROGRAM\\nMENGHITUNG VOLUME & LUAS PERMUKAAN BOLA\")\n",
        "\n",
        "def hitung():\n",
        "  jari_jari = float(input(\"\\nMasukan jari-jari dalam cm: \"))\n",
        "  print(\"\\nPilih 1 untuk menghitung volume\\nPilih 2 untuk menghitung luas permukaan\")\n",
        "  pilihan_kalkulasi = input(\"\\nInput pilihan: \")\n",
        "  phi = 3.14\n",
        "\n",
        "  if pilihan_kalkulasi == \"1\":\n",
        "    volume = 4/3 * phi * jari_jari**3\n",
        "    print(\"\\nVolume Bola adalah: \",volume, \"cm^3\")\n",
        "  elif pilihan_kalkulasi == \"2\":\n",
        "    luas_permukaan = 4 * phi * jari_jari**2\n",
        "    print(\"Luas Permukaan Bola adalah: \",luas_permukaan, \"cm^2\")\n",
        "  else:\n",
        "    print(\"\\nMaaf, pilihan tidak tersedia\")\n",
        "\n",
        "\n",
        "if __name__ == '__main__':\n",
        "  while True:\n",
        "    print(\"\\nPilih 1 untuk melanjutkan\\nPilih 2 untuk keluar\")\n",
        "    pilihan_IO = input(\"\\nInput pilihan: \")\n",
        "\n",
        "    if pilihan_IO == \"1\":\n",
        "      hitung()\n",
        "    elif pilihan_IO == \"2\":\n",
        "      break\n",
        "    else:\n",
        "      print(\"Pilihan tidak ada\")\n",
        "  \n",
        "\n",
        "print(\"\\nTerimakasih telah menggunakan program ini.\")"
      ],
      "execution_count": null,
      "outputs": []
    },
    {
      "cell_type": "code",
      "metadata": {
        "id": "g0zqj-O5NbEI"
      },
      "source": [
        "# GUNAKAN KODE INI UNTUK PRAKTIK #\n",
        "\n",
        "print(\"SELAMAT DATANG DI PROGRAM\\nMENGHITUNG VOLUME & LUAS PERMUKAAN BOLA\")\n",
        "\n",
        "def hitung():\n",
        "  jari_jari = float(input(\"\\nMasukan jari-jari dalam cm: \"))\n",
        "  print(\"\\nPilih 1 untuk menghitung volume\\nPilih 2 untuk menghitung luas permukaan\")\n",
        "  pilihan_kalkulasi = input(\"\\nInput pilihan: \")\n",
        "  phi = 3.14\n",
        "\n",
        "  if pilihan_kalkulasi == \"1\":\n",
        "    volume = 4/3 * phi * jari_jari**3\n",
        "    print(\"\\nVolume Bola adalah: \",volume, \"cm^3\")\n",
        "  elif pilihan_kalkulasi == \"2\":\n",
        "    luas_permukaan = 4 * phi * jari_jari**2\n",
        "    print(\"Luas Permukaan Bola adalah: \",luas_permukaan, \"cm^2\")\n",
        "  else:\n",
        "    print(\"\\nMaaf, pilihan tidak tersedia\")\n",
        "\n",
        "\n",
        "if __name__ == '__main__':\n",
        "  while True:\n",
        "    print(\"\\nPilih 1 untuk melanjutkan\\nPilih 2 untuk keluar\")\n",
        "    pilihan_IO = input(\"\\nInput pilihan: \")\n",
        "\n",
        "    if pilihan_IO == \"1\":\n",
        "      hitung()\n",
        "    elif pilihan_IO == \"2\":\n",
        "      break\n",
        "    else:\n",
        "      print(\"Pilihan tidak ada\")\n",
        "  \n",
        "\n",
        "print(\"\\nTerimakasih telah menggunakan program ini.\")"
      ],
      "execution_count": null,
      "outputs": []
    },
    {
      "cell_type": "markdown",
      "metadata": {
        "id": "YNN2ygltDDFn"
      },
      "source": [
        "Perulangan Model 2"
      ]
    },
    {
      "cell_type": "code",
      "metadata": {
        "id": "UO25Jg0b9g1N"
      },
      "source": [
        "print(\"SELAMAT DATANG DI PROGRAM\\nMENGHITUNG VOLUME & LUAS PERMUKAAN BOLA\")\n",
        "\n",
        "def hitung(jari_jari, pilihan_kalkulasi):\n",
        "  phi = 3.14\n",
        "\n",
        "  if pilihan_kalkulasi == \"1\":\n",
        "    volume = 4/3 * phi * jari_jari**3\n",
        "    print(\"\\nVolume Bola adalah: \",volume, \"cm^3\")\n",
        "  elif pilihan_kalkulasi == \"2\":\n",
        "    luas_permukaan = 4 * phi * jari_jari**2\n",
        "    print(\"Luas Permukaan Bola adalah: \",luas_permukaan, \"cm^2\")\n",
        "  else:\n",
        "    print(\"\\nMaaf, pilihan tidak tersedia\")\n",
        "\n",
        "\n",
        "if __name__ == '__main__':\n",
        "  while True:\n",
        "    print(\"\\nPilih 1 untuk melanjutkan\\nPilih 2 untuk keluar\")\n",
        "    pilihan_IO = input(\"\\nInput pilihan: \")\n",
        "\n",
        "    if pilihan_IO == \"1\":\n",
        "      jari_jari = float(input(\"\\nMasukan jari-jari dalam cm: \"))\n",
        "      print(\"\\nPilih 1 untuk menghitung volume\\nPilih 2 untuk menghitung luas permukaan\")\n",
        "      pilihan_kalkulasi = input(\"\\nInput pilihan: \")\n",
        "\n",
        "      hitung(jari_jari, pilihan_kalkulasi)\n",
        "\n",
        "    elif pilihan_IO == \"2\" or pilihan_IO == \"q\":\n",
        "      break\n",
        "    else:\n",
        "      print(\"Pilihan tidak ada\")\n",
        "  \n",
        "\n",
        "print(\"\\nTerimakasih telah menggunakan program ini.\")"
      ],
      "execution_count": null,
      "outputs": []
    },
    {
      "cell_type": "code",
      "metadata": {
        "id": "GCnyP1X_Ng9c"
      },
      "source": [
        "# GUNAKAN KODE INI UNTUK PRAKTIK #\n",
        "\n",
        "print(\"SELAMAT DATANG DI PROGRAM\\nMENGHITUNG VOLUME & LUAS PERMUKAAN BOLA\")\n",
        "\n",
        "def hitung(jari_jari, pilihan_kalkulasi):\n",
        "  phi = 3.14\n",
        "\n",
        "  if pilihan_kalkulasi == \"1\":\n",
        "    volume = 4/3 * phi * jari_jari**3\n",
        "    print(\"\\nVolume Bola adalah: \",volume, \"cm^3\")\n",
        "  elif pilihan_kalkulasi == \"2\":\n",
        "    luas_permukaan = 4 * phi * jari_jari**2\n",
        "    print(\"Luas Permukaan Bola adalah: \",luas_permukaan, \"cm^2\")\n",
        "  else:\n",
        "    print(\"\\nMaaf, pilihan tidak tersedia\")\n",
        "\n",
        "\n",
        "if __name__ == '__main__':\n",
        "  while True:\n",
        "    print(\"\\nPilih 1 untuk melanjutkan\\nPilih 2 untuk keluar\")\n",
        "    pilihan_IO = input(\"\\nInput pilihan: \")\n",
        "\n",
        "    if pilihan_IO == \"1\":\n",
        "      jari_jari = float(input(\"\\nMasukan jari-jari dalam cm: \"))\n",
        "      print(\"\\nPilih 1 untuk menghitung volume\\nPilih 2 untuk menghitung luas permukaan\")\n",
        "      pilihan_kalkulasi = input(\"\\nInput pilihan: \")\n",
        "\n",
        "      hitung(jari_jari, pilihan_kalkulasi)\n",
        "\n",
        "    elif pilihan_IO == \"2\":\n",
        "      break\n",
        "    else:\n",
        "      print(\"Pilihan tidak ada\")\n",
        "  \n",
        "\n",
        "print(\"\\nTerimakasih telah menggunakan program ini.\")"
      ],
      "execution_count": null,
      "outputs": []
    },
    {
      "cell_type": "markdown",
      "metadata": {
        "id": "U83-q-xxy5Cw"
      },
      "source": [
        "Membuat Program Sederhana untuk Menyelesaikan Kasus Fisis (Fisika)"
      ]
    },
    {
      "cell_type": "code",
      "metadata": {
        "id": "N0ja7gKkzKw9"
      },
      "source": [
        "kecepatan_awal = 5 # m/s\n",
        "waktu = 2 # s\n",
        "percepatan = 10 # m/s2\n",
        "s = kecepatan_awal * waktu + 0.5 * percepatan*waktu**2\n",
        "print(s, 'm')"
      ],
      "execution_count": null,
      "outputs": []
    },
    {
      "cell_type": "code",
      "metadata": {
        "id": "FoRAF7_3zye_"
      },
      "source": [
        "kecepatan_awal = int(input('Masukkan kecepatan awal (dalam m/s) :')) \n",
        "waktu = int(input('Masukkan waktu tempuh (dalam detik) :'))\n",
        "percepatan = int(input('Masukkan percepatannya (dalam m/s2) :'))\n",
        "s = kecepatan_awal * waktu + 0.5 * percepatan*waktu**2\n",
        "print('Jarak yang ditempuh :',s, 'm')"
      ],
      "execution_count": null,
      "outputs": []
    },
    {
      "cell_type": "code",
      "metadata": {
        "id": "POdyfLPnz492"
      },
      "source": [
        "def Jarak(kecepatan_awal, waktu_akhir, percepatan):\n",
        "    # Perhitungan jarak yang ditempuh setiap detiknya\n",
        "    f = open(\"data.txt\",'w')\n",
        "    waktu = 0\n",
        "    while waktu <=waktu_akhir:\n",
        "        s = kecepatan_awal * waktu + 0.5 * percepatan*waktu**2\n",
        "        #print(waktu,'{:0.2f}'.format(s))\n",
        "        f.write('{:0.0f} {:0.2f}\\n'.format(waktu, s))\n",
        "        waktu +=1\n",
        "    f.close()"
      ],
      "execution_count": null,
      "outputs": []
    },
    {
      "cell_type": "code",
      "metadata": {
        "id": "knvtJJjE0AP-"
      },
      "source": [
        "print(Jarak(1,20,10))"
      ],
      "execution_count": null,
      "outputs": []
    },
    {
      "cell_type": "code",
      "metadata": {
        "id": "D2ETElyX0EWN"
      },
      "source": [
        "from pylab import plot, show\n",
        "from numpy import loadtxt\n",
        "import matplotlib.pyplot as plt\n",
        "%matplotlib inline\n",
        "data = loadtxt('data.txt')\n",
        "x = data[:,0]\n",
        "y = data[:,1]\n",
        "plt.xlabel('Waktu dalam detik')\n",
        "plt.ylabel('Jarak')\n",
        "plt.title('Grafik Jarak terhadap Waktu GLBB')\n",
        "plot(x,y,'-b')\n",
        "show()"
      ],
      "execution_count": null,
      "outputs": []
    },
    {
      "cell_type": "code",
      "metadata": {
        "id": "e9Hx0fYEzSfx"
      },
      "source": [
        "kecepatan_awal = int(input('Masukkan kecepatan awal (dalam m/s) :')) \n",
        "waktu = int(input('Masukkan waktu tempuh (dalam detik) :'))\n",
        "percepatan = int(input('Masukkan percepatannya (dalam m/s2) :'))\n",
        "s = kecepatan_awal * waktu + 0.5 * percepatan*waktu**2\n",
        "print('Jarak yang ditempuh :',s, 'm')"
      ],
      "execution_count": null,
      "outputs": []
    },
    {
      "cell_type": "code",
      "metadata": {
        "id": "3RVfI4tR_ZqI"
      },
      "source": [
        "\"\"\"Soalnya\n",
        "JIka nilai yang dimasukan harus terdeteksi bilangan itu genap, agar bisa mendeteksi bahwa bilangan tersebut habis di bagi 4, \n",
        "dan program juga harus bisa mendeteksi angka yang dimasukkan adalah ganjil\"\"\"\n",
        "nilai_input = int(input('Masukkan bilangan bulat: '))\n",
        "if nilai_input%2 == 0:\n",
        "  if nilai_input%4 == 0:\n",
        "    print(\"Bilangan tsb adalah genap dan habis dibagi 4\")\n",
        "  elif nilai_input%4 != 0:\n",
        "    print(\"Bilangan tsb adalah genap tetapi tidak habis dibagi 4\")\n",
        "else:\n",
        "  print(\"Bilangan tsb adalah ganjil\")"
      ],
      "execution_count": null,
      "outputs": []
    },
    {
      "cell_type": "markdown",
      "metadata": {
        "id": "aKpUcOVszDbm"
      },
      "source": [
        "![WhatsApp Image 2021-09-20 at 18.26.50.jpeg](data:image/jpeg;base64,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)"
      ]
    },
    {
      "cell_type": "code",
      "metadata": {
        "id": "ZtWPxgJUDBE_"
      },
      "source": [
        "Soal 1. Buat program bercabangan dan perulangan dengan input nama anggota kelas frontera dan jika nama dimasukkan akan muncul semester, nama kampus, dan jurusan.\n",
        "Soal no 1, cukup 3 orang saja, trus kalo misalnya nama tidak terdata maka program harus bisa mendeteksi bahwa nama tersebut tidak dikenali\n",
        "2. Buat program percabangan dan perulangan untuk menghitung volume bangun ruang, 5 \n",
        "bangun ruang\n",
        "Aturan\n",
        "1. Program harus bisa melanjutkan perhitungn dan juga keluar dari looping\n",
        "2. Program harus bisa membuat pilihan menghotung bangun ruang mana atau bangun datar mana\n",
        "3. Ketika bangun datar atau ruangnya sudah dipilih program harus bisa memilih untuk mengitung luas, volume, luar permukaan\n"
      ],
      "execution_count": null,
      "outputs": []
    },
    {
      "cell_type": "code",
      "metadata": {
        "id": "akGYWS8TKtzQ"
      },
      "source": [
        "a = None\n",
        "print(type(a))"
      ],
      "execution_count": null,
      "outputs": []
    }
  ]
}

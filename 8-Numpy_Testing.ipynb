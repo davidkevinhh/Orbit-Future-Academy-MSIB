{
  "nbformat": 4,
  "nbformat_minor": 0,
  "metadata": {
    "colab": {
      "name": "Numpy Testing.ipynb",
      "provenance": [],
      "collapsed_sections": [],
      "include_colab_link": true
    },
    "kernelspec": {
      "name": "python3",
      "display_name": "Python 3"
    },
    "language_info": {
      "name": "python"
    }
  },
  "cells": [
    {
      "cell_type": "markdown",
      "metadata": {
        "id": "view-in-github",
        "colab_type": "text"
      },
      "source": [
        "<a href=\"https://colab.research.google.com/github/davidkevinhh/Orbit-Future-Academy-MSIB/blob/Assesments/Numpy_Testing.ipynb\" target=\"_parent\"><img src=\"https://colab.research.google.com/assets/colab-badge.svg\" alt=\"Open In Colab\"/></a>"
      ]
    },
    {
      "cell_type": "markdown",
      "metadata": {
        "id": "OsrL4DDnsXet"
      },
      "source": [
        "# NumPy\n",
        "The NumPy library is the core library for scientific computing in Python. It provides a high-performance multidimensional array object, and tools for working with these arrays. "
      ]
    },
    {
      "cell_type": "markdown",
      "metadata": {
        "id": "o5uuDGr3sXe0"
      },
      "source": [
        "# Creating Arrays"
      ]
    },
    {
      "cell_type": "code",
      "metadata": {
        "id": "CpCv_BY1sXe2"
      },
      "source": [
        "# Import Library NumPy\n",
        "import numpy as np\n",
        "\n",
        "# Contoh Membuat Array\n",
        "a = np.array([1,2,3])\n",
        "b = np.array([(1.5,2,3), (4,5,6)], dtype = float)\n",
        "c = np.array([[(1.5,2,3), (4,5,6)], [(3,2,1), (4,5,6)]], dtype = float)"
      ],
      "execution_count": 1,
      "outputs": []
    },
    {
      "cell_type": "code",
      "metadata": {
        "id": "ltSlc4F6sXe4",
        "colab": {
          "base_uri": "https://localhost:8080/"
        },
        "outputId": "34d67315-9173-49a1-e979-23a2b21a4ba5"
      },
      "source": [
        "# Menampilkan Array a\n",
        "a"
      ],
      "execution_count": 2,
      "outputs": [
        {
          "output_type": "execute_result",
          "data": {
            "text/plain": [
              "array([1, 2, 3])"
            ]
          },
          "metadata": {},
          "execution_count": 2
        }
      ]
    },
    {
      "cell_type": "code",
      "metadata": {
        "id": "-DqwT4pysXe7",
        "colab": {
          "base_uri": "https://localhost:8080/"
        },
        "outputId": "3a503840-d417-43c8-f3c8-511e8508df35"
      },
      "source": [
        "# Menampilkan Array b\n",
        "b"
      ],
      "execution_count": 3,
      "outputs": [
        {
          "output_type": "execute_result",
          "data": {
            "text/plain": [
              "array([[1.5, 2. , 3. ],\n",
              "       [4. , 5. , 6. ]])"
            ]
          },
          "metadata": {},
          "execution_count": 3
        }
      ]
    },
    {
      "cell_type": "code",
      "metadata": {
        "id": "u52vys8xsXe8",
        "colab": {
          "base_uri": "https://localhost:8080/"
        },
        "outputId": "81924e17-39d0-471f-f43b-1cb749304d2b"
      },
      "source": [
        "# Menampilkan Array c\n",
        "c"
      ],
      "execution_count": 4,
      "outputs": [
        {
          "output_type": "execute_result",
          "data": {
            "text/plain": [
              "array([[[1.5, 2. , 3. ],\n",
              "        [4. , 5. , 6. ]],\n",
              "\n",
              "       [[3. , 2. , 1. ],\n",
              "        [4. , 5. , 6. ]]])"
            ]
          },
          "metadata": {},
          "execution_count": 4
        }
      ]
    },
    {
      "cell_type": "markdown",
      "metadata": {
        "id": "uBCrp4qqsXe8"
      },
      "source": [
        "### Initial Placeholders"
      ]
    },
    {
      "cell_type": "code",
      "metadata": {
        "id": "wUiUZOCJsXe9",
        "colab": {
          "base_uri": "https://localhost:8080/"
        },
        "outputId": "616ca919-48a9-4d7f-8b64-6b0a208ce2d7"
      },
      "source": [
        "# Create an array of zeros\n",
        "np.zeros((2,3,5))"
      ],
      "execution_count": 5,
      "outputs": [
        {
          "output_type": "execute_result",
          "data": {
            "text/plain": [
              "array([[[0., 0., 0., 0., 0.],\n",
              "        [0., 0., 0., 0., 0.],\n",
              "        [0., 0., 0., 0., 0.]],\n",
              "\n",
              "       [[0., 0., 0., 0., 0.],\n",
              "        [0., 0., 0., 0., 0.],\n",
              "        [0., 0., 0., 0., 0.]]])"
            ]
          },
          "metadata": {},
          "execution_count": 5
        }
      ]
    },
    {
      "cell_type": "code",
      "metadata": {
        "id": "Fou7n_UtsXe_",
        "colab": {
          "base_uri": "https://localhost:8080/"
        },
        "outputId": "02268715-373a-4af8-d3f7-f2f70fff33ca"
      },
      "source": [
        "# Create an array of ones\n",
        "np.ones((2,3,4),dtype=np.int16)"
      ],
      "execution_count": 6,
      "outputs": [
        {
          "output_type": "execute_result",
          "data": {
            "text/plain": [
              "array([[[1, 1, 1, 1],\n",
              "        [1, 1, 1, 1],\n",
              "        [1, 1, 1, 1]],\n",
              "\n",
              "       [[1, 1, 1, 1],\n",
              "        [1, 1, 1, 1],\n",
              "        [1, 1, 1, 1]]], dtype=int16)"
            ]
          },
          "metadata": {},
          "execution_count": 6
        }
      ]
    },
    {
      "cell_type": "code",
      "metadata": {
        "id": "BzZtFU8WsXfB",
        "colab": {
          "base_uri": "https://localhost:8080/"
        },
        "outputId": "d73464a2-e978-4a74-d41a-bc8f9d1f5241"
      },
      "source": [
        "# Create an array of evenly spaced values (step value)\n",
        "d = np.arange(10,25,5)\n",
        "d"
      ],
      "execution_count": 7,
      "outputs": [
        {
          "output_type": "execute_result",
          "data": {
            "text/plain": [
              "array([10, 15, 20])"
            ]
          },
          "metadata": {},
          "execution_count": 7
        }
      ]
    },
    {
      "cell_type": "code",
      "metadata": {
        "id": "-3xlgc-MsXfD",
        "colab": {
          "base_uri": "https://localhost:8080/"
        },
        "outputId": "891dac08-567e-41a2-e172-54a35af93f45"
      },
      "source": [
        "# Create an array of evenly spaced values (number of samples)\n",
        "np.linspace(0,2,9)"
      ],
      "execution_count": 8,
      "outputs": [
        {
          "output_type": "execute_result",
          "data": {
            "text/plain": [
              "array([0.  , 0.25, 0.5 , 0.75, 1.  , 1.25, 1.5 , 1.75, 2.  ])"
            ]
          },
          "metadata": {},
          "execution_count": 8
        }
      ]
    },
    {
      "cell_type": "code",
      "metadata": {
        "id": "NRx_PBvssXfF",
        "colab": {
          "base_uri": "https://localhost:8080/"
        },
        "outputId": "441b57d9-2aee-48f9-83ba-d7de4b71cacb"
      },
      "source": [
        "# Create a constant array\n",
        "e = np.full((3,3),7)\n",
        "e"
      ],
      "execution_count": 9,
      "outputs": [
        {
          "output_type": "execute_result",
          "data": {
            "text/plain": [
              "array([[7, 7, 7],\n",
              "       [7, 7, 7],\n",
              "       [7, 7, 7]])"
            ]
          },
          "metadata": {},
          "execution_count": 9
        }
      ]
    },
    {
      "cell_type": "code",
      "metadata": {
        "id": "CdQdmJ9QsXfG",
        "colab": {
          "base_uri": "https://localhost:8080/"
        },
        "outputId": "3cb4f386-1de5-4dab-d1b4-50e989c3076d"
      },
      "source": [
        "# Create a 2X2 identity matrix\n",
        "f = np.eye(3)\n",
        "f"
      ],
      "execution_count": 10,
      "outputs": [
        {
          "output_type": "execute_result",
          "data": {
            "text/plain": [
              "array([[1., 0., 0.],\n",
              "       [0., 1., 0.],\n",
              "       [0., 0., 1.]])"
            ]
          },
          "metadata": {},
          "execution_count": 10
        }
      ]
    },
    {
      "cell_type": "code",
      "metadata": {
        "id": "Pazodo1TsXfI",
        "colab": {
          "base_uri": "https://localhost:8080/"
        },
        "outputId": "f7c73e13-a3cb-4c84-accc-73fad0bab3ba"
      },
      "source": [
        "# Create an array with random values\n",
        "np.random.random((2,2))"
      ],
      "execution_count": 11,
      "outputs": [
        {
          "output_type": "execute_result",
          "data": {
            "text/plain": [
              "array([[0.94891726, 0.31845018],\n",
              "       [0.14942541, 0.79134532]])"
            ]
          },
          "metadata": {},
          "execution_count": 11
        }
      ]
    },
    {
      "cell_type": "code",
      "metadata": {
        "id": "YAXZu66UsXfK",
        "colab": {
          "base_uri": "https://localhost:8080/"
        },
        "outputId": "1f860356-5fa5-4987-edde-0e00e14976a6"
      },
      "source": [
        "# Create an empty array\n",
        "np.empty((4,2))"
      ],
      "execution_count": 12,
      "outputs": [
        {
          "output_type": "execute_result",
          "data": {
            "text/plain": [
              "array([[0.25, 0.5 ],\n",
              "       [0.75, 1.  ],\n",
              "       [1.25, 1.5 ],\n",
              "       [1.75, 2.  ]])"
            ]
          },
          "metadata": {},
          "execution_count": 12
        }
      ]
    },
    {
      "cell_type": "markdown",
      "metadata": {
        "id": "cxKO4BrYsXfL"
      },
      "source": [
        "# Input Output"
      ]
    },
    {
      "cell_type": "markdown",
      "metadata": {
        "id": "8BMfhvv-sXfM"
      },
      "source": [
        "### Saving & Loading On Disk"
      ]
    },
    {
      "cell_type": "code",
      "metadata": {
        "id": "qPZklA6NsXfM"
      },
      "source": [
        "# np.save('my_array', a)\n",
        "# np.savez('array.npz', a, b)\n",
        "# np.load('my_array.npy')"
      ],
      "execution_count": 13,
      "outputs": []
    },
    {
      "cell_type": "code",
      "metadata": {
        "id": "cEiCJM-DsXfN"
      },
      "source": [
        "# np.loadtxt(\"myfile.txt\")\n",
        "# np.genfromtxt(\"my_file.csv\", delimiter=',')\n",
        "# np.savetxt(\"myarray.txt\", a, delimiter=\" \")"
      ],
      "execution_count": 14,
      "outputs": []
    },
    {
      "cell_type": "markdown",
      "metadata": {
        "id": "uv0Ye4HosXfO"
      },
      "source": [
        "# Data Types"
      ]
    },
    {
      "cell_type": "code",
      "metadata": {
        "id": "pFFFXo_tsXfP",
        "colab": {
          "base_uri": "https://localhost:8080/"
        },
        "outputId": "51cdf6d4-762e-4c33-eb90-304f7542df48"
      },
      "source": [
        "# Signed 64-bit integer types\n",
        "np.int64"
      ],
      "execution_count": 15,
      "outputs": [
        {
          "output_type": "execute_result",
          "data": {
            "text/plain": [
              "numpy.int64"
            ]
          },
          "metadata": {},
          "execution_count": 15
        }
      ]
    },
    {
      "cell_type": "code",
      "metadata": {
        "id": "nSX98S3osXfQ",
        "colab": {
          "base_uri": "https://localhost:8080/"
        },
        "outputId": "d42ad80a-39ee-44cc-ad6d-4e7e73876dfb"
      },
      "source": [
        "# Standard double-precision floating point\n",
        "np.float32"
      ],
      "execution_count": 16,
      "outputs": [
        {
          "output_type": "execute_result",
          "data": {
            "text/plain": [
              "numpy.float32"
            ]
          },
          "metadata": {},
          "execution_count": 16
        }
      ]
    },
    {
      "cell_type": "code",
      "metadata": {
        "id": "8AnsriyJsXfQ",
        "colab": {
          "base_uri": "https://localhost:8080/"
        },
        "outputId": "b61c053b-92e7-4dd6-89c9-6c0215a3112b"
      },
      "source": [
        "# Complex numbers represented by 128 floats\n",
        "np.complex"
      ],
      "execution_count": 17,
      "outputs": [
        {
          "output_type": "execute_result",
          "data": {
            "text/plain": [
              "complex"
            ]
          },
          "metadata": {},
          "execution_count": 17
        }
      ]
    },
    {
      "cell_type": "code",
      "metadata": {
        "id": "oY5ftp0SsXfR",
        "colab": {
          "base_uri": "https://localhost:8080/"
        },
        "outputId": "46e039fd-6678-4869-e635-581b9052c2df"
      },
      "source": [
        "# Boolean type storing TRUE and FALSE values\n",
        "np.bool"
      ],
      "execution_count": 18,
      "outputs": [
        {
          "output_type": "execute_result",
          "data": {
            "text/plain": [
              "bool"
            ]
          },
          "metadata": {},
          "execution_count": 18
        }
      ]
    },
    {
      "cell_type": "code",
      "metadata": {
        "id": "dtlVvXWusXfR",
        "colab": {
          "base_uri": "https://localhost:8080/"
        },
        "outputId": "93713497-992a-49df-8316-bc03a65980ea"
      },
      "source": [
        "# Python object type\n",
        "np.object"
      ],
      "execution_count": 19,
      "outputs": [
        {
          "output_type": "execute_result",
          "data": {
            "text/plain": [
              "object"
            ]
          },
          "metadata": {},
          "execution_count": 19
        }
      ]
    },
    {
      "cell_type": "code",
      "metadata": {
        "id": "_60WJw1nsXfR",
        "colab": {
          "base_uri": "https://localhost:8080/"
        },
        "outputId": "aa350b86-348a-4636-99c7-d50d51cfb78e"
      },
      "source": [
        "# Fixed-length string type\n",
        "np.string_"
      ],
      "execution_count": 20,
      "outputs": [
        {
          "output_type": "execute_result",
          "data": {
            "text/plain": [
              "numpy.bytes_"
            ]
          },
          "metadata": {},
          "execution_count": 20
        }
      ]
    },
    {
      "cell_type": "code",
      "metadata": {
        "id": "L3OS49w1sXfS",
        "colab": {
          "base_uri": "https://localhost:8080/"
        },
        "outputId": "88a5b54e-049f-47f4-a2d7-829b39499d76"
      },
      "source": [
        "# Fixed-length unicode type\n",
        "np.unicode_"
      ],
      "execution_count": 21,
      "outputs": [
        {
          "output_type": "execute_result",
          "data": {
            "text/plain": [
              "numpy.str_"
            ]
          },
          "metadata": {},
          "execution_count": 21
        }
      ]
    },
    {
      "cell_type": "markdown",
      "metadata": {
        "id": "YHAybfgCsXfS"
      },
      "source": [
        "# Inspecting Your Array "
      ]
    },
    {
      "cell_type": "code",
      "metadata": {
        "id": "MrIzecU7sXfS",
        "colab": {
          "base_uri": "https://localhost:8080/"
        },
        "outputId": "880fbcd7-7cf8-4cf1-b793-424fd021b549"
      },
      "source": [
        "# Array dimensions\n",
        "a.shape"
      ],
      "execution_count": 22,
      "outputs": [
        {
          "output_type": "execute_result",
          "data": {
            "text/plain": [
              "(3,)"
            ]
          },
          "metadata": {},
          "execution_count": 22
        }
      ]
    },
    {
      "cell_type": "code",
      "metadata": {
        "id": "NnDuRgZDsXfT",
        "colab": {
          "base_uri": "https://localhost:8080/"
        },
        "outputId": "7d272746-24b1-4771-d3a9-5a50a01e5bf7"
      },
      "source": [
        "# Length of array\n",
        "len(a)"
      ],
      "execution_count": 23,
      "outputs": [
        {
          "output_type": "execute_result",
          "data": {
            "text/plain": [
              "3"
            ]
          },
          "metadata": {},
          "execution_count": 23
        }
      ]
    },
    {
      "cell_type": "code",
      "metadata": {
        "id": "ClPcfujusXfT",
        "colab": {
          "base_uri": "https://localhost:8080/"
        },
        "outputId": "04b61a8f-cefd-4853-bd12-dece89d5eb96"
      },
      "source": [
        "# Number of array dimensions\n",
        "b.ndim"
      ],
      "execution_count": 24,
      "outputs": [
        {
          "output_type": "execute_result",
          "data": {
            "text/plain": [
              "2"
            ]
          },
          "metadata": {},
          "execution_count": 24
        }
      ]
    },
    {
      "cell_type": "code",
      "metadata": {
        "id": "EG7raI5NsXfT",
        "colab": {
          "base_uri": "https://localhost:8080/"
        },
        "outputId": "ac0b07b9-4660-42cd-bc26-48709b1ad34f"
      },
      "source": [
        "# Number of array elements\n",
        "e.size"
      ],
      "execution_count": 25,
      "outputs": [
        {
          "output_type": "execute_result",
          "data": {
            "text/plain": [
              "9"
            ]
          },
          "metadata": {},
          "execution_count": 25
        }
      ]
    },
    {
      "cell_type": "code",
      "metadata": {
        "id": "qxEsVp9ssXfT",
        "colab": {
          "base_uri": "https://localhost:8080/"
        },
        "outputId": "55fc47a8-e7f8-4d16-a041-44fcde96ffbd"
      },
      "source": [
        "# Data type of array elements\n",
        "b.dtype"
      ],
      "execution_count": 26,
      "outputs": [
        {
          "output_type": "execute_result",
          "data": {
            "text/plain": [
              "dtype('float64')"
            ]
          },
          "metadata": {},
          "execution_count": 26
        }
      ]
    },
    {
      "cell_type": "code",
      "metadata": {
        "id": "B_LIh-0isXfU",
        "colab": {
          "base_uri": "https://localhost:8080/",
          "height": 35
        },
        "outputId": "2cc238eb-cf0a-4fad-bba7-136fac24706c"
      },
      "source": [
        "# Name of data type\n",
        "b.dtype.name"
      ],
      "execution_count": 27,
      "outputs": [
        {
          "output_type": "execute_result",
          "data": {
            "application/vnd.google.colaboratory.intrinsic+json": {
              "type": "string"
            },
            "text/plain": [
              "'float64'"
            ]
          },
          "metadata": {},
          "execution_count": 27
        }
      ]
    },
    {
      "cell_type": "code",
      "metadata": {
        "id": "Geejui8TsXfU",
        "colab": {
          "base_uri": "https://localhost:8080/"
        },
        "outputId": "91e430bb-3ee9-4dcd-90e1-9b679ad0c2a4"
      },
      "source": [
        "# Convert an array to a different type\n",
        "b.astype(int)"
      ],
      "execution_count": 28,
      "outputs": [
        {
          "output_type": "execute_result",
          "data": {
            "text/plain": [
              "array([[1, 2, 3],\n",
              "       [4, 5, 6]])"
            ]
          },
          "metadata": {},
          "execution_count": 28
        }
      ]
    },
    {
      "cell_type": "markdown",
      "metadata": {
        "id": "n3Rgmf1NsXfU"
      },
      "source": [
        "# Array Mathematics\n",
        "## Arithmetic Operations"
      ]
    },
    {
      "cell_type": "markdown",
      "metadata": {
        "id": "GvxDvjehsXfV"
      },
      "source": [
        "### Subtraction"
      ]
    },
    {
      "cell_type": "code",
      "metadata": {
        "id": "ywJgEJHKsXfV",
        "colab": {
          "base_uri": "https://localhost:8080/"
        },
        "outputId": "ce82be9c-ace9-428a-e531-787f66add457"
      },
      "source": [
        "# Pengurangan Array - a-b\n",
        "g = a - b\n",
        "g"
      ],
      "execution_count": 29,
      "outputs": [
        {
          "output_type": "execute_result",
          "data": {
            "text/plain": [
              "array([[-0.5,  0. ,  0. ],\n",
              "       [-3. , -3. , -3. ]])"
            ]
          },
          "metadata": {},
          "execution_count": 29
        }
      ]
    },
    {
      "cell_type": "code",
      "metadata": {
        "id": "pebqkROWsXfV",
        "colab": {
          "base_uri": "https://localhost:8080/"
        },
        "outputId": "27d70ba2-3d9c-4b7d-909f-03c20ad0c14b"
      },
      "source": [
        "# Pengurangan Array - a-b\n",
        "np.subtract(a,b)"
      ],
      "execution_count": 30,
      "outputs": [
        {
          "output_type": "execute_result",
          "data": {
            "text/plain": [
              "array([[-0.5,  0. ,  0. ],\n",
              "       [-3. , -3. , -3. ]])"
            ]
          },
          "metadata": {},
          "execution_count": 30
        }
      ]
    },
    {
      "cell_type": "markdown",
      "metadata": {
        "id": "ehcBOP9bsXfW"
      },
      "source": [
        "### Addition"
      ]
    },
    {
      "cell_type": "code",
      "metadata": {
        "id": "uavp2SeOsXfW",
        "colab": {
          "base_uri": "https://localhost:8080/"
        },
        "outputId": "19e9cac5-548a-428e-a539-e0dc540fdee5"
      },
      "source": [
        "# Penjumlahan Array - b+a\n",
        "b + a"
      ],
      "execution_count": 31,
      "outputs": [
        {
          "output_type": "execute_result",
          "data": {
            "text/plain": [
              "array([[2.5, 4. , 6. ],\n",
              "       [5. , 7. , 9. ]])"
            ]
          },
          "metadata": {},
          "execution_count": 31
        }
      ]
    },
    {
      "cell_type": "code",
      "metadata": {
        "id": "EUOUQsklsXfW",
        "colab": {
          "base_uri": "https://localhost:8080/"
        },
        "outputId": "de4e35c0-cece-4de8-98a1-00ce9de73cbc"
      },
      "source": [
        "# Penjumlahan Array - b+a\n",
        "np.add(b,a)"
      ],
      "execution_count": 32,
      "outputs": [
        {
          "output_type": "execute_result",
          "data": {
            "text/plain": [
              "array([[2.5, 4. , 6. ],\n",
              "       [5. , 7. , 9. ]])"
            ]
          },
          "metadata": {},
          "execution_count": 32
        }
      ]
    },
    {
      "cell_type": "markdown",
      "metadata": {
        "id": "AkyEI85ksXfW"
      },
      "source": [
        "### Division"
      ]
    },
    {
      "cell_type": "code",
      "metadata": {
        "id": "baoTvhX_sXfW",
        "colab": {
          "base_uri": "https://localhost:8080/"
        },
        "outputId": "a7661d9e-1222-4b66-fd3c-d5f6fb1b541f"
      },
      "source": [
        "# Pembagian Array - a/b\n",
        "a / b"
      ],
      "execution_count": 33,
      "outputs": [
        {
          "output_type": "execute_result",
          "data": {
            "text/plain": [
              "array([[0.66666667, 1.        , 1.        ],\n",
              "       [0.25      , 0.4       , 0.5       ]])"
            ]
          },
          "metadata": {},
          "execution_count": 33
        }
      ]
    },
    {
      "cell_type": "code",
      "metadata": {
        "id": "Bu1k0cTmsXfX",
        "colab": {
          "base_uri": "https://localhost:8080/"
        },
        "outputId": "d362683d-8e42-46d8-8622-bdd82d6b44c6"
      },
      "source": [
        "# Pembagian Array - a/b\n",
        "np.divide(a,b)"
      ],
      "execution_count": 34,
      "outputs": [
        {
          "output_type": "execute_result",
          "data": {
            "text/plain": [
              "array([[0.66666667, 1.        , 1.        ],\n",
              "       [0.25      , 0.4       , 0.5       ]])"
            ]
          },
          "metadata": {},
          "execution_count": 34
        }
      ]
    },
    {
      "cell_type": "markdown",
      "metadata": {
        "id": "Kol10r-osXfX"
      },
      "source": [
        "### Multiplication"
      ]
    },
    {
      "cell_type": "code",
      "metadata": {
        "id": "-4quJB5WsXfX",
        "colab": {
          "base_uri": "https://localhost:8080/"
        },
        "outputId": "d1857152-6273-414a-8251-4a9390098261"
      },
      "source": [
        "# Perkalian Array - a*b\n",
        "a * b"
      ],
      "execution_count": 35,
      "outputs": [
        {
          "output_type": "execute_result",
          "data": {
            "text/plain": [
              "array([[ 1.5,  4. ,  9. ],\n",
              "       [ 4. , 10. , 18. ]])"
            ]
          },
          "metadata": {},
          "execution_count": 35
        }
      ]
    },
    {
      "cell_type": "code",
      "metadata": {
        "id": "NaAwfA7xsXfY",
        "colab": {
          "base_uri": "https://localhost:8080/"
        },
        "outputId": "a41192f0-7a1b-449d-d9ac-2e7bca7aadd7"
      },
      "source": [
        "# Perkalian Array - a*b\n",
        "np.multiply(a,b)"
      ],
      "execution_count": 36,
      "outputs": [
        {
          "output_type": "execute_result",
          "data": {
            "text/plain": [
              "array([[ 1.5,  4. ,  9. ],\n",
              "       [ 4. , 10. , 18. ]])"
            ]
          },
          "metadata": {},
          "execution_count": 36
        }
      ]
    },
    {
      "cell_type": "markdown",
      "metadata": {
        "id": "ZVnL95OOsXfY"
      },
      "source": [
        "### Exponentiation"
      ]
    },
    {
      "cell_type": "code",
      "metadata": {
        "id": "OJn5FO9wsXfY",
        "colab": {
          "base_uri": "https://localhost:8080/"
        },
        "outputId": "cda223d5-71c6-4c2e-bce8-4e402b718de0"
      },
      "source": [
        "# Fungsi eksponensial pada array b\n",
        "np.exp(b)"
      ],
      "execution_count": 37,
      "outputs": [
        {
          "output_type": "execute_result",
          "data": {
            "text/plain": [
              "array([[  4.48168907,   7.3890561 ,  20.08553692],\n",
              "       [ 54.59815003, 148.4131591 , 403.42879349]])"
            ]
          },
          "metadata": {},
          "execution_count": 37
        }
      ]
    },
    {
      "cell_type": "markdown",
      "metadata": {
        "id": "5vpVImUnsXfY"
      },
      "source": [
        "### Square root"
      ]
    },
    {
      "cell_type": "code",
      "metadata": {
        "id": "Jt2DpiztsXfZ",
        "colab": {
          "base_uri": "https://localhost:8080/"
        },
        "outputId": "ec68a1bc-a7d8-4690-d471-90046998f4ee"
      },
      "source": [
        "# Fungsi akar pada array b\n",
        "np.sqrt(b)"
      ],
      "execution_count": 38,
      "outputs": [
        {
          "output_type": "execute_result",
          "data": {
            "text/plain": [
              "array([[1.22474487, 1.41421356, 1.73205081],\n",
              "       [2.        , 2.23606798, 2.44948974]])"
            ]
          },
          "metadata": {},
          "execution_count": 38
        }
      ]
    },
    {
      "cell_type": "markdown",
      "metadata": {
        "id": "pJX3WY_psXfZ"
      },
      "source": [
        "### Print sines of an array"
      ]
    },
    {
      "cell_type": "code",
      "metadata": {
        "id": "h5q--5-wsXfZ",
        "colab": {
          "base_uri": "https://localhost:8080/"
        },
        "outputId": "1be00aaf-fdc2-4e4b-a207-201a1f3516a6"
      },
      "source": [
        "# Nilai Sinus pada array a\n",
        "np.sin(a)"
      ],
      "execution_count": 39,
      "outputs": [
        {
          "output_type": "execute_result",
          "data": {
            "text/plain": [
              "array([0.84147098, 0.90929743, 0.14112001])"
            ]
          },
          "metadata": {},
          "execution_count": 39
        }
      ]
    },
    {
      "cell_type": "markdown",
      "metadata": {
        "id": "lLPJfi4ssXfa"
      },
      "source": [
        "### Element-wise cosine "
      ]
    },
    {
      "cell_type": "code",
      "metadata": {
        "id": "woOBPZ1-sXfa",
        "colab": {
          "base_uri": "https://localhost:8080/"
        },
        "outputId": "664f8fed-c8fd-452d-ede4-5706ac1233f5"
      },
      "source": [
        "# Nilai Cosinus pada array b\n",
        "np.cos(b)"
      ],
      "execution_count": 40,
      "outputs": [
        {
          "output_type": "execute_result",
          "data": {
            "text/plain": [
              "array([[ 0.0707372 , -0.41614684, -0.9899925 ],\n",
              "       [-0.65364362,  0.28366219,  0.96017029]])"
            ]
          },
          "metadata": {},
          "execution_count": 40
        }
      ]
    },
    {
      "cell_type": "markdown",
      "metadata": {
        "id": "BRJPEnx2sXfa"
      },
      "source": [
        "### Element-wise natural logarithm"
      ]
    },
    {
      "cell_type": "code",
      "metadata": {
        "id": "CWWscCvLsXfb",
        "colab": {
          "base_uri": "https://localhost:8080/"
        },
        "outputId": "cc4a523b-10bb-4559-9f4b-470f07a0556b"
      },
      "source": [
        "# Nilai logaritma pada array a\n",
        "np.log(a)"
      ],
      "execution_count": 41,
      "outputs": [
        {
          "output_type": "execute_result",
          "data": {
            "text/plain": [
              "array([0.        , 0.69314718, 1.09861229])"
            ]
          },
          "metadata": {},
          "execution_count": 41
        }
      ]
    },
    {
      "cell_type": "markdown",
      "metadata": {
        "id": "Xlq3z_SHsXfb"
      },
      "source": [
        "### Dot product"
      ]
    },
    {
      "cell_type": "code",
      "metadata": {
        "id": "7o5eOIcQsXfh",
        "colab": {
          "base_uri": "https://localhost:8080/"
        },
        "outputId": "627b167c-2216-463a-a6e5-616c33868588"
      },
      "source": [
        "# Perkalian Titik pada array f\n",
        "e.dot(f)"
      ],
      "execution_count": 42,
      "outputs": [
        {
          "output_type": "execute_result",
          "data": {
            "text/plain": [
              "array([[7., 7., 7.],\n",
              "       [7., 7., 7.],\n",
              "       [7., 7., 7.]])"
            ]
          },
          "metadata": {},
          "execution_count": 42
        }
      ]
    },
    {
      "cell_type": "markdown",
      "metadata": {
        "id": "wFbDy13TsXfi"
      },
      "source": [
        "## Comparison"
      ]
    },
    {
      "cell_type": "markdown",
      "metadata": {
        "id": "GOulWFo2sXfi"
      },
      "source": [
        "### Element-wise comparison"
      ]
    },
    {
      "cell_type": "code",
      "metadata": {
        "id": "x5HBUsrUsXfj",
        "colab": {
          "base_uri": "https://localhost:8080/"
        },
        "outputId": "724b83c2-8a91-489b-db82-b4ee32ba88a2"
      },
      "source": [
        "# Perbandingan elemen array a==b \n",
        "a == b"
      ],
      "execution_count": 43,
      "outputs": [
        {
          "output_type": "execute_result",
          "data": {
            "text/plain": [
              "array([[False,  True,  True],\n",
              "       [False, False, False]])"
            ]
          },
          "metadata": {},
          "execution_count": 43
        }
      ]
    },
    {
      "cell_type": "code",
      "metadata": {
        "id": "rastV-HtsXfj",
        "colab": {
          "base_uri": "https://localhost:8080/"
        },
        "outputId": "5ca14ef7-82ee-44f4-8e2b-cf941bf2ad19"
      },
      "source": [
        "# Perbandingan elemen array a<2\n",
        "a < 2"
      ],
      "execution_count": 44,
      "outputs": [
        {
          "output_type": "execute_result",
          "data": {
            "text/plain": [
              "array([ True, False, False])"
            ]
          },
          "metadata": {},
          "execution_count": 44
        }
      ]
    },
    {
      "cell_type": "markdown",
      "metadata": {
        "id": "VlnWPKVnsXfk"
      },
      "source": [
        "### Array-wise comparison"
      ]
    },
    {
      "cell_type": "code",
      "metadata": {
        "id": "hjDq_SOIsXfk",
        "colab": {
          "base_uri": "https://localhost:8080/"
        },
        "outputId": "81e367ac-21e8-4a94-d041-4c1e6a3f9afb"
      },
      "source": [
        "# Perbandingan array a,b\n",
        "np.array_equal(a, b)"
      ],
      "execution_count": 45,
      "outputs": [
        {
          "output_type": "execute_result",
          "data": {
            "text/plain": [
              "False"
            ]
          },
          "metadata": {},
          "execution_count": 45
        }
      ]
    },
    {
      "cell_type": "markdown",
      "metadata": {
        "id": "fDW0MhWrsXfl"
      },
      "source": [
        "## Aggregate Functions"
      ]
    },
    {
      "cell_type": "markdown",
      "metadata": {
        "id": "Ga0tHa8FsXfl"
      },
      "source": [
        "### Array-wise sum"
      ]
    },
    {
      "cell_type": "code",
      "metadata": {
        "id": "WSH_EiMNsXfl",
        "colab": {
          "base_uri": "https://localhost:8080/"
        },
        "outputId": "e8528d56-d7bd-4ab2-a3ff-f64bc2dd221a"
      },
      "source": [
        "# Agregasi nilai total array a\n",
        "a.sum()"
      ],
      "execution_count": 46,
      "outputs": [
        {
          "output_type": "execute_result",
          "data": {
            "text/plain": [
              "6"
            ]
          },
          "metadata": {},
          "execution_count": 46
        }
      ]
    },
    {
      "cell_type": "markdown",
      "metadata": {
        "id": "z0rOqTdCsXfm"
      },
      "source": [
        "### Array-wise minimum value"
      ]
    },
    {
      "cell_type": "code",
      "metadata": {
        "id": "nRS4799wsXfm",
        "colab": {
          "base_uri": "https://localhost:8080/"
        },
        "outputId": "fa8f0a29-f2b8-4241-b3f0-202db63a88b4"
      },
      "source": [
        "# Agregasi nilai minimal array a\n",
        "a.min()"
      ],
      "execution_count": 47,
      "outputs": [
        {
          "output_type": "execute_result",
          "data": {
            "text/plain": [
              "1"
            ]
          },
          "metadata": {},
          "execution_count": 47
        }
      ]
    },
    {
      "cell_type": "markdown",
      "metadata": {
        "id": "m5eiZmzfsXfm"
      },
      "source": [
        "### Maximum value of an array row"
      ]
    },
    {
      "cell_type": "code",
      "metadata": {
        "id": "q6XkpKoPsXfn",
        "colab": {
          "base_uri": "https://localhost:8080/"
        },
        "outputId": "90532ac0-0a53-473d-eec9-c5ac09092c0a"
      },
      "source": [
        "# Agregasi nilai maksimal array b\n",
        "b.max(axis =0)"
      ],
      "execution_count": 48,
      "outputs": [
        {
          "output_type": "execute_result",
          "data": {
            "text/plain": [
              "array([4., 5., 6.])"
            ]
          },
          "metadata": {},
          "execution_count": 48
        }
      ]
    },
    {
      "cell_type": "markdown",
      "metadata": {
        "id": "4pPPFvTPsXfn"
      },
      "source": [
        "### Cumulative sum of the elements"
      ]
    },
    {
      "cell_type": "code",
      "metadata": {
        "id": "I9iWLb3RsXfo",
        "colab": {
          "base_uri": "https://localhost:8080/"
        },
        "outputId": "f959b1b7-7d1d-49d3-ef08-ff144080db11"
      },
      "source": [
        "# Nilai kumulatif pada array b\n",
        "b.cumsum(axis=1)"
      ],
      "execution_count": 49,
      "outputs": [
        {
          "output_type": "execute_result",
          "data": {
            "text/plain": [
              "array([[ 1.5,  3.5,  6.5],\n",
              "       [ 4. ,  9. , 15. ]])"
            ]
          },
          "metadata": {},
          "execution_count": 49
        }
      ]
    },
    {
      "cell_type": "markdown",
      "metadata": {
        "id": "ww7suH0CsXfo"
      },
      "source": [
        "### Mean"
      ]
    },
    {
      "cell_type": "code",
      "metadata": {
        "id": "AV2eoCwHsXfo",
        "colab": {
          "base_uri": "https://localhost:8080/"
        },
        "outputId": "83e1f5c0-5364-40f3-8f3d-2de1cf80e9a9"
      },
      "source": [
        "# Nilai Mean array a\n",
        "a.mean()"
      ],
      "execution_count": 50,
      "outputs": [
        {
          "output_type": "execute_result",
          "data": {
            "text/plain": [
              "2.0"
            ]
          },
          "metadata": {},
          "execution_count": 50
        }
      ]
    },
    {
      "cell_type": "markdown",
      "metadata": {
        "id": "6W7cvChWsXfp"
      },
      "source": [
        "### Median "
      ]
    },
    {
      "cell_type": "code",
      "metadata": {
        "id": "_9yqhoXusXfp",
        "colab": {
          "base_uri": "https://localhost:8080/"
        },
        "outputId": "cd04375a-a7bd-45de-b5c8-5f717646d0a6"
      },
      "source": [
        "# Nilai Median array b\n",
        "np.median(b)"
      ],
      "execution_count": 51,
      "outputs": [
        {
          "output_type": "execute_result",
          "data": {
            "text/plain": [
              "3.5"
            ]
          },
          "metadata": {},
          "execution_count": 51
        }
      ]
    },
    {
      "cell_type": "markdown",
      "metadata": {
        "id": "9oCKYAf1sXfq"
      },
      "source": [
        "### Correlation coefficient"
      ]
    },
    {
      "cell_type": "code",
      "metadata": {
        "id": "gpK0oFyKsXfq",
        "colab": {
          "base_uri": "https://localhost:8080/"
        },
        "outputId": "c2f31e32-bb32-4b5e-dcd0-84567628f580"
      },
      "source": [
        "# Nilai korelasi koefisien array a\n",
        "np.corrcoef(a)"
      ],
      "execution_count": 52,
      "outputs": [
        {
          "output_type": "execute_result",
          "data": {
            "text/plain": [
              "1.0"
            ]
          },
          "metadata": {},
          "execution_count": 52
        }
      ]
    },
    {
      "cell_type": "markdown",
      "metadata": {
        "id": "RRVfnzjrsXfq"
      },
      "source": [
        "### Standard deviation"
      ]
    },
    {
      "cell_type": "code",
      "metadata": {
        "id": "vSNrmX-1sXfr",
        "colab": {
          "base_uri": "https://localhost:8080/"
        },
        "outputId": "aee7810c-0f55-4891-bd8d-24383346b91f"
      },
      "source": [
        "# Nilai standar defiasi array b\n",
        "np.std(b)"
      ],
      "execution_count": 53,
      "outputs": [
        {
          "output_type": "execute_result",
          "data": {
            "text/plain": [
              "1.5920810978785667"
            ]
          },
          "metadata": {},
          "execution_count": 53
        }
      ]
    },
    {
      "cell_type": "markdown",
      "metadata": {
        "id": "KLrk2t8osXfr"
      },
      "source": [
        "# Copying Arrays"
      ]
    },
    {
      "cell_type": "markdown",
      "metadata": {
        "id": "NvyzG5_isXfr"
      },
      "source": [
        "### Create a view of the array with the same data"
      ]
    },
    {
      "cell_type": "code",
      "metadata": {
        "id": "U9hvdixasXfs",
        "colab": {
          "base_uri": "https://localhost:8080/"
        },
        "outputId": "f7fcc3f6-92b3-4586-ec3e-c62afc0102fc"
      },
      "source": [
        "# Melihat isi array a\n",
        "h = a.view()\n",
        "h"
      ],
      "execution_count": 54,
      "outputs": [
        {
          "output_type": "execute_result",
          "data": {
            "text/plain": [
              "array([1, 2, 3])"
            ]
          },
          "metadata": {},
          "execution_count": 54
        }
      ]
    },
    {
      "cell_type": "markdown",
      "metadata": {
        "id": "8aqmEqA_sXfs"
      },
      "source": [
        "### Create a copy of the array"
      ]
    },
    {
      "cell_type": "code",
      "metadata": {
        "id": "t0MpbWLlsXft",
        "colab": {
          "base_uri": "https://localhost:8080/"
        },
        "outputId": "1017b9b7-ad39-4e59-99b9-a1f888ae0b61"
      },
      "source": [
        "# Copy array a\n",
        "np.copy(a)"
      ],
      "execution_count": 55,
      "outputs": [
        {
          "output_type": "execute_result",
          "data": {
            "text/plain": [
              "array([1, 2, 3])"
            ]
          },
          "metadata": {},
          "execution_count": 55
        }
      ]
    },
    {
      "cell_type": "markdown",
      "metadata": {
        "id": "vjDPekhcsXft"
      },
      "source": [
        "### Create a deep copy of the array"
      ]
    },
    {
      "cell_type": "code",
      "metadata": {
        "id": "yjMxtm67sXft",
        "colab": {
          "base_uri": "https://localhost:8080/"
        },
        "outputId": "c00f5595-cb42-4a8b-db7c-55777f3a999a"
      },
      "source": [
        "# Deef copy array a\n",
        "h = a.copy()\n",
        "h"
      ],
      "execution_count": 56,
      "outputs": [
        {
          "output_type": "execute_result",
          "data": {
            "text/plain": [
              "array([1, 2, 3])"
            ]
          },
          "metadata": {},
          "execution_count": 56
        }
      ]
    },
    {
      "cell_type": "markdown",
      "metadata": {
        "id": "RIZz0ZW8sXfu"
      },
      "source": [
        "# Sorting Arrays"
      ]
    },
    {
      "cell_type": "markdown",
      "metadata": {
        "id": "huVZNc0ZsXfu"
      },
      "source": [
        "### Sort an array"
      ]
    },
    {
      "cell_type": "code",
      "metadata": {
        "id": "7CluyJD5sXfu",
        "colab": {
          "base_uri": "https://localhost:8080/"
        },
        "outputId": "87703c03-cf36-4cc2-b8d1-20e83d8ff34c"
      },
      "source": [
        "# Mengurutkan array a\n",
        "a.sort()\n",
        "a"
      ],
      "execution_count": 57,
      "outputs": [
        {
          "output_type": "execute_result",
          "data": {
            "text/plain": [
              "array([1, 2, 3])"
            ]
          },
          "metadata": {},
          "execution_count": 57
        }
      ]
    },
    {
      "cell_type": "markdown",
      "metadata": {
        "id": "5Y4m6L6EsXfv"
      },
      "source": [
        "### Sort the elements of an array's axis"
      ]
    },
    {
      "cell_type": "code",
      "metadata": {
        "id": "-gHWPbsdsXfv",
        "colab": {
          "base_uri": "https://localhost:8080/"
        },
        "outputId": "33ff2561-910b-4a63-d472-78850fa5faba"
      },
      "source": [
        "# Mengurutkan array c\n",
        "c.sort(axis=0)\n",
        "c"
      ],
      "execution_count": 58,
      "outputs": [
        {
          "output_type": "execute_result",
          "data": {
            "text/plain": [
              "array([[[1.5, 2. , 1. ],\n",
              "        [4. , 5. , 6. ]],\n",
              "\n",
              "       [[3. , 2. , 3. ],\n",
              "        [4. , 5. , 6. ]]])"
            ]
          },
          "metadata": {},
          "execution_count": 58
        }
      ]
    },
    {
      "cell_type": "markdown",
      "metadata": {
        "id": "wVO9P3rusXfw"
      },
      "source": [
        "# Subsetting, Slicing, Indexing"
      ]
    },
    {
      "cell_type": "markdown",
      "metadata": {
        "id": "hKQPVLBgsXfw"
      },
      "source": [
        "## Subsetting"
      ]
    },
    {
      "cell_type": "markdown",
      "metadata": {
        "id": "nkos5wdQsXfw"
      },
      "source": [
        "### Select the element at the 2nd index"
      ]
    },
    {
      "cell_type": "code",
      "metadata": {
        "id": "sdoMbzHHsXfx",
        "colab": {
          "base_uri": "https://localhost:8080/"
        },
        "outputId": "0fba511e-f76e-4ce1-de9c-ec5223915c98"
      },
      "source": [
        "# Mengambil nilai index ke 2 pada elemen array a\n",
        "a[2]"
      ],
      "execution_count": 59,
      "outputs": [
        {
          "output_type": "execute_result",
          "data": {
            "text/plain": [
              "3"
            ]
          },
          "metadata": {},
          "execution_count": 59
        }
      ]
    },
    {
      "cell_type": "markdown",
      "metadata": {
        "id": "7Y4O8SnUsXfx"
      },
      "source": [
        "### Select the element at row 1 column 2 (equivalent to b[1][2])\n"
      ]
    },
    {
      "cell_type": "code",
      "metadata": {
        "id": "CR8r0zJ4sXfy",
        "colab": {
          "base_uri": "https://localhost:8080/"
        },
        "outputId": "7b0b4a20-21ca-4b23-ee54-997ede9ddfc5"
      },
      "source": [
        "# Mengambil nilai baris ke 1 kolom ke 2 pada elemen array a\n",
        "b[1,2]"
      ],
      "execution_count": 60,
      "outputs": [
        {
          "output_type": "execute_result",
          "data": {
            "text/plain": [
              "6.0"
            ]
          },
          "metadata": {},
          "execution_count": 60
        }
      ]
    },
    {
      "cell_type": "markdown",
      "metadata": {
        "id": "drLOEvRpsXfy"
      },
      "source": [
        "## Slicing"
      ]
    },
    {
      "cell_type": "markdown",
      "metadata": {
        "id": "hlgx2dUjsXfy"
      },
      "source": [
        "### Select items at index 0 and 1"
      ]
    },
    {
      "cell_type": "code",
      "metadata": {
        "id": "JxCTlCQosXf1",
        "colab": {
          "base_uri": "https://localhost:8080/"
        },
        "outputId": "45970adb-7c74-47cd-87b1-344612f12960"
      },
      "source": [
        "# Mengambil nilai index ke 0 - 1 pada elemen array a\n",
        "a[0:2]"
      ],
      "execution_count": 61,
      "outputs": [
        {
          "output_type": "execute_result",
          "data": {
            "text/plain": [
              "array([1, 2])"
            ]
          },
          "metadata": {},
          "execution_count": 61
        }
      ]
    },
    {
      "cell_type": "markdown",
      "metadata": {
        "id": "zyMN1FMgsXf1"
      },
      "source": [
        "### Select items at rows 0 and 1 in column 1"
      ]
    },
    {
      "cell_type": "code",
      "metadata": {
        "id": "WKYGyK50sXf2",
        "colab": {
          "base_uri": "https://localhost:8080/"
        },
        "outputId": "2d6160f0-65b9-4cf3-88c4-2cc13c927141"
      },
      "source": [
        "# Mengambil nilai index ke 0 - 1 kolom ke 1 pada elemen array b\n",
        "b[0:2,1] "
      ],
      "execution_count": 62,
      "outputs": [
        {
          "output_type": "execute_result",
          "data": {
            "text/plain": [
              "array([2., 5.])"
            ]
          },
          "metadata": {},
          "execution_count": 62
        }
      ]
    },
    {
      "cell_type": "markdown",
      "metadata": {
        "id": "rPfu4GJIsXf2"
      },
      "source": [
        "### Select all items at row 0 (equivalent to b[0:1, :])"
      ]
    },
    {
      "cell_type": "code",
      "metadata": {
        "id": "TcJjYluksXf3",
        "colab": {
          "base_uri": "https://localhost:8080/"
        },
        "outputId": "145d09d3-d58b-487b-da12-c410b3cb61ed"
      },
      "source": [
        "# Mengambil semua nilai baris ke 0 pada elemen array b\n",
        "b[:1]"
      ],
      "execution_count": 63,
      "outputs": [
        {
          "output_type": "execute_result",
          "data": {
            "text/plain": [
              "array([[1.5, 2. , 3. ]])"
            ]
          },
          "metadata": {},
          "execution_count": 63
        }
      ]
    },
    {
      "cell_type": "markdown",
      "metadata": {
        "id": "apfYFg4jsXf3"
      },
      "source": [
        "### Same as [1,:,:]"
      ]
    },
    {
      "cell_type": "code",
      "metadata": {
        "id": "rr2tgnZdsXf3",
        "colab": {
          "base_uri": "https://localhost:8080/"
        },
        "outputId": "24a45e4a-a605-4205-e143-fa504bae605f"
      },
      "source": [
        "# Mengambil semua nilai baris ke 1 pada elemen array c\n",
        "c[1,...]"
      ],
      "execution_count": 64,
      "outputs": [
        {
          "output_type": "execute_result",
          "data": {
            "text/plain": [
              "array([[3., 2., 3.],\n",
              "       [4., 5., 6.]])"
            ]
          },
          "metadata": {},
          "execution_count": 64
        }
      ]
    },
    {
      "cell_type": "markdown",
      "metadata": {
        "id": "2dkMqyFVsXf4"
      },
      "source": [
        "### Reversed array a "
      ]
    },
    {
      "cell_type": "code",
      "metadata": {
        "id": "8c3KPD8TsXf4",
        "colab": {
          "base_uri": "https://localhost:8080/"
        },
        "outputId": "56e7d17c-63e3-4d7c-9ea0-18d674c4236a"
      },
      "source": [
        "# Mengambil nilai pada elemen array a secara terbalik\n",
        "a[ : :-1]"
      ],
      "execution_count": 65,
      "outputs": [
        {
          "output_type": "execute_result",
          "data": {
            "text/plain": [
              "array([3, 2, 1])"
            ]
          },
          "metadata": {},
          "execution_count": 65
        }
      ]
    },
    {
      "cell_type": "markdown",
      "metadata": {
        "id": "JoqTrBTSsXf5"
      },
      "source": [
        "# Array Manipulation"
      ]
    },
    {
      "cell_type": "markdown",
      "metadata": {
        "id": "7RNzpi_KsXf5"
      },
      "source": [
        "## Transposing Array"
      ]
    },
    {
      "cell_type": "markdown",
      "metadata": {
        "id": "UDQZAnwbsXf5"
      },
      "source": [
        "### Permute array dimensions"
      ]
    },
    {
      "cell_type": "code",
      "metadata": {
        "id": "A10Tf4I_sXf6"
      },
      "source": [
        "# Transpose array b\n",
        "i = np.transpose(b)"
      ],
      "execution_count": 66,
      "outputs": []
    },
    {
      "cell_type": "code",
      "metadata": {
        "id": "9jtPsDKlsXf6",
        "colab": {
          "base_uri": "https://localhost:8080/"
        },
        "outputId": "6f63e1cc-b3d4-499a-96dc-5cd09fba5be0"
      },
      "source": [
        "i.T"
      ],
      "execution_count": 67,
      "outputs": [
        {
          "output_type": "execute_result",
          "data": {
            "text/plain": [
              "array([[1.5, 2. , 3. ],\n",
              "       [4. , 5. , 6. ]])"
            ]
          },
          "metadata": {},
          "execution_count": 67
        }
      ]
    },
    {
      "cell_type": "markdown",
      "metadata": {
        "id": "cW5VXqInsXf6"
      },
      "source": [
        "##  Changing Array Shape"
      ]
    },
    {
      "cell_type": "markdown",
      "metadata": {
        "id": "tk9tOHi0sXf7"
      },
      "source": [
        "### Flatten the array"
      ]
    },
    {
      "cell_type": "code",
      "metadata": {
        "id": "YF3WtMPWsXf7",
        "colab": {
          "base_uri": "https://localhost:8080/"
        },
        "outputId": "6aaf447c-10b7-4541-a4d0-0c5e0ac4eee3"
      },
      "source": [
        "b"
      ],
      "execution_count": 68,
      "outputs": [
        {
          "output_type": "execute_result",
          "data": {
            "text/plain": [
              "array([[1.5, 2. , 3. ],\n",
              "       [4. , 5. , 6. ]])"
            ]
          },
          "metadata": {},
          "execution_count": 68
        }
      ]
    },
    {
      "cell_type": "code",
      "metadata": {
        "id": "_o860hBEsXf8",
        "colab": {
          "base_uri": "https://localhost:8080/"
        },
        "outputId": "4bdb1557-1939-4c1e-cd65-8c8c875cdfe0"
      },
      "source": [
        "# Meratakan array b menjadi satu dimensi\n",
        "b.ravel()"
      ],
      "execution_count": 69,
      "outputs": [
        {
          "output_type": "execute_result",
          "data": {
            "text/plain": [
              "array([1.5, 2. , 3. , 4. , 5. , 6. ])"
            ]
          },
          "metadata": {},
          "execution_count": 69
        }
      ]
    },
    {
      "cell_type": "markdown",
      "metadata": {
        "id": "s-1r6us6sXf8"
      },
      "source": [
        "### Reshape, but don’t change data"
      ]
    },
    {
      "cell_type": "code",
      "metadata": {
        "id": "soiD6MeYsXf8",
        "colab": {
          "base_uri": "https://localhost:8080/"
        },
        "outputId": "0a3ed3c7-8e9b-4a4c-9870-45cd6580f28f"
      },
      "source": [
        "g"
      ],
      "execution_count": 70,
      "outputs": [
        {
          "output_type": "execute_result",
          "data": {
            "text/plain": [
              "array([[-0.5,  0. ,  0. ],\n",
              "       [-3. , -3. , -3. ]])"
            ]
          },
          "metadata": {},
          "execution_count": 70
        }
      ]
    },
    {
      "cell_type": "code",
      "metadata": {
        "id": "RCHtLLXpsXf9",
        "colab": {
          "base_uri": "https://localhost:8080/"
        },
        "outputId": "38410d30-69b2-42c0-d15d-a6eea56c3d75"
      },
      "source": [
        "# Mengubah array g menjadi 2 dimensi\n",
        "g.reshape(3,-2)"
      ],
      "execution_count": 71,
      "outputs": [
        {
          "output_type": "execute_result",
          "data": {
            "text/plain": [
              "array([[-0.5,  0. ],\n",
              "       [ 0. , -3. ],\n",
              "       [-3. , -3. ]])"
            ]
          },
          "metadata": {},
          "execution_count": 71
        }
      ]
    },
    {
      "cell_type": "markdown",
      "metadata": {
        "id": "DH1aBOkjsXf9"
      },
      "source": [
        "## Adding/Removing Elements"
      ]
    },
    {
      "cell_type": "markdown",
      "metadata": {
        "id": "Qz39qsJqsXf9"
      },
      "source": [
        "### Return a new array with shape (2,6) "
      ]
    },
    {
      "cell_type": "code",
      "metadata": {
        "id": "lxYizlsEsXf-",
        "colab": {
          "base_uri": "https://localhost:8080/"
        },
        "outputId": "9dcdffcb-b9e1-4b95-e1f2-55dc260af966"
      },
      "source": [
        "h"
      ],
      "execution_count": 72,
      "outputs": [
        {
          "output_type": "execute_result",
          "data": {
            "text/plain": [
              "array([1, 2, 3])"
            ]
          },
          "metadata": {},
          "execution_count": 72
        }
      ]
    },
    {
      "cell_type": "code",
      "metadata": {
        "scrolled": true,
        "id": "rVNC8KmAsXf-",
        "colab": {
          "base_uri": "https://localhost:8080/"
        },
        "outputId": "bb82f909-375a-49b3-a041-38fc2af28927"
      },
      "source": [
        "# Menambah jumlah elemen array\n",
        "np.resize(h, (2,6))"
      ],
      "execution_count": 73,
      "outputs": [
        {
          "output_type": "execute_result",
          "data": {
            "text/plain": [
              "array([[1, 2, 3, 1, 2, 3],\n",
              "       [1, 2, 3, 1, 2, 3]])"
            ]
          },
          "metadata": {},
          "execution_count": 73
        }
      ]
    },
    {
      "cell_type": "markdown",
      "metadata": {
        "id": "xs6tA9cusXf-"
      },
      "source": [
        "### Append items to an array"
      ]
    },
    {
      "cell_type": "code",
      "metadata": {
        "id": "8eCV7tRZsXf_",
        "colab": {
          "base_uri": "https://localhost:8080/"
        },
        "outputId": "c36461ee-d7d8-4861-f672-6b5085366a94"
      },
      "source": [
        "h"
      ],
      "execution_count": 74,
      "outputs": [
        {
          "output_type": "execute_result",
          "data": {
            "text/plain": [
              "array([1, 2, 3])"
            ]
          },
          "metadata": {},
          "execution_count": 74
        }
      ]
    },
    {
      "cell_type": "code",
      "metadata": {
        "id": "4AAtuI2tsXf_",
        "colab": {
          "base_uri": "https://localhost:8080/"
        },
        "outputId": "4cf020d8-4cf9-48e3-cce4-83c9a76102f3"
      },
      "source": [
        "g"
      ],
      "execution_count": 75,
      "outputs": [
        {
          "output_type": "execute_result",
          "data": {
            "text/plain": [
              "array([[-0.5,  0. ,  0. ],\n",
              "       [-3. , -3. , -3. ]])"
            ]
          },
          "metadata": {},
          "execution_count": 75
        }
      ]
    },
    {
      "cell_type": "code",
      "metadata": {
        "id": "KGTzqLtLsXf_",
        "colab": {
          "base_uri": "https://localhost:8080/"
        },
        "outputId": "6017d478-7354-4231-c6af-42a50645c4d5"
      },
      "source": [
        "# Menambahkan elemen array h dengan array g \n",
        "np.append(h,g)"
      ],
      "execution_count": 76,
      "outputs": [
        {
          "output_type": "execute_result",
          "data": {
            "text/plain": [
              "array([ 1. ,  2. ,  3. , -0.5,  0. ,  0. , -3. , -3. , -3. ])"
            ]
          },
          "metadata": {},
          "execution_count": 76
        }
      ]
    },
    {
      "cell_type": "markdown",
      "metadata": {
        "id": "1WwvFYnJsXgA"
      },
      "source": [
        "### Insert items in an array"
      ]
    },
    {
      "cell_type": "code",
      "metadata": {
        "id": "JNmsYUjAsXgA",
        "colab": {
          "base_uri": "https://localhost:8080/"
        },
        "outputId": "76db3a64-0e11-4b8b-be06-dea90068d4e4"
      },
      "source": [
        "a"
      ],
      "execution_count": 77,
      "outputs": [
        {
          "output_type": "execute_result",
          "data": {
            "text/plain": [
              "array([1, 2, 3])"
            ]
          },
          "metadata": {},
          "execution_count": 77
        }
      ]
    },
    {
      "cell_type": "code",
      "metadata": {
        "id": "xtYH69x8sXgA",
        "colab": {
          "base_uri": "https://localhost:8080/"
        },
        "outputId": "9204129e-c90b-4c44-82e2-29684e8aa302"
      },
      "source": [
        "# Memasukkan nilai 5 index ke 1 dalam array a\n",
        "np.insert(a, 1, 5)"
      ],
      "execution_count": 78,
      "outputs": [
        {
          "output_type": "execute_result",
          "data": {
            "text/plain": [
              "array([1, 5, 2, 3])"
            ]
          },
          "metadata": {},
          "execution_count": 78
        }
      ]
    },
    {
      "cell_type": "markdown",
      "metadata": {
        "id": "8vPo_C93sXgA"
      },
      "source": [
        "### Delete items from an array"
      ]
    },
    {
      "cell_type": "code",
      "metadata": {
        "id": "zxbUSoEUsXgB",
        "colab": {
          "base_uri": "https://localhost:8080/"
        },
        "outputId": "6aaba22a-b823-4c3a-fa03-f27f900d16e4"
      },
      "source": [
        "a"
      ],
      "execution_count": 79,
      "outputs": [
        {
          "output_type": "execute_result",
          "data": {
            "text/plain": [
              "array([1, 2, 3])"
            ]
          },
          "metadata": {},
          "execution_count": 79
        }
      ]
    },
    {
      "cell_type": "code",
      "metadata": {
        "id": "--E6RLSgsXgB",
        "colab": {
          "base_uri": "https://localhost:8080/"
        },
        "outputId": "568f9171-7f69-420c-dc06-e39b319efe31"
      },
      "source": [
        "# Menghapus elemen array a index ke 1\n",
        "np.delete(a,[1])"
      ],
      "execution_count": 80,
      "outputs": [
        {
          "output_type": "execute_result",
          "data": {
            "text/plain": [
              "array([1, 3])"
            ]
          },
          "metadata": {},
          "execution_count": 80
        }
      ]
    },
    {
      "cell_type": "markdown",
      "metadata": {
        "id": "k0lYA6ulsXgB"
      },
      "source": [
        "## Combining Arrays"
      ]
    },
    {
      "cell_type": "markdown",
      "metadata": {
        "id": "s0gpp_R7sXgB"
      },
      "source": [
        "###  Concatenate arrays"
      ]
    },
    {
      "cell_type": "code",
      "metadata": {
        "id": "PUKsb9JosXgC",
        "colab": {
          "base_uri": "https://localhost:8080/"
        },
        "outputId": "7c98a673-7bd5-4b0c-e437-7ad5aea5b910"
      },
      "source": [
        "a"
      ],
      "execution_count": 81,
      "outputs": [
        {
          "output_type": "execute_result",
          "data": {
            "text/plain": [
              "array([1, 2, 3])"
            ]
          },
          "metadata": {},
          "execution_count": 81
        }
      ]
    },
    {
      "cell_type": "code",
      "metadata": {
        "id": "N-xuSxw2sXgC",
        "colab": {
          "base_uri": "https://localhost:8080/"
        },
        "outputId": "93559311-0fe3-425c-81a7-549d4c0b208b"
      },
      "source": [
        "d"
      ],
      "execution_count": 82,
      "outputs": [
        {
          "output_type": "execute_result",
          "data": {
            "text/plain": [
              "array([10, 15, 20])"
            ]
          },
          "metadata": {},
          "execution_count": 82
        }
      ]
    },
    {
      "cell_type": "code",
      "metadata": {
        "id": "yOZrqK2SsXgC",
        "colab": {
          "base_uri": "https://localhost:8080/"
        },
        "outputId": "7fad05bf-d95d-4e86-94ad-3559e078e84a"
      },
      "source": [
        "# Menggabungkan elemen array a dan d\n",
        "np.concatenate((a,d),axis=0) "
      ],
      "execution_count": 83,
      "outputs": [
        {
          "output_type": "execute_result",
          "data": {
            "text/plain": [
              "array([ 1,  2,  3, 10, 15, 20])"
            ]
          },
          "metadata": {},
          "execution_count": 83
        }
      ]
    },
    {
      "cell_type": "markdown",
      "metadata": {
        "id": "0sBAzX6DsXgC"
      },
      "source": [
        "### Stack arrays vertically (row-wise)"
      ]
    },
    {
      "cell_type": "code",
      "metadata": {
        "id": "RWYRB5uUsXgD",
        "colab": {
          "base_uri": "https://localhost:8080/"
        },
        "outputId": "db6bbbde-0785-402d-f838-fa2e30b7e8bb"
      },
      "source": [
        "a"
      ],
      "execution_count": 84,
      "outputs": [
        {
          "output_type": "execute_result",
          "data": {
            "text/plain": [
              "array([1, 2, 3])"
            ]
          },
          "metadata": {},
          "execution_count": 84
        }
      ]
    },
    {
      "cell_type": "code",
      "metadata": {
        "id": "M9Ak8OcqsXgD",
        "colab": {
          "base_uri": "https://localhost:8080/"
        },
        "outputId": "b1be1ae4-a82d-408b-e03a-316428bceccb"
      },
      "source": [
        "b"
      ],
      "execution_count": 85,
      "outputs": [
        {
          "output_type": "execute_result",
          "data": {
            "text/plain": [
              "array([[1.5, 2. , 3. ],\n",
              "       [4. , 5. , 6. ]])"
            ]
          },
          "metadata": {},
          "execution_count": 85
        }
      ]
    },
    {
      "cell_type": "code",
      "metadata": {
        "scrolled": true,
        "id": "N0tuSXqUsXgD",
        "colab": {
          "base_uri": "https://localhost:8080/"
        },
        "outputId": "cd7d7438-6b8c-421f-96e0-5820b5b9d889"
      },
      "source": [
        "# Susunan array secara vertikal (berdasarkan baris) array a dan b\n",
        "np.vstack((a,b))"
      ],
      "execution_count": 86,
      "outputs": [
        {
          "output_type": "execute_result",
          "data": {
            "text/plain": [
              "array([[1. , 2. , 3. ],\n",
              "       [1.5, 2. , 3. ],\n",
              "       [4. , 5. , 6. ]])"
            ]
          },
          "metadata": {},
          "execution_count": 86
        }
      ]
    },
    {
      "cell_type": "markdown",
      "metadata": {
        "id": "--wIKGEUsXgD"
      },
      "source": [
        "### Stack arrays vertically (row-wise)"
      ]
    },
    {
      "cell_type": "code",
      "metadata": {
        "id": "5bPoMFpAsXgE",
        "colab": {
          "base_uri": "https://localhost:8080/"
        },
        "outputId": "bdd90ee4-edc5-439a-c733-8257313646ee"
      },
      "source": [
        "e"
      ],
      "execution_count": 87,
      "outputs": [
        {
          "output_type": "execute_result",
          "data": {
            "text/plain": [
              "array([[7, 7, 7],\n",
              "       [7, 7, 7],\n",
              "       [7, 7, 7]])"
            ]
          },
          "metadata": {},
          "execution_count": 87
        }
      ]
    },
    {
      "cell_type": "code",
      "metadata": {
        "id": "2Po7tUyfsXgE",
        "colab": {
          "base_uri": "https://localhost:8080/"
        },
        "outputId": "c888607f-f92b-4597-ed5d-0aa7f9b5ec57"
      },
      "source": [
        "f"
      ],
      "execution_count": 88,
      "outputs": [
        {
          "output_type": "execute_result",
          "data": {
            "text/plain": [
              "array([[1., 0., 0.],\n",
              "       [0., 1., 0.],\n",
              "       [0., 0., 1.]])"
            ]
          },
          "metadata": {},
          "execution_count": 88
        }
      ]
    },
    {
      "cell_type": "code",
      "metadata": {
        "id": "jeRULHqHsXgE",
        "colab": {
          "base_uri": "https://localhost:8080/"
        },
        "outputId": "d2a791f4-8306-4b2b-e7d0-34fb4b1caafa"
      },
      "source": [
        "# Susunan array secara vertikal (berdasarkan baris) array e dan f\n",
        "np.r_[e,f]"
      ],
      "execution_count": 89,
      "outputs": [
        {
          "output_type": "execute_result",
          "data": {
            "text/plain": [
              "array([[7., 7., 7.],\n",
              "       [7., 7., 7.],\n",
              "       [7., 7., 7.],\n",
              "       [1., 0., 0.],\n",
              "       [0., 1., 0.],\n",
              "       [0., 0., 1.]])"
            ]
          },
          "metadata": {},
          "execution_count": 89
        }
      ]
    },
    {
      "cell_type": "markdown",
      "metadata": {
        "id": "1d9ruoHFsXgE"
      },
      "source": [
        "### Stack arrays horizontally (column-wise)"
      ]
    },
    {
      "cell_type": "code",
      "metadata": {
        "id": "DLRKp0tlsXgF",
        "colab": {
          "base_uri": "https://localhost:8080/"
        },
        "outputId": "9e4472c9-42e9-4dfb-bc0a-dde2954dd659"
      },
      "source": [
        "# Susunan array secara horizontal (berdasarkan kolom) array e dan f\n",
        "np.hstack((e,f))"
      ],
      "execution_count": 90,
      "outputs": [
        {
          "output_type": "execute_result",
          "data": {
            "text/plain": [
              "array([[7., 7., 7., 1., 0., 0.],\n",
              "       [7., 7., 7., 0., 1., 0.],\n",
              "       [7., 7., 7., 0., 0., 1.]])"
            ]
          },
          "metadata": {},
          "execution_count": 90
        }
      ]
    },
    {
      "cell_type": "markdown",
      "metadata": {
        "id": "_W7JKsxssXgF"
      },
      "source": [
        "### Create stacked column-wise arrays "
      ]
    },
    {
      "cell_type": "code",
      "metadata": {
        "id": "CmI6tXRNsXgF",
        "colab": {
          "base_uri": "https://localhost:8080/"
        },
        "outputId": "6805b7b8-7d89-4c21-e063-f260a83a10d5"
      },
      "source": [
        "a"
      ],
      "execution_count": 91,
      "outputs": [
        {
          "output_type": "execute_result",
          "data": {
            "text/plain": [
              "array([1, 2, 3])"
            ]
          },
          "metadata": {},
          "execution_count": 91
        }
      ]
    },
    {
      "cell_type": "code",
      "metadata": {
        "id": "wcyAweArsXgF",
        "colab": {
          "base_uri": "https://localhost:8080/"
        },
        "outputId": "e1668def-f52d-433f-cf77-f7e228fd8b33"
      },
      "source": [
        "d"
      ],
      "execution_count": 92,
      "outputs": [
        {
          "output_type": "execute_result",
          "data": {
            "text/plain": [
              "array([10, 15, 20])"
            ]
          },
          "metadata": {},
          "execution_count": 92
        }
      ]
    },
    {
      "cell_type": "code",
      "metadata": {
        "id": "lY_L0I1LsXgG",
        "colab": {
          "base_uri": "https://localhost:8080/"
        },
        "outputId": "6ae11d10-4931-4294-be68-8d494ac1aab1"
      },
      "source": [
        "# Susunan berdasarkan kolom array a dan d\n",
        "np.column_stack((a,d))"
      ],
      "execution_count": 93,
      "outputs": [
        {
          "output_type": "execute_result",
          "data": {
            "text/plain": [
              "array([[ 1, 10],\n",
              "       [ 2, 15],\n",
              "       [ 3, 20]])"
            ]
          },
          "metadata": {},
          "execution_count": 93
        }
      ]
    },
    {
      "cell_type": "markdown",
      "metadata": {
        "id": "TI6yUZxNsXgG"
      },
      "source": [
        "### Create stacked column-wise arrays"
      ]
    },
    {
      "cell_type": "code",
      "metadata": {
        "scrolled": true,
        "id": "DtucqXS0sXgG",
        "colab": {
          "base_uri": "https://localhost:8080/"
        },
        "outputId": "7708f51d-f82d-4093-cdbe-7c0d5639da78"
      },
      "source": [
        "# Susunan berdasarkan kolom array a dan d\n",
        "np.c_[a,d]"
      ],
      "execution_count": 94,
      "outputs": [
        {
          "output_type": "execute_result",
          "data": {
            "text/plain": [
              "array([[ 1, 10],\n",
              "       [ 2, 15],\n",
              "       [ 3, 20]])"
            ]
          },
          "metadata": {},
          "execution_count": 94
        }
      ]
    },
    {
      "cell_type": "markdown",
      "metadata": {
        "id": "YZ7TuXPGsXgG"
      },
      "source": [
        "## Splitting Arrays"
      ]
    },
    {
      "cell_type": "markdown",
      "metadata": {
        "id": "sEA8OJQ1sXgG"
      },
      "source": [
        "### Split the array horizontally at the 3rd index"
      ]
    },
    {
      "cell_type": "code",
      "metadata": {
        "id": "c7jARc0-sXgH",
        "colab": {
          "base_uri": "https://localhost:8080/"
        },
        "outputId": "a3082384-fd98-4237-cacf-f21e785c0c30"
      },
      "source": [
        "# Memisahkan array a secara horizontal pada indeks ke-3\n",
        "np.hsplit(a,3)"
      ],
      "execution_count": 95,
      "outputs": [
        {
          "output_type": "execute_result",
          "data": {
            "text/plain": [
              "[array([1]), array([2]), array([3])]"
            ]
          },
          "metadata": {},
          "execution_count": 95
        }
      ]
    },
    {
      "cell_type": "markdown",
      "metadata": {
        "id": "bSmI_piJsXgH"
      },
      "source": [
        "### Split the array vertically at the 2nd index"
      ]
    },
    {
      "cell_type": "code",
      "metadata": {
        "id": "G0uOWkWisXgH",
        "colab": {
          "base_uri": "https://localhost:8080/"
        },
        "outputId": "cf04755e-4b78-4cb1-c19c-68f8ddf45981"
      },
      "source": [
        "# Memisahkan array c secara vertikal pada indeks ke-2\n",
        "np.vsplit(c,2)"
      ],
      "execution_count": 96,
      "outputs": [
        {
          "output_type": "execute_result",
          "data": {
            "text/plain": [
              "[array([[[1.5, 2. , 1. ],\n",
              "         [4. , 5. , 6. ]]]), array([[[3., 2., 3.],\n",
              "         [4., 5., 6.]]])]"
            ]
          },
          "metadata": {},
          "execution_count": 96
        }
      ]
    },
    {
      "cell_type": "markdown",
      "metadata": {
        "id": "SD0Imgr8sXgH"
      },
      "source": [
        "# Thank You"
      ]
    }
  ]
}

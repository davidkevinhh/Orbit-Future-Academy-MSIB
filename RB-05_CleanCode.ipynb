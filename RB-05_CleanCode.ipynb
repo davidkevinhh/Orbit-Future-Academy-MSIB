{
  "nbformat": 4,
  "nbformat_minor": 0,
  "metadata": {
    "interpreter": {
      "hash": "b3ba2566441a7c06988d0923437866b63cedc61552a5af99d1f4fb67d367b25f"
    },
    "kernelspec": {
      "display_name": "Python 3",
      "language": "python",
      "name": "python3"
    },
    "language_info": {
      "codemirror_mode": {
        "name": "ipython",
        "version": 3
      },
      "file_extension": ".py",
      "mimetype": "text/x-python",
      "name": "python",
      "nbconvert_exporter": "python",
      "pygments_lexer": "ipython3",
      "version": "3.8.3"
    },
    "colab": {
      "name": "RB-05_CleanCode.ipynb",
      "provenance": [],
      "collapsed_sections": [],
      "include_colab_link": true
    }
  },
  "cells": [
    {
      "cell_type": "markdown",
      "metadata": {
        "id": "view-in-github",
        "colab_type": "text"
      },
      "source": [
        "<a href=\"https://colab.research.google.com/github/davidkevinhh/Orbit-Future-Academy-MSIB/blob/Assesments/RB-05_CleanCode.ipynb\" target=\"_parent\"><img src=\"https://colab.research.google.com/assets/colab-badge.svg\" alt=\"Open In Colab\"/></a>"
      ]
    },
    {
      "cell_type": "markdown",
      "metadata": {
        "id": "fC7a-HmIj4kX"
      },
      "source": [
        "# Clean Code\n"
      ]
    },
    {
      "cell_type": "markdown",
      "metadata": {
        "id": "QIKPKdJuj4kf"
      },
      "source": [
        "# Daftar Pembahasan Materi\n",
        "- Pedoman penulisan program python menggunakan PEP8\n",
        "- Input, proses (pengolahan kolom), output file ke dalam program (csv dan excel)\n",
        "- Python list functions | Fungsi - fungsi pada list python\n",
        "- Pembahasan dan contoh program Stack (FIFO) sederhana\n",
        "- Pembahasan dan contoh program Queue (LIFO) sederhana"
      ]
    },
    {
      "cell_type": "markdown",
      "metadata": {
        "id": "VWAAlTW_j4kg"
      },
      "source": [
        "## Input, Process, Output dataframe\n",
        "- Membuat DataFrame manual -> export ke csv dan xlsx (excel)\n",
        "- Latihan membuat DataFrame (Data 5 calon anggota koperasi sukanabung)"
      ]
    },
    {
      "cell_type": "code",
      "metadata": {
        "id": "UgB2RzV3j4kh"
      },
      "source": [
        "import pandas as pd"
      ],
      "execution_count": 1,
      "outputs": []
    },
    {
      "cell_type": "code",
      "metadata": {
        "id": "cJmJnnCgj4kj",
        "colab": {
          "base_uri": "https://localhost:8080/",
          "height": 142
        },
        "outputId": "716a949f-f935-4b60-de0d-120f4975ad03"
      },
      "source": [
        "df1 = pd.DataFrame([\n",
        "  [\"Andien\", \"P\", 21, \"Belum Menikah\"],\n",
        "  [\"Raka\", \"L\", 25, \"Belum Menikah\"],\n",
        "  [\"Bobby\", \"L\", 23, \"Sudah Menikah\"]\n",
        "])\n",
        "\n",
        "df1.columns = [\"Nama\", \"Jenis Kelamin\", \"Usia\", \"Status\"]\n",
        "\n",
        "df1"
      ],
      "execution_count": 2,
      "outputs": [
        {
          "output_type": "execute_result",
          "data": {
            "text/html": [
              "<div>\n",
              "<style scoped>\n",
              "    .dataframe tbody tr th:only-of-type {\n",
              "        vertical-align: middle;\n",
              "    }\n",
              "\n",
              "    .dataframe tbody tr th {\n",
              "        vertical-align: top;\n",
              "    }\n",
              "\n",
              "    .dataframe thead th {\n",
              "        text-align: right;\n",
              "    }\n",
              "</style>\n",
              "<table border=\"1\" class=\"dataframe\">\n",
              "  <thead>\n",
              "    <tr style=\"text-align: right;\">\n",
              "      <th></th>\n",
              "      <th>Nama</th>\n",
              "      <th>Jenis Kelamin</th>\n",
              "      <th>Usia</th>\n",
              "      <th>Status</th>\n",
              "    </tr>\n",
              "  </thead>\n",
              "  <tbody>\n",
              "    <tr>\n",
              "      <th>0</th>\n",
              "      <td>Andien</td>\n",
              "      <td>P</td>\n",
              "      <td>21</td>\n",
              "      <td>Belum Menikah</td>\n",
              "    </tr>\n",
              "    <tr>\n",
              "      <th>1</th>\n",
              "      <td>Raka</td>\n",
              "      <td>L</td>\n",
              "      <td>25</td>\n",
              "      <td>Belum Menikah</td>\n",
              "    </tr>\n",
              "    <tr>\n",
              "      <th>2</th>\n",
              "      <td>Bobby</td>\n",
              "      <td>L</td>\n",
              "      <td>23</td>\n",
              "      <td>Sudah Menikah</td>\n",
              "    </tr>\n",
              "  </tbody>\n",
              "</table>\n",
              "</div>"
            ],
            "text/plain": [
              "     Nama Jenis Kelamin  Usia         Status\n",
              "0  Andien             P    21  Belum Menikah\n",
              "1    Raka             L    25  Belum Menikah\n",
              "2   Bobby             L    23  Sudah Menikah"
            ]
          },
          "metadata": {},
          "execution_count": 2
        }
      ]
    },
    {
      "cell_type": "code",
      "metadata": {
        "id": "ZbSGwYJHj4kn"
      },
      "source": [
        "df1.to_csv('anggota_koperasi_sukanabung.csv')\n",
        "df1.to_excel('anggota_koperasi_sukanabung.xlsx')"
      ],
      "execution_count": 3,
      "outputs": []
    },
    {
      "cell_type": "markdown",
      "metadata": {
        "id": "6_OwAS0Ij4ko"
      },
      "source": [
        "## Fungsi - Fungsi List pada Python\n",
        "- Quiz, studi kasus nyata"
      ]
    },
    {
      "cell_type": "markdown",
      "metadata": {
        "id": "MMU9bi85j4kp"
      },
      "source": [
        "- Bahas tentang fungsi yg ada di list (struktur data) dulu\n",
        "    - `append()`  # Menambahkan elemen di akhir list (hanya 1)\n",
        "    - `extend()`  # Menambahkan banyak elemen di akhir list\n",
        "    - `index()`   # Mencari index dari elemen tertentu yang ada di list\n",
        "    - `max(list)` # Mencari elemen terbesar dari list\n",
        "    - `min(list)` # Mencari elemen terkecil dari list\n",
        "    - `len(list)` # Menghitung jumlah elemen dalam list\n",
        "    - `clear()`   # Menghapus semua elemen dari list\n",
        "    - `insert()`  # Memasukkan elemen baru pada urutan tertentu\n",
        "    - `count()`   # Menghitung jumlah elemen dengan nilai tertentu\n",
        "    - `pop()`     # Menghapus elemen terakhir dari list\n",
        "    - `remove()`  # Menghapus elemen dengan nilai tertentu\n",
        "    - `reverse()` # Membalik urutan elemen dalam list\n",
        "    - `copy()`    # Menduplikat elemen dalam list ke dalam variabel baru\n",
        "    - `sort()`    # Mengurutkan (sorting)\n",
        "\n",
        "- TODO: Teori dan ilustrasi"
      ]
    },
    {
      "cell_type": "code",
      "metadata": {
        "id": "mCBAa00Yj4kq"
      },
      "source": [
        "tumpukan_warna = ['Biru', 'Merah', 'Hijau', 'Ungu', 'Hitam']"
      ],
      "execution_count": 4,
      "outputs": []
    },
    {
      "cell_type": "code",
      "metadata": {
        "id": "CA4LTCM9j4kq",
        "colab": {
          "base_uri": "https://localhost:8080/"
        },
        "outputId": "2a06bdd3-f222-4ce1-fe39-ee8271fd4621"
      },
      "source": [
        "# append, menambahkan nilai di akhir list (hanya 1 nilai saja)\n",
        "tumpukan_warna.append('Jingga')\n",
        "tumpukan_warna"
      ],
      "execution_count": 5,
      "outputs": [
        {
          "output_type": "execute_result",
          "data": {
            "text/plain": [
              "['Biru', 'Merah', 'Hijau', 'Ungu', 'Hitam', 'Jingga']"
            ]
          },
          "metadata": {},
          "execution_count": 5
        }
      ]
    },
    {
      "cell_type": "code",
      "metadata": {
        "id": "KuOZo1xvj4kr",
        "colab": {
          "base_uri": "https://localhost:8080/"
        },
        "outputId": "50367e8e-e125-427d-945c-f2123869f8f2"
      },
      "source": [
        "# extend, menambahkan banyak elemen di akhir list\n",
        "tumpukan_warna.extend(['Putih', 'Tosca'])\n",
        "tumpukan_warna"
      ],
      "execution_count": 6,
      "outputs": [
        {
          "output_type": "execute_result",
          "data": {
            "text/plain": [
              "['Biru', 'Merah', 'Hijau', 'Ungu', 'Hitam', 'Jingga', 'Putih', 'Tosca']"
            ]
          },
          "metadata": {},
          "execution_count": 6
        }
      ]
    },
    {
      "cell_type": "code",
      "metadata": {
        "id": "ou_wwx7Hj4ks",
        "colab": {
          "base_uri": "https://localhost:8080/"
        },
        "outputId": "f2e31b28-c91a-4a4f-bfaf-926670e5dfa7"
      },
      "source": [
        "# index, mencari index dari nilai tertentu yang ada di list\n",
        "tumpukan_warna.index('Hijau')"
      ],
      "execution_count": 7,
      "outputs": [
        {
          "output_type": "execute_result",
          "data": {
            "text/plain": [
              "2"
            ]
          },
          "metadata": {},
          "execution_count": 7
        }
      ]
    },
    {
      "cell_type": "code",
      "metadata": {
        "id": "E-ORjbcjj4ks",
        "colab": {
          "base_uri": "https://localhost:8080/",
          "height": 35
        },
        "outputId": "c431a475-54a2-4720-f3af-9c49f1f4ddc1"
      },
      "source": [
        "# min, mencari nilai terkecil dari list\n",
        "min(tumpukan_warna)"
      ],
      "execution_count": 8,
      "outputs": [
        {
          "output_type": "execute_result",
          "data": {
            "application/vnd.google.colaboratory.intrinsic+json": {
              "type": "string"
            },
            "text/plain": [
              "'Biru'"
            ]
          },
          "metadata": {},
          "execution_count": 8
        }
      ]
    },
    {
      "cell_type": "code",
      "metadata": {
        "id": "i5BB2zL4j4kt",
        "colab": {
          "base_uri": "https://localhost:8080/",
          "height": 35
        },
        "outputId": "737c2bad-3b8f-47a6-efbe-9fe080ad1546"
      },
      "source": [
        "# max, mencari nilai terbesar dari list\n",
        "max(tumpukan_warna)"
      ],
      "execution_count": 9,
      "outputs": [
        {
          "output_type": "execute_result",
          "data": {
            "application/vnd.google.colaboratory.intrinsic+json": {
              "type": "string"
            },
            "text/plain": [
              "'Ungu'"
            ]
          },
          "metadata": {},
          "execution_count": 9
        }
      ]
    },
    {
      "cell_type": "code",
      "metadata": {
        "colab": {
          "base_uri": "https://localhost:8080/"
        },
        "id": "pmG6XlAEz7gz",
        "outputId": "be2203a4-dd24-4abd-f906-3381816e3049"
      },
      "source": [
        "#sort, mengurutkan\n",
        "tumpukan_warna.sort()\n",
        "print(tumpukan_warna)"
      ],
      "execution_count": 10,
      "outputs": [
        {
          "output_type": "stream",
          "name": "stdout",
          "text": [
            "['Biru', 'Hijau', 'Hitam', 'Jingga', 'Merah', 'Putih', 'Tosca', 'Ungu']\n"
          ]
        }
      ]
    },
    {
      "cell_type": "code",
      "metadata": {
        "id": "5CAsW7mnj4kt",
        "colab": {
          "base_uri": "https://localhost:8080/"
        },
        "outputId": "13f677ea-e391-42be-e64b-4a31379b3ef3"
      },
      "source": [
        "# clear, menghapus semua elemen dari list\n",
        "tumpukan_warna.clear()\n",
        "tumpukan_warna"
      ],
      "execution_count": 11,
      "outputs": [
        {
          "output_type": "execute_result",
          "data": {
            "text/plain": [
              "[]"
            ]
          },
          "metadata": {},
          "execution_count": 11
        }
      ]
    },
    {
      "cell_type": "code",
      "metadata": {
        "id": "_Ur2NSuRj4ku"
      },
      "source": [
        "tumpukan_warna = ['Biru', 'Merah', 'Hijau', 'Ungu', 'Hitam']"
      ],
      "execution_count": 12,
      "outputs": []
    },
    {
      "cell_type": "code",
      "metadata": {
        "id": "lHCXeJY0j4ku",
        "colab": {
          "base_uri": "https://localhost:8080/"
        },
        "outputId": "e31d531c-3b13-49a5-ffe4-87b615dab510"
      },
      "source": [
        "# len, menghitung jumlah elemen dalam list\n",
        "len(tumpukan_warna)"
      ],
      "execution_count": 13,
      "outputs": [
        {
          "output_type": "execute_result",
          "data": {
            "text/plain": [
              "5"
            ]
          },
          "metadata": {},
          "execution_count": 13
        }
      ]
    },
    {
      "cell_type": "code",
      "metadata": {
        "id": "KHsIpoXoj4ku",
        "colab": {
          "base_uri": "https://localhost:8080/"
        },
        "outputId": "3150b73e-21e7-42ab-a255-64794cea0912"
      },
      "source": [
        "# insert, memasukkan elemen baru pada urutan tertentu\n",
        "tumpukan_warna.insert(0, 'Orange')\n",
        "tumpukan_warna"
      ],
      "execution_count": 14,
      "outputs": [
        {
          "output_type": "execute_result",
          "data": {
            "text/plain": [
              "['Orange', 'Biru', 'Merah', 'Hijau', 'Ungu', 'Hitam']"
            ]
          },
          "metadata": {},
          "execution_count": 14
        }
      ]
    },
    {
      "cell_type": "code",
      "metadata": {
        "id": "s9EpdW4Hj4kv",
        "colab": {
          "base_uri": "https://localhost:8080/"
        },
        "outputId": "904b71b1-a380-4ad8-ec2e-7ef7a7ff237b"
      },
      "source": [
        "# remove, menghapus elemen dengan nilai tertentu\n",
        "tumpukan_warna.remove('Orange')\n",
        "tumpukan_warna"
      ],
      "execution_count": 15,
      "outputs": [
        {
          "output_type": "execute_result",
          "data": {
            "text/plain": [
              "['Biru', 'Merah', 'Hijau', 'Ungu', 'Hitam']"
            ]
          },
          "metadata": {},
          "execution_count": 15
        }
      ]
    },
    {
      "cell_type": "code",
      "metadata": {
        "id": "aKNVtL0Xj4kw",
        "colab": {
          "base_uri": "https://localhost:8080/"
        },
        "outputId": "e5ced3a5-ef44-48b7-d51c-ba358e24426e"
      },
      "source": [
        "# reverse, membalik urutan elemen dalam list\n",
        "tumpukan_warna.reverse()\n",
        "tumpukan_warna"
      ],
      "execution_count": 16,
      "outputs": [
        {
          "output_type": "execute_result",
          "data": {
            "text/plain": [
              "['Hitam', 'Ungu', 'Hijau', 'Merah', 'Biru']"
            ]
          },
          "metadata": {},
          "execution_count": 16
        }
      ]
    },
    {
      "cell_type": "code",
      "metadata": {
        "id": "Q9PQvEvzj4kx",
        "colab": {
          "base_uri": "https://localhost:8080/"
        },
        "outputId": "bb12560b-1c39-44ef-8024-55d45a2e6d74"
      },
      "source": [
        "# pop, menghapus elemen terakhir dari list\n",
        "tumpukan_warna.pop()\n",
        "tumpukan_warna"
      ],
      "execution_count": 17,
      "outputs": [
        {
          "output_type": "execute_result",
          "data": {
            "text/plain": [
              "['Hitam', 'Ungu', 'Hijau', 'Merah']"
            ]
          },
          "metadata": {},
          "execution_count": 17
        }
      ]
    },
    {
      "cell_type": "code",
      "metadata": {
        "id": "JsPQ94yGj4ky",
        "colab": {
          "base_uri": "https://localhost:8080/"
        },
        "outputId": "42040422-0072-42e1-ada3-811fa7cc996e"
      },
      "source": [
        "# count, menghitung jumlah elemen dengan nilai tertentu\n",
        "tumpukan_warna.count('Hitam') # Coba ubah dengan nilai yang lain"
      ],
      "execution_count": 18,
      "outputs": [
        {
          "output_type": "execute_result",
          "data": {
            "text/plain": [
              "1"
            ]
          },
          "metadata": {},
          "execution_count": 18
        }
      ]
    },
    {
      "cell_type": "code",
      "metadata": {
        "id": "k6p-NBKoj4kz",
        "colab": {
          "base_uri": "https://localhost:8080/"
        },
        "outputId": "62a55186-b83e-4adc-f30f-a50fb44c90a6"
      },
      "source": [
        "# copy, menduplikat elemen dalam list ke dalam variabel baru\n",
        "tumpukan_warna2 = tumpukan_warna.copy()\n",
        "tumpukan_warna2"
      ],
      "execution_count": 19,
      "outputs": [
        {
          "output_type": "execute_result",
          "data": {
            "text/plain": [
              "['Hitam', 'Ungu', 'Hijau', 'Merah']"
            ]
          },
          "metadata": {},
          "execution_count": 19
        }
      ]
    },
    {
      "cell_type": "code",
      "metadata": {
        "id": "IUYtsmX2j4kz",
        "colab": {
          "base_uri": "https://localhost:8080/"
        },
        "outputId": "b491df04-d475-4687-bf84-c3f3966af2cc"
      },
      "source": [
        "# Perbedaan fungsi copy dan re-assignment \n",
        "a = [1,2,3]\n",
        "\n",
        "\n",
        "# Isi b sama dengan a, tapi sebenarnya b hanya melakukan copy identitas objek a\n",
        "b = a\n",
        "c = a.copy()\n",
        "# Apabila a[0] kita ubah, maka b[0] pun berubah\n",
        "a[0] = 100\n",
        "\n",
        "# Fungsi id() dapat digunakan untuk mengetahui identitas dari suatu objek\n",
        "print(\"ID a:\", id(b))\n",
        "print(\"ID b:\", id(a))\n",
        "print(\"a:\", a)\n",
        "print(\"b:\", b)\n",
        "\n",
        "print(\"ID c:\", id(c))\n",
        "print(\"c:\", c)"
      ],
      "execution_count": 20,
      "outputs": [
        {
          "output_type": "stream",
          "name": "stdout",
          "text": [
            "ID a: 139661041698528\n",
            "ID b: 139661041698528\n",
            "a: [100, 2, 3]\n",
            "b: [100, 2, 3]\n",
            "ID c: 139661041684880\n",
            "c: [1, 2, 3]\n"
          ]
        }
      ]
    },
    {
      "cell_type": "markdown",
      "metadata": {
        "id": "j_ibCI3qj4k0"
      },
      "source": [
        "## Stack (Tumpukan)"
      ]
    },
    {
      "cell_type": "code",
      "metadata": {
        "id": "V1UTz9blj4k0"
      },
      "source": [
        "angka = [1,3,5,3,3,5]"
      ],
      "execution_count": 21,
      "outputs": []
    },
    {
      "cell_type": "code",
      "metadata": {
        "id": "C3Ny4Gdnj4k0",
        "colab": {
          "base_uri": "https://localhost:8080/"
        },
        "outputId": "cc574fa3-c12f-4fa5-a131-a05c7075f586"
      },
      "source": [
        "# Stack -> First In Last Out\n",
        "lemari = [\"Sarung\", \"Celana Dasar\", \n",
        "        \"Kemeja Putih\", \"Selimut\"]\n",
        "lemari.append(\"Jaket Hoodie\")\n",
        "print(lemari)"
      ],
      "execution_count": 22,
      "outputs": [
        {
          "output_type": "stream",
          "name": "stdout",
          "text": [
            "['Sarung', 'Celana Dasar', 'Kemeja Putih', 'Selimut', 'Jaket Hoodie']\n"
          ]
        }
      ]
    },
    {
      "cell_type": "code",
      "metadata": {
        "id": "u9Knuyymj4k1",
        "colab": {
          "base_uri": "https://localhost:8080/"
        },
        "outputId": "b94714c2-aeb5-41f3-e92b-2744a71ceedd"
      },
      "source": [
        "# Stack -> First In Last Out\n",
        "lemari = [\"Sarung\", \"Celana Dasar\"\n",
        "          , \"Kemeja Putih\", \"Selimut\"\n",
        "          , \"Jaket Hoodie\"\n",
        "         ]\n",
        "\n",
        "lemari.pop()\n",
        "print(lemari)"
      ],
      "execution_count": 24,
      "outputs": [
        {
          "output_type": "stream",
          "name": "stdout",
          "text": [
            "['Sarung', 'Celana Dasar', 'Kemeja Putih', 'Selimut']\n"
          ]
        }
      ]
    },
    {
      "cell_type": "markdown",
      "metadata": {
        "id": "Ez0HhI01j4k1"
      },
      "source": [
        "## Queue (read: qiu)\n",
        "- TODO: Teori dan ilustrasi"
      ]
    },
    {
      "cell_type": "code",
      "metadata": {
        "id": "70DOHb6Rj4k2",
        "colab": {
          "base_uri": "https://localhost:8080/"
        },
        "outputId": "70b6977a-b4f0-4f51-8ab4-9f77747ca410"
      },
      "source": [
        "# Queue -> First in First Out\n",
        "antrian_vaksin = [\"Andy\", \"Bobby\", \n",
        "                  \"Caca\", \"Doni\",\n",
        "                  \"Erna\"\n",
        "                 ]\n",
        "antrian_vaksin.append(\"Fani\")\n",
        "print(antrian_vaksin)"
      ],
      "execution_count": 25,
      "outputs": [
        {
          "output_type": "stream",
          "name": "stdout",
          "text": [
            "['Andy', 'Bobby', 'Caca', 'Doni', 'Erna', 'Fani']\n"
          ]
        }
      ]
    },
    {
      "cell_type": "code",
      "metadata": {
        "id": "IuVj-512j4k2",
        "colab": {
          "base_uri": "https://localhost:8080/"
        },
        "outputId": "fab79269-61c4-439a-f839-e009d8a25e5f"
      },
      "source": [
        "antrian_vaksin = [\"Andy\", \"Bobby\", \n",
        "                  \"Caca\", \"Doni\",\n",
        "                  \"Erna\", \"Fani\"\n",
        "                 ]\n",
        "antrian_vaksin.pop(0)\n",
        "print(antrian_vaksin)"
      ],
      "execution_count": 26,
      "outputs": [
        {
          "output_type": "stream",
          "name": "stdout",
          "text": [
            "['Bobby', 'Caca', 'Doni', 'Erna', 'Fani']\n"
          ]
        }
      ]
    },
    {
      "cell_type": "markdown",
      "metadata": {
        "id": "8Wk1mAaij4k2"
      },
      "source": [
        "# Activity\n",
        "## 1. Code Refactoring\n",
        "### 1.1 Ubah gaya penulisan kode program berikut sesuai dengan standar PEP8"
      ]
    },
    {
      "cell_type": "code",
      "metadata": {
        "colab": {
          "base_uri": "https://localhost:8080/"
        },
        "id": "cWggYXtLuSwS",
        "outputId": "7eece908-6d6d-439c-86a5-1acf5a8df63d"
      },
      "source": [
        "#program untuk menghitung luas dan keliling lingkaran\n",
        "PI = 3.14\n",
        "\n",
        "def hitung_luas_lingkaran(jari_jari):\n",
        "    luas_lingkaran = PI * jari_jari**2\n",
        "    return luas_lingkaran\n",
        "\n",
        "def hitung_keliling_lingkaran(jari_jari):\n",
        "    keliling_lingkaran = 2 * PI * jari_jari\n",
        "    return keliling_lingkaran\n",
        "\n",
        "def tampilkan_menu():\n",
        "    print('')\n",
        "    print(\"----------------------------------------------------\")\n",
        "    print( 'Program untuk menghitung luas dan keliling lingkaran')\n",
        "    print( 'Mau ngitung apa nih bre?')\n",
        "    print( '1. Luas Lingkaran')\n",
        "    print( '2. Keliling Lingkaran')\n",
        "    print( '3. Stop Program')\n",
        "    print('')\n",
        "\n",
        "\n",
        "pil = 'bukan 3'\n",
        "while pil != 3:\n",
        "    tampilkan_menu()\n",
        "    pil = input ('Pilihan:')\n",
        "\n",
        "    if pil == '1':\n",
        "        jari_jari = input('Jari Jari:')\n",
        "        jari_jari = float(jari_jari)\n",
        "        hasil = hitung_luas_lingkaran(jari_jari)\n",
        "        print(\"Luas Lingkaran:\", hasil)\n",
        "\n",
        "    elif pil == '2':\n",
        "        jari_jari = input ('Jari Jari:')\n",
        "        jari_jari = float (jari_jari)\n",
        "        hasil = hitung_keliling_lingkaran(jari_jari)\n",
        "        print(\"Keliling Lingkaran:\", hasil)\n",
        "\n",
        "    elif pil == '3':\n",
        "        print(\"TERIMA KASIH SUDAH MENGGUNAKAN PROGRAM KAMI\")\n",
        "        break\n",
        "\n",
        "    else:\n",
        "        print('Pilihan tidak tersedia')\n",
        "        tampilkan_menu()"
      ],
      "execution_count": 33,
      "outputs": [
        {
          "output_type": "stream",
          "name": "stdout",
          "text": [
            "\n",
            "----------------------------------------------------\n",
            "Program untuk menghitung luas dan keliling lingkaran\n",
            "Mau ngitung apa nih bre?\n",
            "1. Luas Lingkaran\n",
            "2. Keliling Lingkaran\n",
            "3. Stop Program\n",
            "\n",
            "Pilihan:3\n",
            "TERIMA KASIH SUDAH MENGGUNAKAN PROGRAM KAMI\n"
          ]
        }
      ]
    },
    {
      "cell_type": "markdown",
      "metadata": {
        "id": "EI3tFPZD3ejW"
      },
      "source": [
        "### 1.2 Ubah gaya penulisan kode program berikut sesuai dengan standar PEP8"
      ]
    },
    {
      "cell_type": "code",
      "metadata": {
        "colab": {
          "base_uri": "https://localhost:8080/"
        },
        "id": "vqqf6y-oySiq",
        "outputId": "38572cea-32ef-4d70-8294-2dc52dd83b37"
      },
      "source": [
        "\"\"\"Main Layangan\n",
        "Requirement:\n",
        "- Gak Hujan\n",
        "- Kecepatan Angin 5 - 30 km/s\n",
        "\n",
        "Clues:\n",
        "- Naming variable dan function, whitespace, komentar\n",
        "- Terdapat kode duplikat, coba perbaiki\"\"\"\n",
        "\n",
        "def main_layangan():\n",
        "  hujan = input(\"lagi ujan ga? (y/n)\")\n",
        "  if hujan=='y' or hujan=='Y':\n",
        "    hujan = True\n",
        "  else:\n",
        "    hujan = False\n",
        "\n",
        "  kecepatan_angin = int(input('masukkan kecepatan angin: '))\n",
        "\n",
        "  if hujan == True:\n",
        "    print('Gak bisa main layangan')\n",
        "    return False\n",
        "  else:\n",
        "    if kecepatan_angin>=5 and kecepatan_angin<=30:\n",
        "      print('Asiik, gass main layangan')\n",
        "      return True\n",
        "    else:\n",
        "      print('Skip, mending main ep ep')\n",
        "      return False\n",
        "\n",
        "capek = main_layangan()\n",
        "\n",
        "if capek == True:\n",
        "  print(\"Istirahat\")\n",
        "else:\n",
        "  print(\"Gass main ep ep\")"
      ],
      "execution_count": 34,
      "outputs": [
        {
          "output_type": "stream",
          "name": "stdout",
          "text": [
            "lagi ujan ga? (y/n)n\n",
            "masukkan kecepatan angin: 100\n",
            "Skip, mending main ep ep\n",
            "Gass main ep ep\n"
          ]
        }
      ]
    },
    {
      "cell_type": "markdown",
      "metadata": {
        "id": "T_62CS4pvl3O"
      },
      "source": [
        "## 2. Memilih delegasi Tim Sudirman Cup dari Indonesia\n",
        "\n",
        "Berikut adalah data nama pemain bulu tangkis Indonesia beserta medali yang sudah diraih selama 2020 - 2021: \n"
      ]
    },
    {
      "cell_type": "code",
      "metadata": {
        "id": "S-IH1y1Uj4k3"
      },
      "source": [
        "pemain_dan_medali = [[7, \"Ginting\"], [5, \"Jonathan C.\"], [9,\"Hendra\"], [9,\"Ahsan\"], [8, \"Markus\"], [8, \"Kevin\"], [4, \"Gregoria\"], \n",
        "                     [6, \"Praven\"], [6, \"Melati\"], [7, \"Greysia\"], [7, \"Apriani\"], [5, \"Putri\"], [5, \"Rian\"], [5, \"Fajar\"]]"
      ],
      "execution_count": 47,
      "outputs": []
    },
    {
      "cell_type": "markdown",
      "metadata": {
        "id": "xmKFzuRgxB_S"
      },
      "source": [
        "> Buatlah program seleksi pemain bulu tangkis untuk Tim Sudirman dengan menerapkan konsep `Clean Code`"
      ]
    },
    {
      "cell_type": "code",
      "metadata": {
        "id": "dXKm2My10I5i",
        "colab": {
          "base_uri": "https://localhost:8080/"
        },
        "outputId": "c32f5e91-75bf-47f3-b3b6-0ef50fc92f9f"
      },
      "source": [
        "# Buat list baru dengan mengurutkan list diatas berdasarkan medali yang diraih dari yang paling banyak\n",
        "pemain_dan_medali.sort(reverse=True)\n",
        "print(pemain_dan_medali)"
      ],
      "execution_count": 48,
      "outputs": [
        {
          "output_type": "stream",
          "name": "stdout",
          "text": [
            "[[9, 'Hendra'], [9, 'Ahsan'], [8, 'Markus'], [8, 'Kevin'], [7, 'Greysia'], [7, 'Ginting'], [7, 'Apriani'], [6, 'Praven'], [6, 'Melati'], [5, 'Rian'], [5, 'Putri'], [5, 'Jonathan C.'], [5, 'Fajar'], [4, 'Gregoria']]\n"
          ]
        }
      ]
    },
    {
      "cell_type": "code",
      "metadata": {
        "id": "tiybf3yDwy2P",
        "colab": {
          "base_uri": "https://localhost:8080/"
        },
        "outputId": "d26c8d86-a08d-4329-dab8-ef740733031d"
      },
      "source": [
        "# Dengan looping, buatlah 2 list terpisah dari pemain dan juga medalinya, namun urutannya harus tetap sama dengan yang diatas\n",
        "medali = [medali[0] for medali in pemain_dan_medali]\n",
        "print(medali)\n",
        "\n",
        "nama = [nama[1] for nama in pemain_dan_medali]\n",
        "print(nama)"
      ],
      "execution_count": 53,
      "outputs": [
        {
          "output_type": "stream",
          "name": "stdout",
          "text": [
            "[9, 9, 8, 8, 7, 7, 7, 6, 6, 5, 5, 5, 5, 4]\n",
            "['Hendra', 'Ahsan', 'Markus', 'Kevin', 'Greysia', 'Ginting', 'Apriani', 'Praven', 'Melati', 'Rian', 'Putri', 'Jonathan C.', 'Fajar', 'Gregoria']\n"
          ]
        }
      ]
    }
  ]
}
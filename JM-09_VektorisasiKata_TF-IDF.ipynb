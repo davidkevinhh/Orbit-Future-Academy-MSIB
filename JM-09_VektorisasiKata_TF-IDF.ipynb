{
  "nbformat": 4,
  "nbformat_minor": 0,
  "metadata": {
    "colab": {
      "name": "JM-09_VektorisasiKata_TF-IDF.ipynb",
      "provenance": [],
      "collapsed_sections": [],
      "include_colab_link": true
    },
    "kernelspec": {
      "name": "python3",
      "display_name": "Python 3"
    },
    "language_info": {
      "name": "python"
    }
  },
  "cells": [
    {
      "cell_type": "markdown",
      "metadata": {
        "id": "view-in-github",
        "colab_type": "text"
      },
      "source": [
        "<a href=\"https://colab.research.google.com/github/davidkevinhh/Orbit-Future-Academy-MSIB/blob/Assesments/JM-09_VektorisasiKata_TF-IDF.ipynb\" target=\"_parent\"><img src=\"https://colab.research.google.com/assets/colab-badge.svg\" alt=\"Open In Colab\"/></a>"
      ]
    },
    {
      "cell_type": "code",
      "metadata": {
        "id": "RP6hW8NDVzaI"
      },
      "source": [
        "# Import Library yang dibutuhkan\n",
        "\n",
        "import nltk\n",
        "from nltk.tokenize import word_tokenize\n",
        "from gensim.models import Word2Vec\n",
        "import re"
      ],
      "execution_count": 1,
      "outputs": []
    },
    {
      "cell_type": "code",
      "metadata": {
        "colab": {
          "base_uri": "https://localhost:8080/"
        },
        "id": "gKe7ZPUfmjYA",
        "outputId": "3ef49f76-7df4-4d85-a165-80476900c998"
      },
      "source": [
        "nltk.download('punkt')"
      ],
      "execution_count": 2,
      "outputs": [
        {
          "output_type": "stream",
          "name": "stdout",
          "text": [
            "[nltk_data] Downloading package punkt to /root/nltk_data...\n",
            "[nltk_data]   Unzipping tokenizers/punkt.zip.\n"
          ]
        },
        {
          "output_type": "execute_result",
          "data": {
            "text/plain": [
              "True"
            ]
          },
          "metadata": {},
          "execution_count": 2
        }
      ]
    },
    {
      "cell_type": "code",
      "metadata": {
        "id": "rmfhSdxekrEh"
      },
      "source": [
        "komentar = [\n",
        "          \"Pengiriman cepat, kualitas produk baik, penjual ramah\",\n",
        "          \"Produk tidak sesuai gambar, tapi memang sesuai harga\",\n",
        "          \"penjual responsif dan ramah, produk berfungsi dengan baik\",\n",
        "          \"Lumayan untuk harga segini sudah dapat produk bagus\",\n",
        "          \"Tidak sesuai ekspektasi, produk berbeda dengan gambar\",\n",
        "          \"Sejauh ini yaaa lumayan sih, tidak berkespektasi tinggi, sesuai lah sama harga, tengkyuu\",\n",
        "          \"Barang cepat sampai dan sesuai pesanan Packing rapi dan harga recommended\",\n",
        "          \"Barang sdh diterima..packing aman...sampainya cepet...jenis dan jumlahnya sesuai pesenan..makase yah\",\n",
        "          \"seller ramah, tapi di pengirimanya lama\",\n",
        "          \"realpic,barang sesuai pesenan..terimakasih seller,sukses terus..\",\n",
        "          \"Barang bagus aku sering beli produk ini..yamagata okeee..\",\n",
        "          \"seller gak responsif, ga sesuai gambar\",\n",
        "          \"barang ok, kualitas ok\",\n",
        "          \"harga sesuai sama barangnya, not bad lah\",\n",
        "          \"wajar sih ada harga, ada barang\",\n",
        "          \"mantap, kualitas ok sesuai pic\",\n",
        "          \"recommended pokoknya\",\n",
        "          \"kualitas ok, seller ramah, pengiriman cepat\",\n",
        "          \"toko nya gak recommended, seller kurang responsif\",\n",
        "          \"ok barangnya, recommended sellernya\"\n",
        "\n",
        "\n",
        "]"
      ],
      "execution_count": 3,
      "outputs": []
    },
    {
      "cell_type": "code",
      "metadata": {
        "colab": {
          "base_uri": "https://localhost:8080/"
        },
        "id": "QX4OeAmEmsdL",
        "outputId": "3ed28cd0-5451-48c7-a4b6-7803ede02297"
      },
      "source": [
        "komentar = [re.sub(r'[,.]', '', k) for k in komentar]\n",
        "komentar"
      ],
      "execution_count": 4,
      "outputs": [
        {
          "output_type": "execute_result",
          "data": {
            "text/plain": [
              "['Pengiriman cepat kualitas produk baik penjual ramah',\n",
              " 'Produk tidak sesuai gambar tapi memang sesuai harga',\n",
              " 'penjual responsif dan ramah produk berfungsi dengan baik',\n",
              " 'Lumayan untuk harga segini sudah dapat produk bagus',\n",
              " 'Tidak sesuai ekspektasi produk berbeda dengan gambar',\n",
              " 'Sejauh ini yaaa lumayan sih tidak berkespektasi tinggi sesuai lah sama harga tengkyuu',\n",
              " 'Barang cepat sampai dan sesuai pesanan Packing rapi dan harga recommended',\n",
              " 'Barang sdh diterimapacking amansampainya cepetjenis dan jumlahnya sesuai pesenanmakase yah',\n",
              " 'seller ramah tapi di pengirimanya lama',\n",
              " 'realpicbarang sesuai pesenanterimakasih sellersukses terus',\n",
              " 'Barang bagus aku sering beli produk iniyamagata okeee',\n",
              " 'seller gak responsif ga sesuai gambar',\n",
              " 'barang ok kualitas ok',\n",
              " 'harga sesuai sama barangnya not bad lah',\n",
              " 'wajar sih ada harga ada barang',\n",
              " 'mantap kualitas ok sesuai pic',\n",
              " 'recommended pokoknya',\n",
              " 'kualitas ok seller ramah pengiriman cepat',\n",
              " 'toko nya gak recommended seller kurang responsif',\n",
              " 'ok barangnya recommended sellernya']"
            ]
          },
          "metadata": {},
          "execution_count": 4
        }
      ]
    },
    {
      "cell_type": "code",
      "metadata": {
        "colab": {
          "base_uri": "https://localhost:8080/"
        },
        "id": "KJPae-LBmH3N",
        "outputId": "d42adfc7-e36d-4a0d-9ab4-9dfa479ac8d9"
      },
      "source": [
        "corpus = [word_tokenize(k.lower()) for k in komentar]\n",
        "corpus"
      ],
      "execution_count": 5,
      "outputs": [
        {
          "output_type": "execute_result",
          "data": {
            "text/plain": [
              "[['pengiriman', 'cepat', 'kualitas', 'produk', 'baik', 'penjual', 'ramah'],\n",
              " ['produk', 'tidak', 'sesuai', 'gambar', 'tapi', 'memang', 'sesuai', 'harga'],\n",
              " ['penjual',\n",
              "  'responsif',\n",
              "  'dan',\n",
              "  'ramah',\n",
              "  'produk',\n",
              "  'berfungsi',\n",
              "  'dengan',\n",
              "  'baik'],\n",
              " ['lumayan', 'untuk', 'harga', 'segini', 'sudah', 'dapat', 'produk', 'bagus'],\n",
              " ['tidak', 'sesuai', 'ekspektasi', 'produk', 'berbeda', 'dengan', 'gambar'],\n",
              " ['sejauh',\n",
              "  'ini',\n",
              "  'yaaa',\n",
              "  'lumayan',\n",
              "  'sih',\n",
              "  'tidak',\n",
              "  'berkespektasi',\n",
              "  'tinggi',\n",
              "  'sesuai',\n",
              "  'lah',\n",
              "  'sama',\n",
              "  'harga',\n",
              "  'tengkyuu'],\n",
              " ['barang',\n",
              "  'cepat',\n",
              "  'sampai',\n",
              "  'dan',\n",
              "  'sesuai',\n",
              "  'pesanan',\n",
              "  'packing',\n",
              "  'rapi',\n",
              "  'dan',\n",
              "  'harga',\n",
              "  'recommended'],\n",
              " ['barang',\n",
              "  'sdh',\n",
              "  'diterimapacking',\n",
              "  'amansampainya',\n",
              "  'cepetjenis',\n",
              "  'dan',\n",
              "  'jumlahnya',\n",
              "  'sesuai',\n",
              "  'pesenanmakase',\n",
              "  'yah'],\n",
              " ['seller', 'ramah', 'tapi', 'di', 'pengirimanya', 'lama'],\n",
              " ['realpicbarang', 'sesuai', 'pesenanterimakasih', 'sellersukses', 'terus'],\n",
              " ['barang',\n",
              "  'bagus',\n",
              "  'aku',\n",
              "  'sering',\n",
              "  'beli',\n",
              "  'produk',\n",
              "  'iniyamagata',\n",
              "  'okeee'],\n",
              " ['seller', 'gak', 'responsif', 'ga', 'sesuai', 'gambar'],\n",
              " ['barang', 'ok', 'kualitas', 'ok'],\n",
              " ['harga', 'sesuai', 'sama', 'barangnya', 'not', 'bad', 'lah'],\n",
              " ['wajar', 'sih', 'ada', 'harga', 'ada', 'barang'],\n",
              " ['mantap', 'kualitas', 'ok', 'sesuai', 'pic'],\n",
              " ['recommended', 'pokoknya'],\n",
              " ['kualitas', 'ok', 'seller', 'ramah', 'pengiriman', 'cepat'],\n",
              " ['toko', 'nya', 'gak', 'recommended', 'seller', 'kurang', 'responsif'],\n",
              " ['ok', 'barangnya', 'recommended', 'sellernya']]"
            ]
          },
          "metadata": {},
          "execution_count": 5
        }
      ]
    },
    {
      "cell_type": "markdown",
      "metadata": {
        "id": "ilqs6oh8nJyx"
      },
      "source": [
        "## Train Word2Vec Model"
      ]
    },
    {
      "cell_type": "code",
      "metadata": {
        "id": "Zr3eUJ0Tmfmt"
      },
      "source": [
        "model = Word2Vec(corpus, size=100, window=5, workers=2, min_count=1, iter=100)\n"
      ],
      "execution_count": 6,
      "outputs": []
    },
    {
      "cell_type": "markdown",
      "metadata": {
        "id": "W3GOj9NDobAK"
      },
      "source": [
        "## Menyimpan model"
      ]
    },
    {
      "cell_type": "code",
      "metadata": {
        "id": "4me7Ne3gn3OM"
      },
      "source": [
        "model.save(\"komentar_app.w2v\")"
      ],
      "execution_count": 7,
      "outputs": []
    },
    {
      "cell_type": "markdown",
      "metadata": {
        "id": "6_RJ3olWocLH"
      },
      "source": [
        "## Load Model\n",
        "> Menggunakan pretrained model (model yang sudah dibuat sebelumnya)"
      ]
    },
    {
      "cell_type": "code",
      "metadata": {
        "id": "LIRAsG-Jn9Hn"
      },
      "source": [
        "model = Word2Vec.load(\"komentar_app.w2v\")\n"
      ],
      "execution_count": 8,
      "outputs": []
    },
    {
      "cell_type": "markdown",
      "metadata": {
        "id": "X6jijQCcorCg"
      },
      "source": [
        "## Menampilkan Informasi dari Model yang Sudah Dibuat"
      ]
    },
    {
      "cell_type": "code",
      "metadata": {
        "id": "XCc72C54ot_w"
      },
      "source": [
        "# model.wv adalah Word Vector dari Model yang sudah dibuat\n",
        "w2v = model.wv"
      ],
      "execution_count": 9,
      "outputs": []
    },
    {
      "cell_type": "code",
      "metadata": {
        "colab": {
          "base_uri": "https://localhost:8080/"
        },
        "id": "ZKrvWt9Io422",
        "outputId": "c7a6a062-d4c5-4f7c-c777-a82911d03a04"
      },
      "source": [
        "# Menampilkan semua vocabulary yang sudah di-train\n",
        "w2v.index2word"
      ],
      "execution_count": 10,
      "outputs": [
        {
          "output_type": "execute_result",
          "data": {
            "text/plain": [
              "['sesuai',\n",
              " 'produk',\n",
              " 'harga',\n",
              " 'barang',\n",
              " 'ok',\n",
              " 'kualitas',\n",
              " 'ramah',\n",
              " 'dan',\n",
              " 'recommended',\n",
              " 'seller',\n",
              " 'cepat',\n",
              " 'tidak',\n",
              " 'gambar',\n",
              " 'responsif',\n",
              " 'pengiriman',\n",
              " 'baik',\n",
              " 'penjual',\n",
              " 'tapi',\n",
              " 'dengan',\n",
              " 'lumayan',\n",
              " 'bagus',\n",
              " 'sih',\n",
              " 'lah',\n",
              " 'sama',\n",
              " 'gak',\n",
              " 'barangnya',\n",
              " 'ada',\n",
              " 'memang',\n",
              " 'berfungsi',\n",
              " 'untuk',\n",
              " 'segini',\n",
              " 'sudah',\n",
              " 'dapat',\n",
              " 'ekspektasi',\n",
              " 'berbeda',\n",
              " 'sejauh',\n",
              " 'ini',\n",
              " 'yaaa',\n",
              " 'berkespektasi',\n",
              " 'tinggi',\n",
              " 'tengkyuu',\n",
              " 'sampai',\n",
              " 'pesanan',\n",
              " 'packing',\n",
              " 'rapi',\n",
              " 'sdh',\n",
              " 'diterimapacking',\n",
              " 'amansampainya',\n",
              " 'cepetjenis',\n",
              " 'jumlahnya',\n",
              " 'pesenanmakase',\n",
              " 'yah',\n",
              " 'di',\n",
              " 'pengirimanya',\n",
              " 'lama',\n",
              " 'realpicbarang',\n",
              " 'pesenanterimakasih',\n",
              " 'sellersukses',\n",
              " 'terus',\n",
              " 'aku',\n",
              " 'sering',\n",
              " 'beli',\n",
              " 'iniyamagata',\n",
              " 'okeee',\n",
              " 'ga',\n",
              " 'not',\n",
              " 'bad',\n",
              " 'wajar',\n",
              " 'mantap',\n",
              " 'pic',\n",
              " 'pokoknya',\n",
              " 'toko',\n",
              " 'nya',\n",
              " 'kurang',\n",
              " 'sellernya']"
            ]
          },
          "metadata": {},
          "execution_count": 10
        }
      ]
    },
    {
      "cell_type": "code",
      "metadata": {
        "colab": {
          "base_uri": "https://localhost:8080/"
        },
        "id": "cINrhrKWpDwK",
        "outputId": "6d0c23d5-05a2-4dad-9ea3-55de20f2a1fb"
      },
      "source": [
        "# Menampilkan vector yang sudah dibuat dari dokumen teks\n",
        "w2v.vectors"
      ],
      "execution_count": 11,
      "outputs": [
        {
          "output_type": "execute_result",
          "data": {
            "text/plain": [
              "array([[-0.00899482, -0.00469429,  0.00612097, ...,  0.00590502,\n",
              "         0.00037842,  0.00985739],\n",
              "       [-0.01034264, -0.00331706,  0.00157449, ...,  0.0013633 ,\n",
              "         0.00330209,  0.00802114],\n",
              "       [-0.00976989, -0.00765549,  0.00166701, ...,  0.00415661,\n",
              "         0.00134342,  0.00453294],\n",
              "       ...,\n",
              "       [-0.00488532,  0.00234049,  0.00300859, ...,  0.00311536,\n",
              "         0.00449372,  0.00163516],\n",
              "       [-0.00350064, -0.00618153,  0.00507002, ..., -0.00286307,\n",
              "        -0.00161371,  0.00180931],\n",
              "       [ 0.00328518,  0.00332507,  0.00442422, ..., -0.00445334,\n",
              "         0.0006798 , -0.00243232]], dtype=float32)"
            ]
          },
          "metadata": {},
          "execution_count": 11
        }
      ]
    },
    {
      "cell_type": "code",
      "metadata": {
        "colab": {
          "base_uri": "https://localhost:8080/"
        },
        "id": "lyQPHKDQpfLi",
        "outputId": "2b031996-10f7-481d-f390-1a463ff9dd7c"
      },
      "source": [
        "# Menampilkan ukuran vektor\n",
        "w2v.vector_size"
      ],
      "execution_count": 12,
      "outputs": [
        {
          "output_type": "execute_result",
          "data": {
            "text/plain": [
              "100"
            ]
          },
          "metadata": {},
          "execution_count": 12
        }
      ]
    },
    {
      "cell_type": "code",
      "metadata": {
        "colab": {
          "base_uri": "https://localhost:8080/"
        },
        "id": "u1htiGu_p36V",
        "outputId": "47a01c94-cc3a-4be1-ff35-68fbcc0d941c"
      },
      "source": [
        "# Menampilkan vektor kata yang terdapat pada vocabulary\n",
        "w2v['berbeda']"
      ],
      "execution_count": 13,
      "outputs": [
        {
          "output_type": "execute_result",
          "data": {
            "text/plain": [
              "array([-0.0025112 ,  0.00027866,  0.00309956,  0.00026942, -0.00067572,\n",
              "        0.0004757 , -0.00145396, -0.00154892,  0.00263235, -0.00281749,\n",
              "        0.0043042 ,  0.00097366,  0.00202209, -0.00342084,  0.00083656,\n",
              "        0.00054745,  0.00207112,  0.00050858, -0.00401105, -0.003432  ,\n",
              "        0.00238153,  0.00312226, -0.00017455, -0.00318581, -0.00168797,\n",
              "       -0.00334045,  0.00249109,  0.00035318,  0.00443811,  0.00410908,\n",
              "       -0.00330353,  0.00077631,  0.00406251,  0.00274032,  0.00225712,\n",
              "        0.00493956,  0.00101374, -0.00405515, -0.00437301,  0.00030543,\n",
              "        0.00110525,  0.00075843,  0.00056052, -0.00412768, -0.00349961,\n",
              "        0.00083154, -0.0031694 ,  0.00216978, -0.00297758, -0.00358258,\n",
              "       -0.00572141, -0.00313235,  0.00396179,  0.00093333,  0.00134702,\n",
              "        0.00647581, -0.00489627, -0.00440187,  0.0028021 ,  0.0033126 ,\n",
              "        0.00157963,  0.00378582,  0.00089235, -0.00017943, -0.00334412,\n",
              "       -0.00109922,  0.00170668,  0.00349996,  0.00099664,  0.00580969,\n",
              "        0.00026417, -0.00281304,  0.00424016,  0.00401102, -0.00248998,\n",
              "        0.00025696,  0.00456957, -0.00084293,  0.00173642,  0.00111471,\n",
              "       -0.00595101, -0.00530956, -0.00447454,  0.00145478, -0.00146281,\n",
              "        0.00320502, -0.00247277, -0.00037995, -0.00091338, -0.00372434,\n",
              "       -0.00454496, -0.00071178, -0.00220493,  0.004802  , -0.00355979,\n",
              "       -0.00099399,  0.00238267,  0.00376421, -0.00418468,  0.00555555],\n",
              "      dtype=float32)"
            ]
          },
          "metadata": {},
          "execution_count": 13
        }
      ]
    },
    {
      "cell_type": "markdown",
      "metadata": {
        "id": "TPklgZ0AqX4O"
      },
      "source": [
        "## Sanity Check\n",
        "> Untuk mengetahui apakah model yang sudah kita train sudah memiliki makna atau masih perlu dilakukan training lanjutan"
      ]
    },
    {
      "cell_type": "markdown",
      "metadata": {
        "id": "LYb7IP93qin1"
      },
      "source": [
        "### Similar Word"
      ]
    },
    {
      "cell_type": "code",
      "metadata": {
        "colab": {
          "base_uri": "https://localhost:8080/"
        },
        "id": "-0xUDnlFp-6n",
        "outputId": "9a83bcde-9608-489e-c2f6-5575cdc20751"
      },
      "source": [
        "# Menampilkan kata yang memiliki kemiripan makna dengan kata `produk`\n",
        "# atau dalam kata lain yaitu melihat hubungan semantik dari kata `produk` dengan kata lainnya.\n",
        "w2v.similar_by_word(\"produk\", topn=5)"
      ],
      "execution_count": 14,
      "outputs": [
        {
          "output_type": "execute_result",
          "data": {
            "text/plain": [
              "[('sesuai', 0.624229907989502),\n",
              " ('pesenanmakase', 0.6022888422012329),\n",
              " ('harga', 0.5739346742630005),\n",
              " ('cepetjenis', 0.5711448788642883),\n",
              " ('dan', 0.5587095022201538)]"
            ]
          },
          "metadata": {},
          "execution_count": 14
        }
      ]
    },
    {
      "cell_type": "markdown",
      "metadata": {
        "id": "AZ7e5HNHte2X"
      },
      "source": [
        "---"
      ]
    },
    {
      "cell_type": "markdown",
      "metadata": {
        "id": "4VvPSHL9tawr"
      },
      "source": [
        "## TF-IDF"
      ]
    },
    {
      "cell_type": "code",
      "metadata": {
        "colab": {
          "base_uri": "https://localhost:8080/"
        },
        "id": "AEnPHEPH1uzL",
        "outputId": "c2ee9676-bfbd-4f6c-b1f4-6625ac5ba7d0"
      },
      "source": [
        "# Menggunakan dataset yang sama seperti pada Word2vec. \n",
        "komentar"
      ],
      "execution_count": 15,
      "outputs": [
        {
          "output_type": "execute_result",
          "data": {
            "text/plain": [
              "['Pengiriman cepat kualitas produk baik penjual ramah',\n",
              " 'Produk tidak sesuai gambar tapi memang sesuai harga',\n",
              " 'penjual responsif dan ramah produk berfungsi dengan baik',\n",
              " 'Lumayan untuk harga segini sudah dapat produk bagus',\n",
              " 'Tidak sesuai ekspektasi produk berbeda dengan gambar',\n",
              " 'Sejauh ini yaaa lumayan sih tidak berkespektasi tinggi sesuai lah sama harga tengkyuu',\n",
              " 'Barang cepat sampai dan sesuai pesanan Packing rapi dan harga recommended',\n",
              " 'Barang sdh diterimapacking amansampainya cepetjenis dan jumlahnya sesuai pesenanmakase yah',\n",
              " 'seller ramah tapi di pengirimanya lama',\n",
              " 'realpicbarang sesuai pesenanterimakasih sellersukses terus',\n",
              " 'Barang bagus aku sering beli produk iniyamagata okeee',\n",
              " 'seller gak responsif ga sesuai gambar',\n",
              " 'barang ok kualitas ok',\n",
              " 'harga sesuai sama barangnya not bad lah',\n",
              " 'wajar sih ada harga ada barang',\n",
              " 'mantap kualitas ok sesuai pic',\n",
              " 'recommended pokoknya',\n",
              " 'kualitas ok seller ramah pengiriman cepat',\n",
              " 'toko nya gak recommended seller kurang responsif',\n",
              " 'ok barangnya recommended sellernya']"
            ]
          },
          "metadata": {},
          "execution_count": 15
        }
      ]
    },
    {
      "cell_type": "code",
      "metadata": {
        "id": "DYJzS0h9shOE"
      },
      "source": [
        "# Import Library yang dibutuhkan\n",
        "from sklearn.feature_extraction.text import TfidfVectorizer\n",
        "import pandas as pd\n",
        "\n",
        "\n",
        "vectorizer = TfidfVectorizer()\n",
        "result = vectorizer.fit_transform(komentar) #tfidf"
      ],
      "execution_count": 16,
      "outputs": []
    },
    {
      "cell_type": "code",
      "metadata": {
        "colab": {
          "base_uri": "https://localhost:8080/"
        },
        "id": "Ev0sewgU15Be",
        "outputId": "e2214e30-e456-4590-8f7a-3bb28cc072ba"
      },
      "source": [
        "# Menampilkan nama fitur / token dari dataset\n",
        "print(vectorizer.get_feature_names())"
      ],
      "execution_count": 17,
      "outputs": [
        {
          "output_type": "stream",
          "name": "stdout",
          "text": [
            "['ada', 'aku', 'amansampainya', 'bad', 'bagus', 'baik', 'barang', 'barangnya', 'beli', 'berbeda', 'berfungsi', 'berkespektasi', 'cepat', 'cepetjenis', 'dan', 'dapat', 'dengan', 'di', 'diterimapacking', 'ekspektasi', 'ga', 'gak', 'gambar', 'harga', 'ini', 'iniyamagata', 'jumlahnya', 'kualitas', 'kurang', 'lah', 'lama', 'lumayan', 'mantap', 'memang', 'not', 'nya', 'ok', 'okeee', 'packing', 'pengiriman', 'pengirimanya', 'penjual', 'pesanan', 'pesenanmakase', 'pesenanterimakasih', 'pic', 'pokoknya', 'produk', 'ramah', 'rapi', 'realpicbarang', 'recommended', 'responsif', 'sama', 'sampai', 'sdh', 'segini', 'sejauh', 'seller', 'sellernya', 'sellersukses', 'sering', 'sesuai', 'sih', 'sudah', 'tapi', 'tengkyuu', 'terus', 'tidak', 'tinggi', 'toko', 'untuk', 'wajar', 'yaaa', 'yah']\n"
          ]
        }
      ]
    },
    {
      "cell_type": "code",
      "metadata": {
        "colab": {
          "base_uri": "https://localhost:8080/"
        },
        "id": "zKAohjpG10w5",
        "outputId": "3ba4f624-3ddf-4833-f3d0-ffcf34925919"
      },
      "source": [
        "# Menampilkan hasil vektor kata\n",
        "print(result)"
      ],
      "execution_count": 18,
      "outputs": [
        {
          "output_type": "stream",
          "name": "stdout",
          "text": [
            "  (0, 48)\t0.3465815374891616\n",
            "  (0, 41)\t0.41928650039086696\n",
            "  (0, 5)\t0.41928650039086696\n",
            "  (0, 47)\t0.29869200269909457\n",
            "  (0, 27)\t0.3465815374891616\n",
            "  (0, 12)\t0.37834118866023614\n",
            "  (0, 39)\t0.41928650039086696\n",
            "  (1, 23)\t0.28300722075106505\n",
            "  (1, 33)\t0.45194789068240265\n",
            "  (1, 65)\t0.39726911367493173\n",
            "  (1, 22)\t0.35847390399084283\n",
            "  (1, 62)\t0.469816029684285\n",
            "  (1, 68)\t0.35847390399084283\n",
            "  (1, 47)\t0.28300722075106505\n",
            "  (2, 16)\t0.3749390439666552\n",
            "  (2, 10)\t0.42654438571296155\n",
            "  (2, 14)\t0.3383244713036003\n",
            "  (2, 52)\t0.3383244713036003\n",
            "  (2, 48)\t0.3099240023266685\n",
            "  (2, 41)\t0.3749390439666552\n",
            "  (2, 5)\t0.3749390439666552\n",
            "  (2, 47)\t0.26709968918170196\n",
            "  (3, 4)\t0.34938895927010233\n",
            "  (3, 15)\t0.39747767378425\n",
            "  (3, 64)\t0.39747767378425\n",
            "  :\t:\n",
            "  (14, 23)\t0.2434393668525939\n",
            "  (15, 45)\t0.5483233810014905\n",
            "  (15, 32)\t0.5483233810014905\n",
            "  (15, 36)\t0.39840772145019154\n",
            "  (15, 62)\t0.2850009029317661\n",
            "  (15, 27)\t0.39840772145019154\n",
            "  (16, 46)\t0.8089977238779507\n",
            "  (16, 51)\t0.5878117749418559\n",
            "  (17, 36)\t0.3876308990254831\n",
            "  (17, 58)\t0.3876308990254831\n",
            "  (17, 48)\t0.3876308990254831\n",
            "  (17, 27)\t0.3876308990254831\n",
            "  (17, 12)\t0.4231521856622946\n",
            "  (17, 39)\t0.46894708896847387\n",
            "  (18, 28)\t0.42805188921603476\n",
            "  (18, 35)\t0.42805188921603476\n",
            "  (18, 70)\t0.42805188921603476\n",
            "  (18, 21)\t0.3762641626205414\n",
            "  (18, 58)\t0.31101934324508895\n",
            "  (18, 51)\t0.31101934324508895\n",
            "  (18, 52)\t0.33952018584761684\n",
            "  (19, 59)\t0.5945915275476735\n",
            "  (19, 7)\t0.5226550538621318\n",
            "  (19, 36)\t0.43202581522456274\n",
            "  (19, 51)\t0.43202581522456274\n"
          ]
        }
      ]
    },
    {
      "cell_type": "markdown",
      "metadata": {
        "id": "gvtQRTZX8Llu"
      },
      "source": [
        "**(4, 16)\t0.21680124922897376**\n",
        "Artinya:\n",
        "> Terdapat kata dengan index ke-16 pada `vectorizer.get_feature_names()` dalam dokumen ke-5 (index dari nol)\n",
        ">\n",
        "> dengan bobot TF-IDF 0.21680124922897376"
      ]
    },
    {
      "cell_type": "code",
      "metadata": {
        "colab": {
          "base_uri": "https://localhost:8080/"
        },
        "id": "Cx-59-0B8POw",
        "outputId": "818a62a4-b20e-4890-cd63-995043b0744a"
      },
      "source": [
        "print(f\"Teks dokumen ke-{4+1}:\\n{komentar[4]}\")\n",
        "print(f\"Fitur Name ke-16: {vectorizer.get_feature_names()[16]}\")"
      ],
      "execution_count": 19,
      "outputs": [
        {
          "output_type": "stream",
          "name": "stdout",
          "text": [
            "Teks dokumen ke-5:\n",
            "Tidak sesuai ekspektasi produk berbeda dengan gambar\n",
            "Fitur Name ke-16: dengan\n"
          ]
        }
      ]
    },
    {
      "cell_type": "markdown",
      "metadata": {
        "id": "QDZxrB4p8STH"
      },
      "source": [
        "> Dapat diketahui bahwa di dalam dokumen ke-1 (index ke-0) terdapat kata produk"
      ]
    },
    {
      "cell_type": "code",
      "metadata": {
        "colab": {
          "base_uri": "https://localhost:8080/"
        },
        "id": "SDBhuCu-2V7Z",
        "outputId": "acc80686-ac49-4d14-8464-72c56f235075"
      },
      "source": [
        "# Menampilkan hasil TF-IDF dalam bentuk list dua dimensi\n",
        "result.todense()"
      ],
      "execution_count": 20,
      "outputs": [
        {
          "output_type": "execute_result",
          "data": {
            "text/plain": [
              "matrix([[0., 0., 0., ..., 0., 0., 0.],\n",
              "        [0., 0., 0., ..., 0., 0., 0.],\n",
              "        [0., 0., 0., ..., 0., 0., 0.],\n",
              "        ...,\n",
              "        [0., 0., 0., ..., 0., 0., 0.],\n",
              "        [0., 0., 0., ..., 0., 0., 0.],\n",
              "        [0., 0., 0., ..., 0., 0., 0.]])"
            ]
          },
          "metadata": {},
          "execution_count": 20
        }
      ]
    },
    {
      "cell_type": "code",
      "metadata": {
        "colab": {
          "base_uri": "https://localhost:8080/",
          "height": 417
        },
        "id": "9j2RVkIb2ZkT",
        "outputId": "abf5fad1-5b8c-45b9-a14e-e9134bef2eef"
      },
      "source": [
        "# Membuat dataframe dari list dua dimensi tersebut. \n",
        "# Dilakukan transpose agar nama kolom berubah menjadi nama baris\n",
        "# Nama kolom diubah menjadi urutan dokumen\n",
        "df = pd.DataFrame(result.todense().T,\n",
        "                  index=vectorizer.get_feature_names(),\n",
        "                  columns=[f\"D{i+1}\" for i in range(len(komentar))])\n",
        "df"
      ],
      "execution_count": 21,
      "outputs": [
        {
          "output_type": "execute_result",
          "data": {
            "text/html": [
              "<div>\n",
              "<style scoped>\n",
              "    .dataframe tbody tr th:only-of-type {\n",
              "        vertical-align: middle;\n",
              "    }\n",
              "\n",
              "    .dataframe tbody tr th {\n",
              "        vertical-align: top;\n",
              "    }\n",
              "\n",
              "    .dataframe thead th {\n",
              "        text-align: right;\n",
              "    }\n",
              "</style>\n",
              "<table border=\"1\" class=\"dataframe\">\n",
              "  <thead>\n",
              "    <tr style=\"text-align: right;\">\n",
              "      <th></th>\n",
              "      <th>D1</th>\n",
              "      <th>D2</th>\n",
              "      <th>D3</th>\n",
              "      <th>D4</th>\n",
              "      <th>D5</th>\n",
              "      <th>D6</th>\n",
              "      <th>D7</th>\n",
              "      <th>D8</th>\n",
              "      <th>D9</th>\n",
              "      <th>D10</th>\n",
              "      <th>D11</th>\n",
              "      <th>D12</th>\n",
              "      <th>D13</th>\n",
              "      <th>D14</th>\n",
              "      <th>D15</th>\n",
              "      <th>D16</th>\n",
              "      <th>D17</th>\n",
              "      <th>D18</th>\n",
              "      <th>D19</th>\n",
              "      <th>D20</th>\n",
              "    </tr>\n",
              "  </thead>\n",
              "  <tbody>\n",
              "    <tr>\n",
              "      <th>ada</th>\n",
              "      <td>0.0</td>\n",
              "      <td>0.0</td>\n",
              "      <td>0.0</td>\n",
              "      <td>0.000000</td>\n",
              "      <td>0.0</td>\n",
              "      <td>0.000000</td>\n",
              "      <td>0.0</td>\n",
              "      <td>0.000000</td>\n",
              "      <td>0.0</td>\n",
              "      <td>0.0</td>\n",
              "      <td>0.000000</td>\n",
              "      <td>0.0</td>\n",
              "      <td>0.0</td>\n",
              "      <td>0.000000</td>\n",
              "      <td>0.77752</td>\n",
              "      <td>0.0</td>\n",
              "      <td>0.0</td>\n",
              "      <td>0.0</td>\n",
              "      <td>0.000000</td>\n",
              "      <td>0.0</td>\n",
              "    </tr>\n",
              "    <tr>\n",
              "      <th>aku</th>\n",
              "      <td>0.0</td>\n",
              "      <td>0.0</td>\n",
              "      <td>0.0</td>\n",
              "      <td>0.000000</td>\n",
              "      <td>0.0</td>\n",
              "      <td>0.000000</td>\n",
              "      <td>0.0</td>\n",
              "      <td>0.000000</td>\n",
              "      <td>0.0</td>\n",
              "      <td>0.0</td>\n",
              "      <td>0.388760</td>\n",
              "      <td>0.0</td>\n",
              "      <td>0.0</td>\n",
              "      <td>0.000000</td>\n",
              "      <td>0.00000</td>\n",
              "      <td>0.0</td>\n",
              "      <td>0.0</td>\n",
              "      <td>0.0</td>\n",
              "      <td>0.000000</td>\n",
              "      <td>0.0</td>\n",
              "    </tr>\n",
              "    <tr>\n",
              "      <th>amansampainya</th>\n",
              "      <td>0.0</td>\n",
              "      <td>0.0</td>\n",
              "      <td>0.0</td>\n",
              "      <td>0.000000</td>\n",
              "      <td>0.0</td>\n",
              "      <td>0.000000</td>\n",
              "      <td>0.0</td>\n",
              "      <td>0.346041</td>\n",
              "      <td>0.0</td>\n",
              "      <td>0.0</td>\n",
              "      <td>0.000000</td>\n",
              "      <td>0.0</td>\n",
              "      <td>0.0</td>\n",
              "      <td>0.000000</td>\n",
              "      <td>0.00000</td>\n",
              "      <td>0.0</td>\n",
              "      <td>0.0</td>\n",
              "      <td>0.0</td>\n",
              "      <td>0.000000</td>\n",
              "      <td>0.0</td>\n",
              "    </tr>\n",
              "    <tr>\n",
              "      <th>bad</th>\n",
              "      <td>0.0</td>\n",
              "      <td>0.0</td>\n",
              "      <td>0.0</td>\n",
              "      <td>0.000000</td>\n",
              "      <td>0.0</td>\n",
              "      <td>0.000000</td>\n",
              "      <td>0.0</td>\n",
              "      <td>0.000000</td>\n",
              "      <td>0.0</td>\n",
              "      <td>0.0</td>\n",
              "      <td>0.000000</td>\n",
              "      <td>0.0</td>\n",
              "      <td>0.0</td>\n",
              "      <td>0.448098</td>\n",
              "      <td>0.00000</td>\n",
              "      <td>0.0</td>\n",
              "      <td>0.0</td>\n",
              "      <td>0.0</td>\n",
              "      <td>0.000000</td>\n",
              "      <td>0.0</td>\n",
              "    </tr>\n",
              "    <tr>\n",
              "      <th>bagus</th>\n",
              "      <td>0.0</td>\n",
              "      <td>0.0</td>\n",
              "      <td>0.0</td>\n",
              "      <td>0.349389</td>\n",
              "      <td>0.0</td>\n",
              "      <td>0.000000</td>\n",
              "      <td>0.0</td>\n",
              "      <td>0.000000</td>\n",
              "      <td>0.0</td>\n",
              "      <td>0.0</td>\n",
              "      <td>0.341726</td>\n",
              "      <td>0.0</td>\n",
              "      <td>0.0</td>\n",
              "      <td>0.000000</td>\n",
              "      <td>0.00000</td>\n",
              "      <td>0.0</td>\n",
              "      <td>0.0</td>\n",
              "      <td>0.0</td>\n",
              "      <td>0.000000</td>\n",
              "      <td>0.0</td>\n",
              "    </tr>\n",
              "    <tr>\n",
              "      <th>...</th>\n",
              "      <td>...</td>\n",
              "      <td>...</td>\n",
              "      <td>...</td>\n",
              "      <td>...</td>\n",
              "      <td>...</td>\n",
              "      <td>...</td>\n",
              "      <td>...</td>\n",
              "      <td>...</td>\n",
              "      <td>...</td>\n",
              "      <td>...</td>\n",
              "      <td>...</td>\n",
              "      <td>...</td>\n",
              "      <td>...</td>\n",
              "      <td>...</td>\n",
              "      <td>...</td>\n",
              "      <td>...</td>\n",
              "      <td>...</td>\n",
              "      <td>...</td>\n",
              "      <td>...</td>\n",
              "      <td>...</td>\n",
              "    </tr>\n",
              "    <tr>\n",
              "      <th>toko</th>\n",
              "      <td>0.0</td>\n",
              "      <td>0.0</td>\n",
              "      <td>0.0</td>\n",
              "      <td>0.000000</td>\n",
              "      <td>0.0</td>\n",
              "      <td>0.000000</td>\n",
              "      <td>0.0</td>\n",
              "      <td>0.000000</td>\n",
              "      <td>0.0</td>\n",
              "      <td>0.0</td>\n",
              "      <td>0.000000</td>\n",
              "      <td>0.0</td>\n",
              "      <td>0.0</td>\n",
              "      <td>0.000000</td>\n",
              "      <td>0.00000</td>\n",
              "      <td>0.0</td>\n",
              "      <td>0.0</td>\n",
              "      <td>0.0</td>\n",
              "      <td>0.428052</td>\n",
              "      <td>0.0</td>\n",
              "    </tr>\n",
              "    <tr>\n",
              "      <th>untuk</th>\n",
              "      <td>0.0</td>\n",
              "      <td>0.0</td>\n",
              "      <td>0.0</td>\n",
              "      <td>0.397478</td>\n",
              "      <td>0.0</td>\n",
              "      <td>0.000000</td>\n",
              "      <td>0.0</td>\n",
              "      <td>0.000000</td>\n",
              "      <td>0.0</td>\n",
              "      <td>0.0</td>\n",
              "      <td>0.000000</td>\n",
              "      <td>0.0</td>\n",
              "      <td>0.0</td>\n",
              "      <td>0.000000</td>\n",
              "      <td>0.00000</td>\n",
              "      <td>0.0</td>\n",
              "      <td>0.0</td>\n",
              "      <td>0.0</td>\n",
              "      <td>0.000000</td>\n",
              "      <td>0.0</td>\n",
              "    </tr>\n",
              "    <tr>\n",
              "      <th>wajar</th>\n",
              "      <td>0.0</td>\n",
              "      <td>0.0</td>\n",
              "      <td>0.0</td>\n",
              "      <td>0.000000</td>\n",
              "      <td>0.0</td>\n",
              "      <td>0.000000</td>\n",
              "      <td>0.0</td>\n",
              "      <td>0.000000</td>\n",
              "      <td>0.0</td>\n",
              "      <td>0.0</td>\n",
              "      <td>0.000000</td>\n",
              "      <td>0.0</td>\n",
              "      <td>0.0</td>\n",
              "      <td>0.000000</td>\n",
              "      <td>0.38876</td>\n",
              "      <td>0.0</td>\n",
              "      <td>0.0</td>\n",
              "      <td>0.0</td>\n",
              "      <td>0.000000</td>\n",
              "      <td>0.0</td>\n",
              "    </tr>\n",
              "    <tr>\n",
              "      <th>yaaa</th>\n",
              "      <td>0.0</td>\n",
              "      <td>0.0</td>\n",
              "      <td>0.0</td>\n",
              "      <td>0.000000</td>\n",
              "      <td>0.0</td>\n",
              "      <td>0.310354</td>\n",
              "      <td>0.0</td>\n",
              "      <td>0.000000</td>\n",
              "      <td>0.0</td>\n",
              "      <td>0.0</td>\n",
              "      <td>0.000000</td>\n",
              "      <td>0.0</td>\n",
              "      <td>0.0</td>\n",
              "      <td>0.000000</td>\n",
              "      <td>0.00000</td>\n",
              "      <td>0.0</td>\n",
              "      <td>0.0</td>\n",
              "      <td>0.0</td>\n",
              "      <td>0.000000</td>\n",
              "      <td>0.0</td>\n",
              "    </tr>\n",
              "    <tr>\n",
              "      <th>yah</th>\n",
              "      <td>0.0</td>\n",
              "      <td>0.0</td>\n",
              "      <td>0.0</td>\n",
              "      <td>0.000000</td>\n",
              "      <td>0.0</td>\n",
              "      <td>0.000000</td>\n",
              "      <td>0.0</td>\n",
              "      <td>0.346041</td>\n",
              "      <td>0.0</td>\n",
              "      <td>0.0</td>\n",
              "      <td>0.000000</td>\n",
              "      <td>0.0</td>\n",
              "      <td>0.0</td>\n",
              "      <td>0.000000</td>\n",
              "      <td>0.00000</td>\n",
              "      <td>0.0</td>\n",
              "      <td>0.0</td>\n",
              "      <td>0.0</td>\n",
              "      <td>0.000000</td>\n",
              "      <td>0.0</td>\n",
              "    </tr>\n",
              "  </tbody>\n",
              "</table>\n",
              "<p>75 rows × 20 columns</p>\n",
              "</div>"
            ],
            "text/plain": [
              "                D1   D2   D3        D4   D5  ...  D16  D17  D18       D19  D20\n",
              "ada            0.0  0.0  0.0  0.000000  0.0  ...  0.0  0.0  0.0  0.000000  0.0\n",
              "aku            0.0  0.0  0.0  0.000000  0.0  ...  0.0  0.0  0.0  0.000000  0.0\n",
              "amansampainya  0.0  0.0  0.0  0.000000  0.0  ...  0.0  0.0  0.0  0.000000  0.0\n",
              "bad            0.0  0.0  0.0  0.000000  0.0  ...  0.0  0.0  0.0  0.000000  0.0\n",
              "bagus          0.0  0.0  0.0  0.349389  0.0  ...  0.0  0.0  0.0  0.000000  0.0\n",
              "...            ...  ...  ...       ...  ...  ...  ...  ...  ...       ...  ...\n",
              "toko           0.0  0.0  0.0  0.000000  0.0  ...  0.0  0.0  0.0  0.428052  0.0\n",
              "untuk          0.0  0.0  0.0  0.397478  0.0  ...  0.0  0.0  0.0  0.000000  0.0\n",
              "wajar          0.0  0.0  0.0  0.000000  0.0  ...  0.0  0.0  0.0  0.000000  0.0\n",
              "yaaa           0.0  0.0  0.0  0.000000  0.0  ...  0.0  0.0  0.0  0.000000  0.0\n",
              "yah            0.0  0.0  0.0  0.000000  0.0  ...  0.0  0.0  0.0  0.000000  0.0\n",
              "\n",
              "[75 rows x 20 columns]"
            ]
          },
          "metadata": {},
          "execution_count": 21
        }
      ]
    },
    {
      "cell_type": "markdown",
      "metadata": {
        "id": "1ODlrrrp9H3b"
      },
      "source": [
        "Kata **tidak** memiliki bobot lebih tinggi pada dokumen ke-5 daripada bobot pada dokumen ke-2"
      ]
    }
  ]
}
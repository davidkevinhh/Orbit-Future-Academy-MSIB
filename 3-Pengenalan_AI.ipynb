{
  "nbformat": 4,
  "nbformat_minor": 0,
  "metadata": {
    "colab": {
      "name": "Prak3 Pengenalan AI.ipynb",
      "provenance": [],
      "collapsed_sections": [
        "WA8wMETa0VCO",
        "oQtNPAVe4cVH",
        "VncYiRCo8f3m",
        "6NobwuVw-v3k",
        "605babKcSl0c"
      ],
      "include_colab_link": true
    },
    "kernelspec": {
      "name": "python3",
      "display_name": "Python 3"
    },
    "language_info": {
      "name": "python"
    }
  },
  "cells": [
    {
      "cell_type": "markdown",
      "metadata": {
        "id": "view-in-github",
        "colab_type": "text"
      },
      "source": [
        "<a href=\"https://colab.research.google.com/github/davidkevinhh/Orbit-Future-Academy-MSIB/blob/Assesments/Prak3_Pengenalan_AI.ipynb\" target=\"_parent\"><img src=\"https://colab.research.google.com/assets/colab-badge.svg\" alt=\"Open In Colab\"/></a>"
      ]
    },
    {
      "cell_type": "markdown",
      "metadata": {
        "id": "F9RmP8oJEr-8"
      },
      "source": [
        "# Pengenalan AI dengan Python\n",
        "Sebelum lanjut, harap:\n",
        "1. Jika menggunakan jupyter, silahkan pilih \"File\" --> \"Download\" --> \"Download .ipynb\"\n",
        "2. Jika menggunakan colab, silahkan pilih \"File\" --> \"Save a copy in drive\""
      ]
    },
    {
      "cell_type": "markdown",
      "metadata": {
        "id": "ttcCioV2TWeK"
      },
      "source": [
        "Materi : \n",
        "1. Reading & Writing File\n",
        "2. Operasi Matematika & Numpy\n",
        "3. Pandas & Statistik Deskriptif\n",
        "4. Library untuk Visualisasi"
      ]
    },
    {
      "cell_type": "markdown",
      "metadata": {
        "id": "WZgEMeZ7JLNm"
      },
      "source": [
        "## Reading & Writing File"
      ]
    },
    {
      "cell_type": "markdown",
      "metadata": {
        "id": "Fnd29cqZ4uTK"
      },
      "source": [
        "### Fungsi 'open'\n",
        "1. Struktur menggunakan \"with\"\n",
        "<img src=\"https://s3-api.us-geo.objectstorage.softlayer.net/cf-courses-data/CognitiveClass/PY0101EN/Chapter%204/Images/ReadWith.png\" width=\"500\" />\n",
        "\n",
        "2. Struktur menggunakan \"file object\"\n",
        "<img src=\"https://s3-api.us-geo.objectstorage.softlayer.net/cf-courses-data/CognitiveClass/PY0101EN/Chapter%204/Images/ReadOpen.png\" width=\"500\" />\n",
        "\n",
        "Keterangan mode:\n",
        "*   Read (kode: **r**) – membaca sebuah file (**r+** artinya sekaligus menulis)\n",
        "*   Write (kode: **w**) – menulis sebuah file (**w+** artinya sekaligus membaca)\n",
        "*   Append (kode: **a**) – menambah isi sebuah file (**a+** artinya sekaligus membaca)\n"
      ]
    },
    {
      "cell_type": "code",
      "metadata": {
        "id": "O1tkv-JEnLlu",
        "colab": {
          "base_uri": "https://localhost:8080/",
          "height": 316
        },
        "outputId": "051c04c1-6a9f-4dcb-b6f1-c055a8075850"
      },
      "source": [
        "import os\n",
        "#Menambah folder 'latihan' \n",
        "os.makedirs('latihan')"
      ],
      "execution_count": 51,
      "outputs": [
        {
          "output_type": "error",
          "ename": "FileExistsError",
          "evalue": "ignored",
          "traceback": [
            "\u001b[0;31m---------------------------------------------------------------------------\u001b[0m",
            "\u001b[0;31mFileExistsError\u001b[0m                           Traceback (most recent call last)",
            "\u001b[0;32m<ipython-input-51-ef50c567d668>\u001b[0m in \u001b[0;36m<module>\u001b[0;34m()\u001b[0m\n\u001b[1;32m      1\u001b[0m \u001b[0;32mimport\u001b[0m \u001b[0mos\u001b[0m\u001b[0;34m\u001b[0m\u001b[0;34m\u001b[0m\u001b[0m\n\u001b[1;32m      2\u001b[0m \u001b[0;31m#Menambah folder 'latihan'\u001b[0m\u001b[0;34m\u001b[0m\u001b[0;34m\u001b[0m\u001b[0;34m\u001b[0m\u001b[0m\n\u001b[0;32m----> 3\u001b[0;31m \u001b[0mos\u001b[0m\u001b[0;34m.\u001b[0m\u001b[0mmakedirs\u001b[0m\u001b[0;34m(\u001b[0m\u001b[0;34m'latihan'\u001b[0m\u001b[0;34m)\u001b[0m\u001b[0;34m\u001b[0m\u001b[0;34m\u001b[0m\u001b[0m\n\u001b[0m",
            "\u001b[0;32m/usr/lib/python3.7/os.py\u001b[0m in \u001b[0;36mmakedirs\u001b[0;34m(name, mode, exist_ok)\u001b[0m\n\u001b[1;32m    221\u001b[0m             \u001b[0;32mreturn\u001b[0m\u001b[0;34m\u001b[0m\u001b[0;34m\u001b[0m\u001b[0m\n\u001b[1;32m    222\u001b[0m     \u001b[0;32mtry\u001b[0m\u001b[0;34m:\u001b[0m\u001b[0;34m\u001b[0m\u001b[0;34m\u001b[0m\u001b[0m\n\u001b[0;32m--> 223\u001b[0;31m         \u001b[0mmkdir\u001b[0m\u001b[0;34m(\u001b[0m\u001b[0mname\u001b[0m\u001b[0;34m,\u001b[0m \u001b[0mmode\u001b[0m\u001b[0;34m)\u001b[0m\u001b[0;34m\u001b[0m\u001b[0;34m\u001b[0m\u001b[0m\n\u001b[0m\u001b[1;32m    224\u001b[0m     \u001b[0;32mexcept\u001b[0m \u001b[0mOSError\u001b[0m\u001b[0;34m:\u001b[0m\u001b[0;34m\u001b[0m\u001b[0;34m\u001b[0m\u001b[0m\n\u001b[1;32m    225\u001b[0m         \u001b[0;31m# Cannot rely on checking for EEXIST, since the operating system\u001b[0m\u001b[0;34m\u001b[0m\u001b[0;34m\u001b[0m\u001b[0;34m\u001b[0m\u001b[0m\n",
            "\u001b[0;31mFileExistsError\u001b[0m: [Errno 17] File exists: 'latihan'"
          ]
        }
      ]
    },
    {
      "cell_type": "code",
      "metadata": {
        "id": "lSms7K9V95BU"
      },
      "source": [
        "#Menulis file baru\n",
        "with open('latihan/contoh.txt', 'w') as c:\n",
        "  c.write('saya keren.')                    #hanya bisa menulis karena modenya \"w\" bukan \"w+\""
      ],
      "execution_count": 52,
      "outputs": []
    },
    {
      "cell_type": "code",
      "metadata": {
        "colab": {
          "base_uri": "https://localhost:8080/",
          "height": 52
        },
        "id": "XOHOWBbZ93KA",
        "outputId": "130f2b89-a9ca-42a2-d70b-26530607d5f2"
      },
      "source": [
        "#Membaca file dengan \"with\"\n",
        "with open('latihan/contoh.txt', 'r') as c:\n",
        "    print(c.read())\n",
        "\n",
        "#Membaca file dengan \"file object\"\n",
        "file = open('latihan/contoh.txt', 'r')\n",
        "file.read()"
      ],
      "execution_count": 53,
      "outputs": [
        {
          "output_type": "stream",
          "name": "stdout",
          "text": [
            "saya keren.\n"
          ]
        },
        {
          "output_type": "execute_result",
          "data": {
            "application/vnd.google.colaboratory.intrinsic+json": {
              "type": "string"
            },
            "text/plain": [
              "'saya keren.'"
            ]
          },
          "metadata": {},
          "execution_count": 53
        }
      ]
    },
    {
      "cell_type": "markdown",
      "metadata": {
        "id": "YfCzYjMsHsPQ"
      },
      "source": [
        "### Membedakan \"write\" dan \"append\""
      ]
    },
    {
      "cell_type": "code",
      "metadata": {
        "colab": {
          "base_uri": "https://localhost:8080/",
          "height": 35
        },
        "id": "CyviqdwBFkP-",
        "outputId": "f408701f-3b49-4c8d-a4dd-a9d5f37146e6"
      },
      "source": [
        "#Append\n",
        "file = open('latihan/contoh.txt', 'a+')\n",
        "file.write(' belajar AI menyenangkan.')\n",
        "file.seek(0)                          #seek(0) artinya mulai dari huruf yang pertama (index 0)\n",
        "file.read()                           #bisa sekaligus read karena modenya \"a+\""
      ],
      "execution_count": 54,
      "outputs": [
        {
          "output_type": "execute_result",
          "data": {
            "application/vnd.google.colaboratory.intrinsic+json": {
              "type": "string"
            },
            "text/plain": [
              "'saya keren. belajar AI menyenangkan.'"
            ]
          },
          "metadata": {},
          "execution_count": 54
        }
      ]
    },
    {
      "cell_type": "code",
      "metadata": {
        "colab": {
          "base_uri": "https://localhost:8080/",
          "height": 35
        },
        "id": "gOFk_bC0IA3F",
        "outputId": "7b0687d9-ad1c-4916-c75a-c7eabfc6ae00"
      },
      "source": [
        "#Write\n",
        "file = open('latihan/contoh.txt', 'w+')\n",
        "file.write(' belajar AI menyenangkan.')\n",
        "file.seek(0)                          #seek(0) artinya mulai dari huruf yang pertama (index 0)\n",
        "file.read()                           #bisa sekaligus read karena modenya \"w+\""
      ],
      "execution_count": 55,
      "outputs": [
        {
          "output_type": "execute_result",
          "data": {
            "application/vnd.google.colaboratory.intrinsic+json": {
              "type": "string"
            },
            "text/plain": [
              "' belajar AI menyenangkan.'"
            ]
          },
          "metadata": {},
          "execution_count": 55
        }
      ]
    },
    {
      "cell_type": "markdown",
      "metadata": {
        "id": "ZmKKOMhFIIR_"
      },
      "source": [
        "Bisa kah kamu melihat perbedaannya?"
      ]
    },
    {
      "cell_type": "code",
      "metadata": {
        "colab": {
          "base_uri": "https://localhost:8080/"
        },
        "id": "7dOhVBlg-acT",
        "outputId": "ea939cde-a7bd-47df-a605-750b3520e5f8"
      },
      "source": [
        "#Mengetahui nama file dan lokasinya\n",
        "print(file.name)\n",
        "\n",
        "#Mengetahui mode dari file\n",
        "print(file.mode)"
      ],
      "execution_count": 56,
      "outputs": [
        {
          "output_type": "stream",
          "name": "stdout",
          "text": [
            "latihan/contoh.txt\n",
            "w+\n"
          ]
        }
      ]
    },
    {
      "cell_type": "markdown",
      "metadata": {
        "id": "oREZu1YaJe4l"
      },
      "source": [
        "### Latihan 1 (menulis file)\n",
        "\n",
        "Buat file baru di folder \"latihan\", namanya \"kata bung karno.txt\". Isinya : \"Bermimpilah setinggi langit. Jika engkau jatuh, kau kan jatuh di antara bintang-bintang. \""
      ]
    },
    {
      "cell_type": "code",
      "metadata": {
        "id": "uxPw2hOfLyN4",
        "colab": {
          "base_uri": "https://localhost:8080/",
          "height": 35
        },
        "outputId": "4310591e-6aae-4140-e5dd-12a6ee25fdfc"
      },
      "source": [
        "#Tulis jawabanmu disini\n",
        "with open('latihan/kata bung karno.txt','w+') as bk:\n",
        "  bk.write(\"Bermimpilah setinggi langit.\")\n",
        "file = open('latihan/kata bung karno.txt','a+')\n",
        "file.write(\" Jika engkau jatuh, kau kan jatuh di antara bintang-bintang.\")\n",
        "file.seek(0)\n",
        "file.read()"
      ],
      "execution_count": 57,
      "outputs": [
        {
          "output_type": "execute_result",
          "data": {
            "application/vnd.google.colaboratory.intrinsic+json": {
              "type": "string"
            },
            "text/plain": [
              "'Bermimpilah setinggi langit. Jika engkau jatuh, kau kan jatuh di antara bintang-bintang.'"
            ]
          },
          "metadata": {},
          "execution_count": 57
        }
      ]
    },
    {
      "cell_type": "markdown",
      "metadata": {
        "id": "-RX-DtsEFC5r"
      },
      "source": [
        "## Operasi Matematika & Numpy\n",
        "Numpy → library untuk membantu operasi matematika di python.\n"
      ]
    },
    {
      "cell_type": "code",
      "metadata": {
        "id": "DBVuNosPErdc"
      },
      "source": [
        "import numpy as np"
      ],
      "execution_count": 58,
      "outputs": []
    },
    {
      "cell_type": "markdown",
      "metadata": {
        "id": "GWGWrUU_QOR6"
      },
      "source": [
        "### Pengenalan array"
      ]
    },
    {
      "cell_type": "code",
      "metadata": {
        "colab": {
          "base_uri": "https://localhost:8080/"
        },
        "id": "rojHc0kGGJVw",
        "outputId": "f37989e1-57e5-4620-e008-12c1f2612587"
      },
      "source": [
        "#1D array\n",
        "a = np.array([3, 1, 5, 6])\n",
        "print('banyaknya entry = ', a.size)\n",
        "print('dimensi array = ', a.ndim)\n",
        "print('ukuran array = ', a.shape)"
      ],
      "execution_count": 59,
      "outputs": [
        {
          "output_type": "stream",
          "name": "stdout",
          "text": [
            "banyaknya entry =  4\n",
            "dimensi array =  1\n",
            "ukuran array =  (4,)\n"
          ]
        }
      ]
    },
    {
      "cell_type": "code",
      "metadata": {
        "colab": {
          "base_uri": "https://localhost:8080/"
        },
        "id": "Ay-3fo-sIOqV",
        "outputId": "784be42e-9a2b-4e30-ad56-e81682ff9f80"
      },
      "source": [
        "#Slicing\n",
        "a[1:]"
      ],
      "execution_count": 60,
      "outputs": [
        {
          "output_type": "execute_result",
          "data": {
            "text/plain": [
              "array([1, 5, 6])"
            ]
          },
          "metadata": {},
          "execution_count": 60
        }
      ]
    },
    {
      "cell_type": "code",
      "metadata": {
        "colab": {
          "base_uri": "https://localhost:8080/"
        },
        "id": "kfeTP-8qHBVx",
        "outputId": "b0343b65-d45f-426d-bcf1-4ad0d6b67f51"
      },
      "source": [
        "print('a[1:3] = ', a[1:3])\n",
        "print('a[:3] = ', a[:3])"
      ],
      "execution_count": 61,
      "outputs": [
        {
          "output_type": "stream",
          "name": "stdout",
          "text": [
            "a[1:3] =  [1 5]\n",
            "a[:3] =  [3 1 5]\n"
          ]
        }
      ]
    },
    {
      "cell_type": "code",
      "metadata": {
        "colab": {
          "base_uri": "https://localhost:8080/"
        },
        "id": "myrQM61bHn2t",
        "outputId": "90074130-2567-423f-ad95-547c36d3b906"
      },
      "source": [
        "#2D Array (Matriks)\n",
        "A = np.array([[1, 2, 3], [4, 5, 6], [7, 8, 9]])\n",
        "print(A)"
      ],
      "execution_count": 62,
      "outputs": [
        {
          "output_type": "stream",
          "name": "stdout",
          "text": [
            "[[1 2 3]\n",
            " [4 5 6]\n",
            " [7 8 9]]\n"
          ]
        }
      ]
    },
    {
      "cell_type": "markdown",
      "metadata": {
        "id": "7LxTP-IdLaSa"
      },
      "source": [
        "###Latihan-2 (2D array)"
      ]
    },
    {
      "cell_type": "code",
      "metadata": {
        "colab": {
          "base_uri": "https://localhost:8080/"
        },
        "id": "2ncKwccePLyf",
        "outputId": "a4345f2f-f5b6-425a-b2d9-c27fa0696189"
      },
      "source": [
        "#Lengkapi kodingan berikut\n",
        "M = np.array([[1,0,0],[0,1,0],[0,0,1]])\n",
        "print(M)\n",
        "print('banyaknya entry = ',M.size)\n",
        "print('dimensi array   = ',M.ndim)\n",
        "print('ukuran array    = ',M.shape)"
      ],
      "execution_count": 63,
      "outputs": [
        {
          "output_type": "stream",
          "name": "stdout",
          "text": [
            "[[1 0 0]\n",
            " [0 1 0]\n",
            " [0 0 1]]\n",
            "banyaknya entry =  9\n",
            "dimensi array   =  2\n",
            "ukuran array    =  (3, 3)\n"
          ]
        }
      ]
    },
    {
      "cell_type": "code",
      "metadata": {
        "colab": {
          "base_uri": "https://localhost:8080/"
        },
        "id": "LAmNOJZYGrNY",
        "outputId": "b8da4129-5e87-47a1-ee98-ef983b56bdc4"
      },
      "source": [
        "#Slicing\n",
        "print('baris ke-2 = ', M[1])\n",
        "print('entry ke-2 & 3 baris ke-2 = ', M[1, 1:])\n",
        "print('entry pertama & 2 kolom ke-2 = ', M[:2, 1])"
      ],
      "execution_count": 64,
      "outputs": [
        {
          "output_type": "stream",
          "name": "stdout",
          "text": [
            "baris ke-2 =  [0 1 0]\n",
            "entry ke-2 & 3 baris ke-2 =  [1 0]\n",
            "entry pertama & 2 kolom ke-2 =  [0 1]\n"
          ]
        }
      ]
    },
    {
      "cell_type": "markdown",
      "metadata": {
        "id": "dabJyOB3L6Kb"
      },
      "source": [
        "###Latihan-3 (Slicing)"
      ]
    },
    {
      "cell_type": "code",
      "metadata": {
        "colab": {
          "base_uri": "https://localhost:8080/"
        },
        "id": "zm20sFkSNbds",
        "outputId": "80afd7c9-a194-410e-e8df-4ffb9ec0e05a"
      },
      "source": [
        "#Lengkapi kodingan berikut\n",
        "print('baris ke-3 = ',M[2])\n",
        "print('entry ke-1 & 2 baris ke-3 = ',M[2,:2])\n",
        "print('entry ke-2 & 3 kolom ke-3 = ',M[1:,2])"
      ],
      "execution_count": 65,
      "outputs": [
        {
          "output_type": "stream",
          "name": "stdout",
          "text": [
            "baris ke-3 =  [0 0 1]\n",
            "entry ke-1 & 2 baris ke-3 =  [0 0]\n",
            "entry ke-2 & 3 kolom ke-3 =  [0 1]\n"
          ]
        }
      ]
    },
    {
      "cell_type": "markdown",
      "metadata": {
        "id": "u69Wt0HHOdDh"
      },
      "source": [
        "output jawaban:\n",
        "baris ke-3 =  [7 8 9]\n",
        "\n",
        "entry ke-1 & 2 baris ke-3 =  [7 8]\n",
        "\n",
        "entry ke-2 & 3 kolom ke-3 =  [6 9]"
      ]
    },
    {
      "cell_type": "markdown",
      "metadata": {
        "id": "bQ9RSERjQYu-"
      },
      "source": [
        "### Operasi Matematika di Numpy"
      ]
    },
    {
      "cell_type": "code",
      "metadata": {
        "colab": {
          "base_uri": "https://localhost:8080/"
        },
        "id": "A7ITbltnVKCK",
        "outputId": "b6ba240c-91ac-41bb-c693-ab6d609b3315"
      },
      "source": [
        "C = A*A\n",
        "print('perkalian antar entry = ')\n",
        "print(C)"
      ],
      "execution_count": 66,
      "outputs": [
        {
          "output_type": "stream",
          "name": "stdout",
          "text": [
            "perkalian antar entry = \n",
            "[[ 1  4  9]\n",
            " [16 25 36]\n",
            " [49 64 81]]\n"
          ]
        }
      ]
    },
    {
      "cell_type": "code",
      "metadata": {
        "colab": {
          "base_uri": "https://localhost:8080/"
        },
        "id": "qs72ZsAJQERO",
        "outputId": "ceedb671-bb1e-4c1c-a76d-7bae8c5f04d6"
      },
      "source": [
        "print('perkalian matriks = ')\n",
        "print(np.matmul(A,A))"
      ],
      "execution_count": 67,
      "outputs": [
        {
          "output_type": "stream",
          "name": "stdout",
          "text": [
            "perkalian matriks = \n",
            "[[ 30  36  42]\n",
            " [ 66  81  96]\n",
            " [102 126 150]]\n"
          ]
        }
      ]
    },
    {
      "cell_type": "markdown",
      "metadata": {
        "id": "DqYW2wD_8HZT"
      },
      "source": [
        "Bisa dilihat perbedaan perkalian antar entry dan perkalian matriks biasa?"
      ]
    },
    {
      "cell_type": "code",
      "metadata": {
        "colab": {
          "base_uri": "https://localhost:8080/"
        },
        "id": "_esB0rtlQkOp",
        "outputId": "be34fdd7-1bab-4e5c-a596-5c7447891b00"
      },
      "source": [
        "print('determinan matriks A = ', np.linalg.det(A))\n",
        "print('determinan matriks C = ', np.linalg.det(C))"
      ],
      "execution_count": 68,
      "outputs": [
        {
          "output_type": "stream",
          "name": "stdout",
          "text": [
            "determinan matriks A =  0.0\n",
            "determinan matriks C =  -216.00000000000006\n"
          ]
        }
      ]
    },
    {
      "cell_type": "code",
      "metadata": {
        "id": "Joz3Z61TQd6V",
        "colab": {
          "base_uri": "https://localhost:8080/"
        },
        "outputId": "995d8051-092a-4fc2-face-a7b151407a4b"
      },
      "source": [
        "print('nilai dan vektor eigen matriks A = ', np.linalg.eig(A))"
      ],
      "execution_count": 69,
      "outputs": [
        {
          "output_type": "stream",
          "name": "stdout",
          "text": [
            "nilai dan vektor eigen matriks A =  (array([ 1.61168440e+01, -1.11684397e+00, -9.75918483e-16]), array([[-0.23197069, -0.78583024,  0.40824829],\n",
            "       [-0.52532209, -0.08675134, -0.81649658],\n",
            "       [-0.8186735 ,  0.61232756,  0.40824829]]))\n"
          ]
        }
      ]
    },
    {
      "cell_type": "code",
      "metadata": {
        "colab": {
          "base_uri": "https://localhost:8080/"
        },
        "id": "YIXOE54OQWWd",
        "outputId": "7e9bef12-66b8-43ad-ac67-0a6203e027ea"
      },
      "source": [
        "print('nilai eigen matriks A = ', np.linalg.eig(A)[0])"
      ],
      "execution_count": 70,
      "outputs": [
        {
          "output_type": "stream",
          "name": "stdout",
          "text": [
            "nilai eigen matriks A =  [ 1.61168440e+01 -1.11684397e+00 -9.75918483e-16]\n"
          ]
        }
      ]
    },
    {
      "cell_type": "code",
      "metadata": {
        "colab": {
          "base_uri": "https://localhost:8080/"
        },
        "id": "FjdAWfgKQaf1",
        "outputId": "08bfd5e1-461a-424c-92f4-45660016423a"
      },
      "source": [
        "print('vektor eigen matriks A = ', np.linalg.eig(A)[1])"
      ],
      "execution_count": 71,
      "outputs": [
        {
          "output_type": "stream",
          "name": "stdout",
          "text": [
            "vektor eigen matriks A =  [[-0.23197069 -0.78583024  0.40824829]\n",
            " [-0.52532209 -0.08675134 -0.81649658]\n",
            " [-0.8186735   0.61232756  0.40824829]]\n"
          ]
        }
      ]
    },
    {
      "cell_type": "markdown",
      "metadata": {
        "id": "kjS8YZLAMXB_"
      },
      "source": [
        "### Latihan-4 (Operasi matriks)"
      ]
    },
    {
      "cell_type": "code",
      "metadata": {
        "id": "RIH4ROFmGuip"
      },
      "source": [
        "A = np.array([[1, 2], [7,8]])\n",
        "B = np.array([[3, 5], [1,6]])"
      ],
      "execution_count": 72,
      "outputs": []
    },
    {
      "cell_type": "markdown",
      "metadata": {
        "id": "dj6lY65jLBqx"
      },
      "source": [
        "Hitunglah:\n",
        "*   2*A\n",
        "*   2+A\n",
        "*   A+B\n",
        "*   A-B\n",
        "*   determinan A\n",
        "*   invers dari B, simpan jadi matriks D\n",
        "*   transpose D\n",
        "*   nilai eigen dan vektor eigen dari A dan B\n",
        "\n",
        "\n",
        "\n",
        "\n",
        "\n"
      ]
    },
    {
      "cell_type": "code",
      "metadata": {
        "id": "zkywTKVELriJ",
        "colab": {
          "base_uri": "https://localhost:8080/"
        },
        "outputId": "1ee1732f-9d69-4ef8-a0da-118b2380ce99"
      },
      "source": [
        "#Ketik Kode disini\n",
        "print('2*A =\\n',2*A)\n",
        "print('2+A =\\n',2+A)\n",
        "print('A+B =\\n',A+B)\n",
        "print('A-B =\\n',A-B)\n",
        "print('Determinan A = ',np.linalg.det(A))\n",
        "D = np.linalg.inv(B)\n",
        "print('D = invers A =\\n',D)\n",
        "print('Transpose D =\\n',np.transpose(D))\n",
        "print('Nilai eigen dan vektor eigen dari A =\\n',np.linalg.eig(A))\n",
        "print('Nilai eigen dan vektor eigen dari B = \\n',np.linalg.eig(B))"
      ],
      "execution_count": 73,
      "outputs": [
        {
          "output_type": "stream",
          "name": "stdout",
          "text": [
            "2*A =\n",
            " [[ 2  4]\n",
            " [14 16]]\n",
            "2+A =\n",
            " [[ 3  4]\n",
            " [ 9 10]]\n",
            "A+B =\n",
            " [[ 4  7]\n",
            " [ 8 14]]\n",
            "A-B =\n",
            " [[-2 -3]\n",
            " [ 6  2]]\n",
            "Determinan A =  -6.0\n",
            "D = invers A =\n",
            " [[ 0.46153846 -0.38461538]\n",
            " [-0.07692308  0.23076923]]\n",
            "Transpose D =\n",
            " [[ 0.46153846 -0.07692308]\n",
            " [-0.38461538  0.23076923]]\n",
            "Nilai eigen dan vektor eigen dari A =\n",
            " (array([-0.62347538,  9.62347538]), array([[-0.77640358, -0.22592838],\n",
            "       [ 0.63023605, -0.97414391]]))\n",
            "Nilai eigen dan vektor eigen dari B = \n",
            " (array([1.8074176, 7.1925824]), array([[-0.97271381, -0.76626443],\n",
            "       [ 0.23200828, -0.64252535]]))\n"
          ]
        }
      ]
    },
    {
      "cell_type": "markdown",
      "metadata": {
        "id": "7NwMsWC-MQgG"
      },
      "source": [
        "Apa perbedaan dari B*D (perkalian antar entry di B dan D) dan BD (perkalian matriks B dan D)? "
      ]
    },
    {
      "cell_type": "code",
      "metadata": {
        "id": "0_PrzTpUMgQ8",
        "colab": {
          "base_uri": "https://localhost:8080/"
        },
        "outputId": "c7582f7f-eff1-4ea8-a4ee-78c9cff34eb2"
      },
      "source": [
        "#Tunjukkan bedanya di kodingan di bawah ini\n",
        "print('Perkalian antar entry B dan D =\\n',B*D)\n",
        "print('Perkalian matriks B dan D =\\n',np.matmul(B,D))"
      ],
      "execution_count": 74,
      "outputs": [
        {
          "output_type": "stream",
          "name": "stdout",
          "text": [
            "Perkalian antar entry B dan D =\n",
            " [[ 1.38461538 -1.92307692]\n",
            " [-0.07692308  1.38461538]]\n",
            "Perkalian matriks B dan D =\n",
            " [[ 1.00000000e+00 -1.11022302e-16]\n",
            " [ 1.11022302e-16  1.00000000e+00]]\n"
          ]
        }
      ]
    },
    {
      "cell_type": "markdown",
      "metadata": {
        "id": "633JPFjMTk3Y"
      },
      "source": [
        "output jawaban: \n",
        "\n",
        "perkalian entry = [[ 1.38461538, -1.92307692], [-0.07692308,  1.38461538]]\n",
        "\n",
        "perkalian matriks = [[ 1.00000000e+00, -1.11022302e-16],\n",
        "       [ 1.11022302e-16,  1.00000000e+00]]\n"
      ]
    },
    {
      "cell_type": "markdown",
      "metadata": {
        "id": "emE1XJjgyTML"
      },
      "source": [
        "## Pandas dan Statistik Deskriptif"
      ]
    },
    {
      "cell_type": "code",
      "metadata": {
        "id": "LbUkdam20Luk"
      },
      "source": [
        "import pandas as pd"
      ],
      "execution_count": 75,
      "outputs": []
    },
    {
      "cell_type": "markdown",
      "metadata": {
        "id": "WA8wMETa0VCO"
      },
      "source": [
        "### Mengenal DataFrame"
      ]
    },
    {
      "cell_type": "code",
      "metadata": {
        "colab": {
          "base_uri": "https://localhost:8080/",
          "height": 0
        },
        "id": "zeMEfrs6yOj_",
        "outputId": "5611b93f-aba3-457c-bd9a-e5dfc07791b4"
      },
      "source": [
        "#Dari Array\n",
        "df1 = pd.DataFrame(np.array([[1, 2, 3], [4, 5, 6], [7, 8, 9]]), columns=['a', 'b', 'c'])\n",
        "df1"
      ],
      "execution_count": 76,
      "outputs": [
        {
          "output_type": "execute_result",
          "data": {
            "text/html": [
              "<div>\n",
              "<style scoped>\n",
              "    .dataframe tbody tr th:only-of-type {\n",
              "        vertical-align: middle;\n",
              "    }\n",
              "\n",
              "    .dataframe tbody tr th {\n",
              "        vertical-align: top;\n",
              "    }\n",
              "\n",
              "    .dataframe thead th {\n",
              "        text-align: right;\n",
              "    }\n",
              "</style>\n",
              "<table border=\"1\" class=\"dataframe\">\n",
              "  <thead>\n",
              "    <tr style=\"text-align: right;\">\n",
              "      <th></th>\n",
              "      <th>a</th>\n",
              "      <th>b</th>\n",
              "      <th>c</th>\n",
              "    </tr>\n",
              "  </thead>\n",
              "  <tbody>\n",
              "    <tr>\n",
              "      <th>0</th>\n",
              "      <td>1</td>\n",
              "      <td>2</td>\n",
              "      <td>3</td>\n",
              "    </tr>\n",
              "    <tr>\n",
              "      <th>1</th>\n",
              "      <td>4</td>\n",
              "      <td>5</td>\n",
              "      <td>6</td>\n",
              "    </tr>\n",
              "    <tr>\n",
              "      <th>2</th>\n",
              "      <td>7</td>\n",
              "      <td>8</td>\n",
              "      <td>9</td>\n",
              "    </tr>\n",
              "  </tbody>\n",
              "</table>\n",
              "</div>"
            ],
            "text/plain": [
              "   a  b  c\n",
              "0  1  2  3\n",
              "1  4  5  6\n",
              "2  7  8  9"
            ]
          },
          "metadata": {},
          "execution_count": 76
        }
      ]
    },
    {
      "cell_type": "code",
      "metadata": {
        "colab": {
          "base_uri": "https://localhost:8080/",
          "height": 0
        },
        "id": "vOxPCBpazyKO",
        "outputId": "4bb34763-8243-4c78-e702-511944d1e201"
      },
      "source": [
        "#Dari dictionary\n",
        "df2=pd.DataFrame({'a': [1,2,3], 'b': [4,5,6], 'c': [7, 8, 9]})\n",
        "df2"
      ],
      "execution_count": 77,
      "outputs": [
        {
          "output_type": "execute_result",
          "data": {
            "text/html": [
              "<div>\n",
              "<style scoped>\n",
              "    .dataframe tbody tr th:only-of-type {\n",
              "        vertical-align: middle;\n",
              "    }\n",
              "\n",
              "    .dataframe tbody tr th {\n",
              "        vertical-align: top;\n",
              "    }\n",
              "\n",
              "    .dataframe thead th {\n",
              "        text-align: right;\n",
              "    }\n",
              "</style>\n",
              "<table border=\"1\" class=\"dataframe\">\n",
              "  <thead>\n",
              "    <tr style=\"text-align: right;\">\n",
              "      <th></th>\n",
              "      <th>a</th>\n",
              "      <th>b</th>\n",
              "      <th>c</th>\n",
              "    </tr>\n",
              "  </thead>\n",
              "  <tbody>\n",
              "    <tr>\n",
              "      <th>0</th>\n",
              "      <td>1</td>\n",
              "      <td>4</td>\n",
              "      <td>7</td>\n",
              "    </tr>\n",
              "    <tr>\n",
              "      <th>1</th>\n",
              "      <td>2</td>\n",
              "      <td>5</td>\n",
              "      <td>8</td>\n",
              "    </tr>\n",
              "    <tr>\n",
              "      <th>2</th>\n",
              "      <td>3</td>\n",
              "      <td>6</td>\n",
              "      <td>9</td>\n",
              "    </tr>\n",
              "  </tbody>\n",
              "</table>\n",
              "</div>"
            ],
            "text/plain": [
              "   a  b  c\n",
              "0  1  4  7\n",
              "1  2  5  8\n",
              "2  3  6  9"
            ]
          },
          "metadata": {},
          "execution_count": 77
        }
      ]
    },
    {
      "cell_type": "code",
      "metadata": {
        "colab": {
          "base_uri": "https://localhost:8080/",
          "height": 0
        },
        "id": "SNZmiYTfz_2r",
        "outputId": "1106bc02-4656-45f8-a637-2a4d82b088f8"
      },
      "source": [
        "#Menambahkan kolom baru\n",
        "df1['d'] = [3, 5, 6]\n",
        "df1"
      ],
      "execution_count": 78,
      "outputs": [
        {
          "output_type": "execute_result",
          "data": {
            "text/html": [
              "<div>\n",
              "<style scoped>\n",
              "    .dataframe tbody tr th:only-of-type {\n",
              "        vertical-align: middle;\n",
              "    }\n",
              "\n",
              "    .dataframe tbody tr th {\n",
              "        vertical-align: top;\n",
              "    }\n",
              "\n",
              "    .dataframe thead th {\n",
              "        text-align: right;\n",
              "    }\n",
              "</style>\n",
              "<table border=\"1\" class=\"dataframe\">\n",
              "  <thead>\n",
              "    <tr style=\"text-align: right;\">\n",
              "      <th></th>\n",
              "      <th>a</th>\n",
              "      <th>b</th>\n",
              "      <th>c</th>\n",
              "      <th>d</th>\n",
              "    </tr>\n",
              "  </thead>\n",
              "  <tbody>\n",
              "    <tr>\n",
              "      <th>0</th>\n",
              "      <td>1</td>\n",
              "      <td>2</td>\n",
              "      <td>3</td>\n",
              "      <td>3</td>\n",
              "    </tr>\n",
              "    <tr>\n",
              "      <th>1</th>\n",
              "      <td>4</td>\n",
              "      <td>5</td>\n",
              "      <td>6</td>\n",
              "      <td>5</td>\n",
              "    </tr>\n",
              "    <tr>\n",
              "      <th>2</th>\n",
              "      <td>7</td>\n",
              "      <td>8</td>\n",
              "      <td>9</td>\n",
              "      <td>6</td>\n",
              "    </tr>\n",
              "  </tbody>\n",
              "</table>\n",
              "</div>"
            ],
            "text/plain": [
              "   a  b  c  d\n",
              "0  1  2  3  3\n",
              "1  4  5  6  5\n",
              "2  7  8  9  6"
            ]
          },
          "metadata": {},
          "execution_count": 78
        }
      ]
    },
    {
      "cell_type": "code",
      "metadata": {
        "id": "KXyPuM_OOHFa"
      },
      "source": [
        "#Menyimpan dataframe ke csv file\n",
        "df1.to_csv('latihan/df1.csv')"
      ],
      "execution_count": 79,
      "outputs": []
    },
    {
      "cell_type": "code",
      "metadata": {
        "colab": {
          "base_uri": "https://localhost:8080/",
          "height": 0
        },
        "id": "zV0QN-471Jri",
        "outputId": "cba38ab2-8976-452a-8c77-8a9fc82dfa04"
      },
      "source": [
        "#Mengambil kolom tertentu: \n",
        "df3 = df1[['a','d']]\n",
        "df3"
      ],
      "execution_count": 80,
      "outputs": [
        {
          "output_type": "execute_result",
          "data": {
            "text/html": [
              "<div>\n",
              "<style scoped>\n",
              "    .dataframe tbody tr th:only-of-type {\n",
              "        vertical-align: middle;\n",
              "    }\n",
              "\n",
              "    .dataframe tbody tr th {\n",
              "        vertical-align: top;\n",
              "    }\n",
              "\n",
              "    .dataframe thead th {\n",
              "        text-align: right;\n",
              "    }\n",
              "</style>\n",
              "<table border=\"1\" class=\"dataframe\">\n",
              "  <thead>\n",
              "    <tr style=\"text-align: right;\">\n",
              "      <th></th>\n",
              "      <th>a</th>\n",
              "      <th>d</th>\n",
              "    </tr>\n",
              "  </thead>\n",
              "  <tbody>\n",
              "    <tr>\n",
              "      <th>0</th>\n",
              "      <td>1</td>\n",
              "      <td>3</td>\n",
              "    </tr>\n",
              "    <tr>\n",
              "      <th>1</th>\n",
              "      <td>4</td>\n",
              "      <td>5</td>\n",
              "    </tr>\n",
              "    <tr>\n",
              "      <th>2</th>\n",
              "      <td>7</td>\n",
              "      <td>6</td>\n",
              "    </tr>\n",
              "  </tbody>\n",
              "</table>\n",
              "</div>"
            ],
            "text/plain": [
              "   a  d\n",
              "0  1  3\n",
              "1  4  5\n",
              "2  7  6"
            ]
          },
          "metadata": {},
          "execution_count": 80
        }
      ]
    },
    {
      "cell_type": "code",
      "metadata": {
        "colab": {
          "base_uri": "https://localhost:8080/",
          "height": 0
        },
        "id": "w_AovvMd1gHV",
        "outputId": "b6e72c13-72dd-44b2-dbbf-9d9ea5744a9f"
      },
      "source": [
        "#Mengambil sebagian data berdasarkan entrynya\n",
        "df4a = df1[df1['a']>2] #df1 yang df1['a']>2\n",
        "df4a"
      ],
      "execution_count": 81,
      "outputs": [
        {
          "output_type": "execute_result",
          "data": {
            "text/html": [
              "<div>\n",
              "<style scoped>\n",
              "    .dataframe tbody tr th:only-of-type {\n",
              "        vertical-align: middle;\n",
              "    }\n",
              "\n",
              "    .dataframe tbody tr th {\n",
              "        vertical-align: top;\n",
              "    }\n",
              "\n",
              "    .dataframe thead th {\n",
              "        text-align: right;\n",
              "    }\n",
              "</style>\n",
              "<table border=\"1\" class=\"dataframe\">\n",
              "  <thead>\n",
              "    <tr style=\"text-align: right;\">\n",
              "      <th></th>\n",
              "      <th>a</th>\n",
              "      <th>b</th>\n",
              "      <th>c</th>\n",
              "      <th>d</th>\n",
              "    </tr>\n",
              "  </thead>\n",
              "  <tbody>\n",
              "    <tr>\n",
              "      <th>1</th>\n",
              "      <td>4</td>\n",
              "      <td>5</td>\n",
              "      <td>6</td>\n",
              "      <td>5</td>\n",
              "    </tr>\n",
              "    <tr>\n",
              "      <th>2</th>\n",
              "      <td>7</td>\n",
              "      <td>8</td>\n",
              "      <td>9</td>\n",
              "      <td>6</td>\n",
              "    </tr>\n",
              "  </tbody>\n",
              "</table>\n",
              "</div>"
            ],
            "text/plain": [
              "   a  b  c  d\n",
              "1  4  5  6  5\n",
              "2  7  8  9  6"
            ]
          },
          "metadata": {},
          "execution_count": 81
        }
      ]
    },
    {
      "cell_type": "code",
      "metadata": {
        "colab": {
          "base_uri": "https://localhost:8080/",
          "height": 0
        },
        "id": "J6REVPcjO3XR",
        "outputId": "cedc9de7-29f3-4fe7-90b8-bbe6aca58402"
      },
      "source": [
        "df4b = df1[df1['a']==4] #df1 yang df1['a']=4\n",
        "df4b"
      ],
      "execution_count": 82,
      "outputs": [
        {
          "output_type": "execute_result",
          "data": {
            "text/html": [
              "<div>\n",
              "<style scoped>\n",
              "    .dataframe tbody tr th:only-of-type {\n",
              "        vertical-align: middle;\n",
              "    }\n",
              "\n",
              "    .dataframe tbody tr th {\n",
              "        vertical-align: top;\n",
              "    }\n",
              "\n",
              "    .dataframe thead th {\n",
              "        text-align: right;\n",
              "    }\n",
              "</style>\n",
              "<table border=\"1\" class=\"dataframe\">\n",
              "  <thead>\n",
              "    <tr style=\"text-align: right;\">\n",
              "      <th></th>\n",
              "      <th>a</th>\n",
              "      <th>b</th>\n",
              "      <th>c</th>\n",
              "      <th>d</th>\n",
              "    </tr>\n",
              "  </thead>\n",
              "  <tbody>\n",
              "    <tr>\n",
              "      <th>1</th>\n",
              "      <td>4</td>\n",
              "      <td>5</td>\n",
              "      <td>6</td>\n",
              "      <td>5</td>\n",
              "    </tr>\n",
              "  </tbody>\n",
              "</table>\n",
              "</div>"
            ],
            "text/plain": [
              "   a  b  c  d\n",
              "1  4  5  6  5"
            ]
          },
          "metadata": {},
          "execution_count": 82
        }
      ]
    },
    {
      "cell_type": "code",
      "metadata": {
        "colab": {
          "base_uri": "https://localhost:8080/",
          "height": 0
        },
        "id": "eQZK_ddv2LnV",
        "outputId": "bb5f6706-af86-430a-8640-b91e552ee4f0"
      },
      "source": [
        "#Mengambil sebagian data berdasarkan indexnya\n",
        "df5 = df1.iloc[0:2, 0:3]\n",
        "df5"
      ],
      "execution_count": 83,
      "outputs": [
        {
          "output_type": "execute_result",
          "data": {
            "text/html": [
              "<div>\n",
              "<style scoped>\n",
              "    .dataframe tbody tr th:only-of-type {\n",
              "        vertical-align: middle;\n",
              "    }\n",
              "\n",
              "    .dataframe tbody tr th {\n",
              "        vertical-align: top;\n",
              "    }\n",
              "\n",
              "    .dataframe thead th {\n",
              "        text-align: right;\n",
              "    }\n",
              "</style>\n",
              "<table border=\"1\" class=\"dataframe\">\n",
              "  <thead>\n",
              "    <tr style=\"text-align: right;\">\n",
              "      <th></th>\n",
              "      <th>a</th>\n",
              "      <th>b</th>\n",
              "      <th>c</th>\n",
              "    </tr>\n",
              "  </thead>\n",
              "  <tbody>\n",
              "    <tr>\n",
              "      <th>0</th>\n",
              "      <td>1</td>\n",
              "      <td>2</td>\n",
              "      <td>3</td>\n",
              "    </tr>\n",
              "    <tr>\n",
              "      <th>1</th>\n",
              "      <td>4</td>\n",
              "      <td>5</td>\n",
              "      <td>6</td>\n",
              "    </tr>\n",
              "  </tbody>\n",
              "</table>\n",
              "</div>"
            ],
            "text/plain": [
              "   a  b  c\n",
              "0  1  2  3\n",
              "1  4  5  6"
            ]
          },
          "metadata": {},
          "execution_count": 83
        }
      ]
    },
    {
      "cell_type": "markdown",
      "metadata": {
        "id": "oQtNPAVe4cVH"
      },
      "source": [
        "### Mengimport data ke DataFrame"
      ]
    },
    {
      "cell_type": "code",
      "metadata": {
        "colab": {
          "base_uri": "https://localhost:8080/",
          "height": 0
        },
        "id": "O507C0Zg2f3t",
        "outputId": "5cae702b-5f63-472c-9bb8-1a6feecbe9f0"
      },
      "source": [
        "#Contoh mengimport dari web\n",
        "url = 'https://people.sc.fsu.edu/~jburkardt/data/csv/freshman_kgs.csv'\n",
        "df6 = pd.read_csv(url)\n",
        "\n",
        "df6"
      ],
      "execution_count": 84,
      "outputs": [
        {
          "output_type": "execute_result",
          "data": {
            "text/html": [
              "<div>\n",
              "<style scoped>\n",
              "    .dataframe tbody tr th:only-of-type {\n",
              "        vertical-align: middle;\n",
              "    }\n",
              "\n",
              "    .dataframe tbody tr th {\n",
              "        vertical-align: top;\n",
              "    }\n",
              "\n",
              "    .dataframe thead th {\n",
              "        text-align: right;\n",
              "    }\n",
              "</style>\n",
              "<table border=\"1\" class=\"dataframe\">\n",
              "  <thead>\n",
              "    <tr style=\"text-align: right;\">\n",
              "      <th></th>\n",
              "      <th>Sex</th>\n",
              "      <th>\"Weight (Sep)\"</th>\n",
              "      <th>\"Weight (Apr)\"</th>\n",
              "      <th>\"BMI (Sep)\"</th>\n",
              "      <th>\"BMI (Apr)\"</th>\n",
              "    </tr>\n",
              "  </thead>\n",
              "  <tbody>\n",
              "    <tr>\n",
              "      <th>0</th>\n",
              "      <td>M</td>\n",
              "      <td>72</td>\n",
              "      <td>59</td>\n",
              "      <td>22.02</td>\n",
              "      <td>18.14</td>\n",
              "    </tr>\n",
              "    <tr>\n",
              "      <th>1</th>\n",
              "      <td>M</td>\n",
              "      <td>97</td>\n",
              "      <td>86</td>\n",
              "      <td>19.70</td>\n",
              "      <td>17.44</td>\n",
              "    </tr>\n",
              "    <tr>\n",
              "      <th>2</th>\n",
              "      <td>M</td>\n",
              "      <td>74</td>\n",
              "      <td>69</td>\n",
              "      <td>24.09</td>\n",
              "      <td>22.43</td>\n",
              "    </tr>\n",
              "    <tr>\n",
              "      <th>3</th>\n",
              "      <td>M</td>\n",
              "      <td>93</td>\n",
              "      <td>88</td>\n",
              "      <td>26.97</td>\n",
              "      <td>25.57</td>\n",
              "    </tr>\n",
              "    <tr>\n",
              "      <th>4</th>\n",
              "      <td>F</td>\n",
              "      <td>68</td>\n",
              "      <td>64</td>\n",
              "      <td>21.51</td>\n",
              "      <td>20.10</td>\n",
              "    </tr>\n",
              "    <tr>\n",
              "      <th>...</th>\n",
              "      <td>...</td>\n",
              "      <td>...</td>\n",
              "      <td>...</td>\n",
              "      <td>...</td>\n",
              "      <td>...</td>\n",
              "    </tr>\n",
              "    <tr>\n",
              "      <th>62</th>\n",
              "      <td>M</td>\n",
              "      <td>65</td>\n",
              "      <td>71</td>\n",
              "      <td>22.51</td>\n",
              "      <td>24.45</td>\n",
              "    </tr>\n",
              "    <tr>\n",
              "      <th>63</th>\n",
              "      <td>M</td>\n",
              "      <td>75</td>\n",
              "      <td>82</td>\n",
              "      <td>23.69</td>\n",
              "      <td>25.80</td>\n",
              "    </tr>\n",
              "    <tr>\n",
              "      <th>64</th>\n",
              "      <td>F</td>\n",
              "      <td>42</td>\n",
              "      <td>49</td>\n",
              "      <td>15.08</td>\n",
              "      <td>17.74</td>\n",
              "    </tr>\n",
              "    <tr>\n",
              "      <th>65</th>\n",
              "      <td>M</td>\n",
              "      <td>74</td>\n",
              "      <td>82</td>\n",
              "      <td>22.64</td>\n",
              "      <td>25.33</td>\n",
              "    </tr>\n",
              "    <tr>\n",
              "      <th>66</th>\n",
              "      <td>M</td>\n",
              "      <td>94</td>\n",
              "      <td>105</td>\n",
              "      <td>36.57</td>\n",
              "      <td>40.86</td>\n",
              "    </tr>\n",
              "  </tbody>\n",
              "</table>\n",
              "<p>67 rows × 5 columns</p>\n",
              "</div>"
            ],
            "text/plain": [
              "   Sex   \"Weight (Sep)\"   \"Weight (Apr)\"   \"BMI (Sep)\"   \"BMI (Apr)\"\n",
              "0    M               72               59         22.02         18.14\n",
              "1    M               97               86         19.70         17.44\n",
              "2    M               74               69         24.09         22.43\n",
              "3    M               93               88         26.97         25.57\n",
              "4    F               68               64         21.51         20.10\n",
              "..  ..              ...              ...           ...           ...\n",
              "62   M               65               71         22.51         24.45\n",
              "63   M               75               82         23.69         25.80\n",
              "64   F               42               49         15.08         17.74\n",
              "65   M               74               82         22.64         25.33\n",
              "66   M               94              105         36.57         40.86\n",
              "\n",
              "[67 rows x 5 columns]"
            ]
          },
          "metadata": {},
          "execution_count": 84
        }
      ]
    },
    {
      "cell_type": "code",
      "metadata": {
        "colab": {
          "base_uri": "https://localhost:8080/",
          "height": 0
        },
        "id": "_vANo60lC4Nn",
        "outputId": "df8b2f9e-c369-4f32-8d43-98d0b4095106"
      },
      "source": [
        "#5 data teratas\n",
        "df6.head()"
      ],
      "execution_count": 85,
      "outputs": [
        {
          "output_type": "execute_result",
          "data": {
            "text/html": [
              "<div>\n",
              "<style scoped>\n",
              "    .dataframe tbody tr th:only-of-type {\n",
              "        vertical-align: middle;\n",
              "    }\n",
              "\n",
              "    .dataframe tbody tr th {\n",
              "        vertical-align: top;\n",
              "    }\n",
              "\n",
              "    .dataframe thead th {\n",
              "        text-align: right;\n",
              "    }\n",
              "</style>\n",
              "<table border=\"1\" class=\"dataframe\">\n",
              "  <thead>\n",
              "    <tr style=\"text-align: right;\">\n",
              "      <th></th>\n",
              "      <th>Sex</th>\n",
              "      <th>\"Weight (Sep)\"</th>\n",
              "      <th>\"Weight (Apr)\"</th>\n",
              "      <th>\"BMI (Sep)\"</th>\n",
              "      <th>\"BMI (Apr)\"</th>\n",
              "    </tr>\n",
              "  </thead>\n",
              "  <tbody>\n",
              "    <tr>\n",
              "      <th>0</th>\n",
              "      <td>M</td>\n",
              "      <td>72</td>\n",
              "      <td>59</td>\n",
              "      <td>22.02</td>\n",
              "      <td>18.14</td>\n",
              "    </tr>\n",
              "    <tr>\n",
              "      <th>1</th>\n",
              "      <td>M</td>\n",
              "      <td>97</td>\n",
              "      <td>86</td>\n",
              "      <td>19.70</td>\n",
              "      <td>17.44</td>\n",
              "    </tr>\n",
              "    <tr>\n",
              "      <th>2</th>\n",
              "      <td>M</td>\n",
              "      <td>74</td>\n",
              "      <td>69</td>\n",
              "      <td>24.09</td>\n",
              "      <td>22.43</td>\n",
              "    </tr>\n",
              "    <tr>\n",
              "      <th>3</th>\n",
              "      <td>M</td>\n",
              "      <td>93</td>\n",
              "      <td>88</td>\n",
              "      <td>26.97</td>\n",
              "      <td>25.57</td>\n",
              "    </tr>\n",
              "    <tr>\n",
              "      <th>4</th>\n",
              "      <td>F</td>\n",
              "      <td>68</td>\n",
              "      <td>64</td>\n",
              "      <td>21.51</td>\n",
              "      <td>20.10</td>\n",
              "    </tr>\n",
              "  </tbody>\n",
              "</table>\n",
              "</div>"
            ],
            "text/plain": [
              "  Sex   \"Weight (Sep)\"   \"Weight (Apr)\"   \"BMI (Sep)\"   \"BMI (Apr)\"\n",
              "0   M               72               59         22.02         18.14\n",
              "1   M               97               86         19.70         17.44\n",
              "2   M               74               69         24.09         22.43\n",
              "3   M               93               88         26.97         25.57\n",
              "4   F               68               64         21.51         20.10"
            ]
          },
          "metadata": {},
          "execution_count": 85
        }
      ]
    },
    {
      "cell_type": "markdown",
      "metadata": {
        "id": "VncYiRCo8f3m"
      },
      "source": [
        "### Membuat deskriptif"
      ]
    },
    {
      "cell_type": "code",
      "metadata": {
        "colab": {
          "base_uri": "https://localhost:8080/",
          "height": 0
        },
        "id": "cRvrFniE8etF",
        "outputId": "9be0e0a7-2ca2-45b0-b62f-19dd96d7aeea"
      },
      "source": [
        "#DataNumerik\n",
        "df6.describe()"
      ],
      "execution_count": 86,
      "outputs": [
        {
          "output_type": "execute_result",
          "data": {
            "text/html": [
              "<div>\n",
              "<style scoped>\n",
              "    .dataframe tbody tr th:only-of-type {\n",
              "        vertical-align: middle;\n",
              "    }\n",
              "\n",
              "    .dataframe tbody tr th {\n",
              "        vertical-align: top;\n",
              "    }\n",
              "\n",
              "    .dataframe thead th {\n",
              "        text-align: right;\n",
              "    }\n",
              "</style>\n",
              "<table border=\"1\" class=\"dataframe\">\n",
              "  <thead>\n",
              "    <tr style=\"text-align: right;\">\n",
              "      <th></th>\n",
              "      <th>\"Weight (Sep)\"</th>\n",
              "      <th>\"Weight (Apr)\"</th>\n",
              "      <th>\"BMI (Sep)\"</th>\n",
              "      <th>\"BMI (Apr)\"</th>\n",
              "    </tr>\n",
              "  </thead>\n",
              "  <tbody>\n",
              "    <tr>\n",
              "      <th>count</th>\n",
              "      <td>67.000000</td>\n",
              "      <td>67.000000</td>\n",
              "      <td>67.000000</td>\n",
              "      <td>67.000000</td>\n",
              "    </tr>\n",
              "    <tr>\n",
              "      <th>mean</th>\n",
              "      <td>65.059701</td>\n",
              "      <td>66.238806</td>\n",
              "      <td>22.030000</td>\n",
              "      <td>22.484179</td>\n",
              "    </tr>\n",
              "    <tr>\n",
              "      <th>std</th>\n",
              "      <td>11.285390</td>\n",
              "      <td>11.284327</td>\n",
              "      <td>3.308901</td>\n",
              "      <td>3.602527</td>\n",
              "    </tr>\n",
              "    <tr>\n",
              "      <th>min</th>\n",
              "      <td>42.000000</td>\n",
              "      <td>47.000000</td>\n",
              "      <td>15.080000</td>\n",
              "      <td>16.890000</td>\n",
              "    </tr>\n",
              "    <tr>\n",
              "      <th>25%</th>\n",
              "      <td>56.500000</td>\n",
              "      <td>58.000000</td>\n",
              "      <td>19.965000</td>\n",
              "      <td>20.230000</td>\n",
              "    </tr>\n",
              "    <tr>\n",
              "      <th>50%</th>\n",
              "      <td>64.000000</td>\n",
              "      <td>66.000000</td>\n",
              "      <td>21.730000</td>\n",
              "      <td>22.310000</td>\n",
              "    </tr>\n",
              "    <tr>\n",
              "      <th>75%</th>\n",
              "      <td>70.500000</td>\n",
              "      <td>70.000000</td>\n",
              "      <td>23.160000</td>\n",
              "      <td>23.860000</td>\n",
              "    </tr>\n",
              "    <tr>\n",
              "      <th>max</th>\n",
              "      <td>97.000000</td>\n",
              "      <td>105.000000</td>\n",
              "      <td>36.570000</td>\n",
              "      <td>40.860000</td>\n",
              "    </tr>\n",
              "  </tbody>\n",
              "</table>\n",
              "</div>"
            ],
            "text/plain": [
              "        \"Weight (Sep)\"   \"Weight (Apr)\"   \"BMI (Sep)\"   \"BMI (Apr)\"\n",
              "count        67.000000        67.000000     67.000000     67.000000\n",
              "mean         65.059701        66.238806     22.030000     22.484179\n",
              "std          11.285390        11.284327      3.308901      3.602527\n",
              "min          42.000000        47.000000     15.080000     16.890000\n",
              "25%          56.500000        58.000000     19.965000     20.230000\n",
              "50%          64.000000        66.000000     21.730000     22.310000\n",
              "75%          70.500000        70.000000     23.160000     23.860000\n",
              "max          97.000000       105.000000     36.570000     40.860000"
            ]
          },
          "metadata": {},
          "execution_count": 86
        }
      ]
    },
    {
      "cell_type": "code",
      "metadata": {
        "colab": {
          "base_uri": "https://localhost:8080/",
          "height": 0
        },
        "id": "zmdLGchV8uuU",
        "outputId": "9e37145e-c1f0-49f4-c84d-2b748877f00e"
      },
      "source": [
        "df6.hist()"
      ],
      "execution_count": 87,
      "outputs": [
        {
          "output_type": "execute_result",
          "data": {
            "text/plain": [
              "array([[<matplotlib.axes._subplots.AxesSubplot object at 0x7ff06ea57910>,\n",
              "        <matplotlib.axes._subplots.AxesSubplot object at 0x7ff06ea68dd0>],\n",
              "       [<matplotlib.axes._subplots.AxesSubplot object at 0x7ff06ea98110>,\n",
              "        <matplotlib.axes._subplots.AxesSubplot object at 0x7ff06e9cb410>]],\n",
              "      dtype=object)"
            ]
          },
          "metadata": {},
          "execution_count": 87
        },
        {
          "output_type": "display_data",
          "data": {
            "image/png": "[encoded data removed]",
            "text/plain": [
              "<Figure size 432x288 with 4 Axes>"
            ]
          },
          "metadata": {
            "needs_background": "light"
          }
        }
      ]
    },
    {
      "cell_type": "code",
      "metadata": {
        "colab": {
          "base_uri": "https://localhost:8080/",
          "height": 0
        },
        "id": "t4AclPYb81C3",
        "outputId": "443c60aa-f852-459b-c75c-453dfc9c16f6"
      },
      "source": [
        "#data non-numerik\n",
        "df6.describe(include=[\"object\", \"bool\"]) "
      ],
      "execution_count": 88,
      "outputs": [
        {
          "output_type": "execute_result",
          "data": {
            "text/html": [
              "<div>\n",
              "<style scoped>\n",
              "    .dataframe tbody tr th:only-of-type {\n",
              "        vertical-align: middle;\n",
              "    }\n",
              "\n",
              "    .dataframe tbody tr th {\n",
              "        vertical-align: top;\n",
              "    }\n",
              "\n",
              "    .dataframe thead th {\n",
              "        text-align: right;\n",
              "    }\n",
              "</style>\n",
              "<table border=\"1\" class=\"dataframe\">\n",
              "  <thead>\n",
              "    <tr style=\"text-align: right;\">\n",
              "      <th></th>\n",
              "      <th>Sex</th>\n",
              "    </tr>\n",
              "  </thead>\n",
              "  <tbody>\n",
              "    <tr>\n",
              "      <th>count</th>\n",
              "      <td>67</td>\n",
              "    </tr>\n",
              "    <tr>\n",
              "      <th>unique</th>\n",
              "      <td>2</td>\n",
              "    </tr>\n",
              "    <tr>\n",
              "      <th>top</th>\n",
              "      <td>F</td>\n",
              "    </tr>\n",
              "    <tr>\n",
              "      <th>freq</th>\n",
              "      <td>35</td>\n",
              "    </tr>\n",
              "  </tbody>\n",
              "</table>\n",
              "</div>"
            ],
            "text/plain": [
              "       Sex\n",
              "count   67\n",
              "unique   2\n",
              "top      F\n",
              "freq    35"
            ]
          },
          "metadata": {},
          "execution_count": 88
        }
      ]
    },
    {
      "cell_type": "code",
      "metadata": {
        "colab": {
          "base_uri": "https://localhost:8080/"
        },
        "id": "3pHZDA8d6o-r",
        "outputId": "134b14b2-d266-4e17-962c-684c2e41d478"
      },
      "source": [
        "#List nama kolom\n",
        "df6.columns"
      ],
      "execution_count": 89,
      "outputs": [
        {
          "output_type": "execute_result",
          "data": {
            "text/plain": [
              "Index(['Sex', ' \"Weight (Sep)\"', ' \"Weight (Apr)\"', ' \"BMI (Sep)\"',\n",
              "       ' \"BMI (Apr)\"'],\n",
              "      dtype='object')"
            ]
          },
          "metadata": {},
          "execution_count": 89
        }
      ]
    },
    {
      "cell_type": "markdown",
      "metadata": {
        "id": "W_fSI7xFDNmo"
      },
      "source": [
        "Untuk memudahkan saat kita butuh menuliskan nama kolomnya, bisa langsung copas agar sesuai formatnya (misalnya huruf besar/kecil, dll)"
      ]
    },
    {
      "cell_type": "markdown",
      "metadata": {
        "id": "vdWlI9_l59k-"
      },
      "source": [
        "### Latihan-5 (mengambil sebagian data)\n",
        "Buat kodingan untuk memilih data yang perempuan saja"
      ]
    },
    {
      "cell_type": "code",
      "metadata": {
        "id": "b669Ar295lNf",
        "colab": {
          "base_uri": "https://localhost:8080/"
        },
        "outputId": "8efccb1f-cce0-4f1d-b81c-a546cf5f1544"
      },
      "source": [
        "#Pilih data yang perempuan saja \n",
        "fem = df6[df6['Sex']== 'F']\n",
        "print(fem)\n"
      ],
      "execution_count": 90,
      "outputs": [
        {
          "output_type": "stream",
          "name": "stdout",
          "text": [
            "   Sex   \"Weight (Sep)\"   \"Weight (Apr)\"   \"BMI (Sep)\"   \"BMI (Apr)\"\n",
            "4    F               68               64         21.51         20.10\n",
            "6    F               64               60         24.24         22.88\n",
            "7    F               56               53         21.23         20.23\n",
            "8    F               70               68         30.26         29.24\n",
            "9    F               58               56         21.88         21.02\n",
            "10   F               50               47         17.63         16.89\n",
            "13   F               56               55         20.97         20.36\n",
            "14   F               70               68         27.30         26.73\n",
            "15   F               61               60         23.30         22.88\n",
            "16   F               53               52         19.48         19.24\n",
            "18   F               57               58         20.69         20.79\n",
            "20   F               58               58         21.09         21.24\n",
            "21   F               49               50         18.37         18.53\n",
            "23   F               69               69         28.17         28.43\n",
            "27   F               52               53         19.31         19.75\n",
            "29   F               63               64         21.78         22.22\n",
            "30   F               56               57         19.78         20.23\n",
            "33   F               54               56         20.15         20.69\n",
            "36   F               57               59         22.15         22.93\n",
            "37   F               63               65         23.87         24.67\n",
            "38   F               54               56         18.61         19.34\n",
            "39   F               56               58         21.73         22.58\n",
            "43   F               63               66         21.89         22.79\n",
            "44   F               51               54         18.31         19.28\n",
            "45   F               59               62         19.64         20.63\n",
            "46   F               65               68         23.02         24.10\n",
            "47   F               53               56         20.63         21.91\n",
            "48   F               62               65         22.61         23.81\n",
            "49   F               55               58         22.03         23.42\n",
            "54   F               57               61         23.47         25.11\n",
            "55   F               64               68         22.84         24.29\n",
            "56   F               60               64         19.50         20.90\n",
            "59   F               52               57         17.72         19.42\n",
            "61   F               55               60         21.64         23.81\n",
            "64   F               42               49         15.08         17.74\n"
          ]
        }
      ]
    },
    {
      "cell_type": "markdown",
      "metadata": {
        "id": "vXplXWBV-mA8"
      },
      "source": [
        "## Visualisasi Data"
      ]
    },
    {
      "cell_type": "markdown",
      "metadata": {
        "id": "6NobwuVw-v3k"
      },
      "source": [
        "### Dengan Matplotlib"
      ]
    },
    {
      "cell_type": "code",
      "metadata": {
        "id": "aiQmw5bZDG4b"
      },
      "source": [
        "import matplotlib.pyplot as plt"
      ],
      "execution_count": 91,
      "outputs": []
    },
    {
      "cell_type": "code",
      "metadata": {
        "id": "_G4GenFmDHph",
        "colab": {
          "base_uri": "https://localhost:8080/",
          "height": 355
        },
        "outputId": "41d3ce12-33ec-4d8d-c85b-ea0c5e196162"
      },
      "source": [
        "#Line Chart\n",
        "df6[[' \"Weight (Sep)\"', ' \"BMI (Sep)\"']].plot(kind='line', \n",
        "             figsize=(10, 5))\n",
        "\n",
        "plt.title('Perbandingan berat dan BMI bulan september', fontsize = 20)\n",
        "plt.ylabel('nilai', fontsize = 10)\n",
        "plt.xlabel('peserta', fontsize = 10)\n",
        "\n",
        "plt.show()"
      ],
      "execution_count": 92,
      "outputs": [
        {
          "output_type": "display_data",
          "data": {
            "image/png": "[encoded data removed]",
            "text/plain": [
              "<Figure size 720x360 with 1 Axes>"
            ]
          },
          "metadata": {
            "needs_background": "light"
          }
        }
      ]
    },
    {
      "cell_type": "code",
      "metadata": {
        "id": "l5YpGzJ4Laub",
        "colab": {
          "base_uri": "https://localhost:8080/",
          "height": 409
        },
        "outputId": "2a8b1b49-fe94-4cda-ce20-9360227ca925"
      },
      "source": [
        "#ScatterPlot\n",
        "df6[[' \"Weight (Sep)\"', ' \"Weight (Apr)\"']].plot(kind='scatter', x=' \"Weight (Sep)\"', y=' \"Weight (Apr)\"', \n",
        "                                                 figsize=(10, 6), color='darkblue')\n",
        "\n",
        "plt.title('Hubungan berat badan bulan september dan april', fontsize = 20)\n",
        "plt.ylabel('April', fontsize = 10)\n",
        "plt.xlabel('September', fontsize = 10)\n",
        "\n",
        "plt.show()"
      ],
      "execution_count": 93,
      "outputs": [
        {
          "output_type": "display_data",
          "data": {
            "image/png": "[encoded data removed]",
            "text/plain": [
              "<Figure size 720x432 with 1 Axes>"
            ]
          },
          "metadata": {
            "needs_background": "light"
          }
        }
      ]
    },
    {
      "cell_type": "markdown",
      "metadata": {
        "id": "py8d7sL__JVC"
      },
      "source": [
        "Scatter plotnya seperti membentuk garis lurus miring kanan, artinya hubungan berat badan bulan april dan september erat dan positif (selengkapnya akan dipelajari di materi eksplorasi data)"
      ]
    },
    {
      "cell_type": "code",
      "metadata": {
        "id": "6OW8qF9l-3GO",
        "colab": {
          "base_uri": "https://localhost:8080/",
          "height": 350
        },
        "outputId": "ce4be11f-1424-4fc0-c4a9-dc078abf5f97"
      },
      "source": [
        "#Histogram\n",
        "df6[' \"Weight (Apr)\"'].plot(kind='hist', figsize=(7, 5))\n",
        "\n",
        "plt.title('Histogram dari berat badan bulan april')\n",
        "plt.ylabel('frequensi')\n",
        "plt.xlabel('berat')\n",
        "\n",
        "plt.show()"
      ],
      "execution_count": 94,
      "outputs": [
        {
          "output_type": "display_data",
          "data": {
            "image/png": "[encoded data removed]",
            "text/plain": [
              "<Figure size 504x360 with 1 Axes>"
            ]
          },
          "metadata": {
            "needs_background": "light"
          }
        }
      ]
    },
    {
      "cell_type": "code",
      "metadata": {
        "id": "OFdFu9AsJ4ei",
        "colab": {
          "base_uri": "https://localhost:8080/",
          "height": 336
        },
        "outputId": "2b90c94a-8995-4feb-b9cc-8f014857acb0"
      },
      "source": [
        "rata2berat_lk = df6[df6['Sex']=='M'][' \"Weight (Sep)\"'].mean()\n",
        "rata2berat_pr = df6[df6['Sex']=='F'][' \"Weight (Sep)\"'].mean()\n",
        "\n",
        "fig = plt.figure(figsize =(7, 5))\n",
        "plt.title('Bar Chart dari rata-rata berat badan Laki-laki dan Perempuan bulan September')\n",
        "berat = [rata2berat_lk, rata2berat_pr]\n",
        "bars = ('laki-laki', 'perempuan')\n",
        "kelompok = np.arange(len(bars))\n",
        "\n",
        "plt.bar(kelompok, berat)\n",
        "plt.xticks(kelompok, bars)\n",
        "\n",
        "plt.show()"
      ],
      "execution_count": 95,
      "outputs": [
        {
          "output_type": "display_data",
          "data": {
            "image/png": "[encoded data removed]",
            "text/plain": [
              "<Figure size 504x360 with 1 Axes>"
            ]
          },
          "metadata": {
            "needs_background": "light"
          }
        }
      ]
    },
    {
      "cell_type": "code",
      "metadata": {
        "id": "ov4Tv--0NV7v",
        "colab": {
          "base_uri": "https://localhost:8080/",
          "height": 303
        },
        "outputId": "5ba5afb7-bf32-4950-ec3c-52389656eec1"
      },
      "source": [
        "# Pie chart\n",
        "labels = 'Laki-laki', 'Perempuan'\n",
        "jlh_anggota = np.array([len(df6[df6['Sex'] == 'M']), len(df6[df6['Sex'] == 'F'])])\n",
        "colors = ['blue', 'pink']\n",
        "fig = plt.figure(figsize =(7, 5))\n",
        "plt.pie(jlh_anggota, labels = labels, colors=colors)\n",
        "plt.show()"
      ],
      "execution_count": 96,
      "outputs": [
        {
          "output_type": "display_data",
          "data": {
            "image/png": "[encoded data removed]",
            "text/plain": [
              "<Figure size 504x360 with 1 Axes>"
            ]
          },
          "metadata": {}
        }
      ]
    },
    {
      "cell_type": "markdown",
      "metadata": {
        "id": "605babKcSl0c"
      },
      "source": [
        "### Dengan Seaborn"
      ]
    },
    {
      "cell_type": "code",
      "metadata": {
        "id": "7L2EA6EXO-DS"
      },
      "source": [
        "import seaborn as sns"
      ],
      "execution_count": 97,
      "outputs": []
    },
    {
      "cell_type": "code",
      "metadata": {
        "id": "rtfhQSerVEXB",
        "colab": {
          "base_uri": "https://localhost:8080/",
          "height": 284
        },
        "outputId": "4890c516-9311-454f-c31c-32928c75b954"
      },
      "source": [
        "#LineChart\n",
        "sns.lineplot(data=df6[[' \"Weight (Sep)\"', ' \"BMI (Sep)\"']])"
      ],
      "execution_count": 98,
      "outputs": [
        {
          "output_type": "execute_result",
          "data": {
            "text/plain": [
              "<matplotlib.axes._subplots.AxesSubplot at 0x7ff05ff0e210>"
            ]
          },
          "metadata": {},
          "execution_count": 98
        },
        {
          "output_type": "display_data",
          "data": {
            "image/png": "[encoded data removed]",
            "text/plain": [
              "<Figure size 432x288 with 1 Axes>"
            ]
          },
          "metadata": {
            "needs_background": "light"
          }
        }
      ]
    },
    {
      "cell_type": "code",
      "metadata": {
        "id": "bnXKw0X3VblN",
        "colab": {
          "base_uri": "https://localhost:8080/",
          "height": 386
        },
        "outputId": "e20bb933-002d-407f-ba12-8ea237b9e539"
      },
      "source": [
        "#ScatterPlot\n",
        "sns.relplot(x=' \"Weight (Sep)\"', y=' \"Weight (Apr)\"', data = df6)"
      ],
      "execution_count": 99,
      "outputs": [
        {
          "output_type": "execute_result",
          "data": {
            "text/plain": [
              "<seaborn.axisgrid.FacetGrid at 0x7ff05fe94c50>"
            ]
          },
          "metadata": {},
          "execution_count": 99
        },
        {
          "output_type": "display_data",
          "data": {
            "image/png": "[encoded data removed]",
            "text/plain": [
              "<Figure size 360x360 with 1 Axes>"
            ]
          },
          "metadata": {
            "needs_background": "light"
          }
        }
      ]
    },
    {
      "cell_type": "markdown",
      "metadata": {
        "id": "8E_3ApHG-qIC"
      },
      "source": [
        "Scatter plotnya seperti membentuk garis lurus miring kanan, artinya hubungan berat badan bulan april dan september erat dan positif (selengkapnya akan dipelajari di materi eksplorasi data)"
      ]
    },
    {
      "cell_type": "code",
      "metadata": {
        "id": "ZXq1VYeVWl3b",
        "colab": {
          "base_uri": "https://localhost:8080/",
          "height": 386
        },
        "outputId": "e7f150ed-6cbc-41b6-a7bf-867d7dcc2e9f"
      },
      "source": [
        "#Histogram\n",
        "sns.displot(data=df6, x=' \"Weight (Apr)\"',hue=\"Sex\", kde=True)"
      ],
      "execution_count": 100,
      "outputs": [
        {
          "output_type": "execute_result",
          "data": {
            "text/plain": [
              "<seaborn.axisgrid.FacetGrid at 0x7ff0606c6550>"
            ]
          },
          "metadata": {},
          "execution_count": 100
        },
        {
          "output_type": "display_data",
          "data": {
            "image/png": "[encoded data removed]",
            "text/plain": [
              "<Figure size 404.625x360 with 1 Axes>"
            ]
          },
          "metadata": {
            "needs_background": "light"
          }
        }
      ]
    },
    {
      "cell_type": "markdown",
      "metadata": {
        "id": "xR0rzImH-Zso"
      },
      "source": [
        "Terlihat data histogram per kategori laki-laki dan perempuan"
      ]
    },
    {
      "cell_type": "code",
      "metadata": {
        "id": "ceZrdlroX9iG",
        "colab": {
          "base_uri": "https://localhost:8080/",
          "height": 296
        },
        "outputId": "188895ff-b6cc-4ebf-ccfa-8a318f46af89"
      },
      "source": [
        "#boxplot\n",
        "sns.boxplot(data=df6, x=' \"Weight (Apr)\"')"
      ],
      "execution_count": 101,
      "outputs": [
        {
          "output_type": "execute_result",
          "data": {
            "text/plain": [
              "<matplotlib.axes._subplots.AxesSubplot at 0x7ff05dcfc0d0>"
            ]
          },
          "metadata": {},
          "execution_count": 101
        },
        {
          "output_type": "display_data",
          "data": {
            "image/png": "[encoded data removed]",
            "text/plain": [
              "<Figure size 432x288 with 1 Axes>"
            ]
          },
          "metadata": {
            "needs_background": "light"
          }
        }
      ]
    },
    {
      "cell_type": "markdown",
      "metadata": {
        "id": "6ovdYy-C97ch"
      },
      "source": [
        "Terlihat ada outlier di bagian atas"
      ]
    },
    {
      "cell_type": "code",
      "metadata": {
        "id": "deZlR5nPZndA",
        "colab": {
          "base_uri": "https://localhost:8080/",
          "height": 386
        },
        "outputId": "841f2a3d-d0b7-4e1c-f46b-72525851836a"
      },
      "source": [
        "#Catplot\n",
        "sns.catplot(data=df6, x='Sex', y=' \"Weight (Apr)\"')"
      ],
      "execution_count": 102,
      "outputs": [
        {
          "output_type": "execute_result",
          "data": {
            "text/plain": [
              "<seaborn.axisgrid.FacetGrid at 0x7ff05dcc99d0>"
            ]
          },
          "metadata": {},
          "execution_count": 102
        },
        {
          "output_type": "display_data",
          "data": {
            "image/png": "[encoded data removed]",
            "text/plain": [
              "<Figure size 360x360 with 1 Axes>"
            ]
          },
          "metadata": {
            "needs_background": "light"
          }
        }
      ]
    },
    {
      "cell_type": "markdown",
      "metadata": {
        "id": "DG0yiNxx-O9V"
      },
      "source": [
        "Sebaran data berat badan bulan april per kategori laki-laki dan perempuan"
      ]
    },
    {
      "cell_type": "code",
      "metadata": {
        "id": "QZdj2rxDbpze",
        "colab": {
          "base_uri": "https://localhost:8080/",
          "height": 395
        },
        "outputId": "91395d83-b3e3-4bcb-d46a-a804d84134ff"
      },
      "source": [
        "#HeatmapKorelasi\n",
        "corrmat = df6.corr()\n",
        "f, ax = plt.subplots(figsize=(9, 6))\n",
        "sns.heatmap(corrmat, vmax=1)"
      ],
      "execution_count": 103,
      "outputs": [
        {
          "output_type": "execute_result",
          "data": {
            "text/plain": [
              "<matplotlib.axes._subplots.AxesSubplot at 0x7ff05dc44990>"
            ]
          },
          "metadata": {},
          "execution_count": 103
        },
        {
          "output_type": "display_data",
          "data": {
            "image/png": "[encoded data removed]",
            "text/plain": [
              "<Figure size 648x432 with 2 Axes>"
            ]
          },
          "metadata": {
            "needs_background": "light"
          }
        }
      ]
    },
    {
      "cell_type": "markdown",
      "metadata": {
        "id": "1PbfvIND9tlJ"
      },
      "source": [
        "Warna merepresentasikan keeratan hubungan, bisa diliat di nilai hubungan/korelasinya bisa dilihat di penggaris sebelahnya"
      ]
    },
    {
      "cell_type": "markdown",
      "metadata": {
        "id": "DHsEXxrbcYxH"
      },
      "source": [
        "### Latihan-6 (Visualisasi data)\n",
        "\n",
        "Gunakan data dari: https://people.sc.fsu.edu/~jburkardt/data/csv/cities.csv\n",
        "\n",
        "Cari:\n",
        "*   Deskriptif data\n",
        "*   beberapa visualisasi datanya\n"
      ]
    },
    {
      "cell_type": "code",
      "metadata": {
        "id": "vxXMS8aOec-f",
        "colab": {
          "base_uri": "https://localhost:8080/",
          "height": 419
        },
        "outputId": "e4535880-7b44-41e0-b103-c415ac380085"
      },
      "source": [
        "import pandas as pd\n",
        "url = \"https://people.sc.fsu.edu/~jburkardt/data/csv/cities.csv\"\n",
        "lat6 = pd.read_csv(url)\n",
        "lat6"
      ],
      "execution_count": 104,
      "outputs": [
        {
          "output_type": "execute_result",
          "data": {
            "text/html": [
              "<div>\n",
              "<style scoped>\n",
              "    .dataframe tbody tr th:only-of-type {\n",
              "        vertical-align: middle;\n",
              "    }\n",
              "\n",
              "    .dataframe tbody tr th {\n",
              "        vertical-align: top;\n",
              "    }\n",
              "\n",
              "    .dataframe thead th {\n",
              "        text-align: right;\n",
              "    }\n",
              "</style>\n",
              "<table border=\"1\" class=\"dataframe\">\n",
              "  <thead>\n",
              "    <tr style=\"text-align: right;\">\n",
              "      <th></th>\n",
              "      <th>LatD</th>\n",
              "      <th>\"LatM\"</th>\n",
              "      <th>\"LatS\"</th>\n",
              "      <th>\"NS\"</th>\n",
              "      <th>\"LonD\"</th>\n",
              "      <th>\"LonM\"</th>\n",
              "      <th>\"LonS\"</th>\n",
              "      <th>\"EW\"</th>\n",
              "      <th>\"City\"</th>\n",
              "      <th>\"State\"</th>\n",
              "    </tr>\n",
              "  </thead>\n",
              "  <tbody>\n",
              "    <tr>\n",
              "      <th>0</th>\n",
              "      <td>41</td>\n",
              "      <td>5</td>\n",
              "      <td>59</td>\n",
              "      <td>\"N\"</td>\n",
              "      <td>80</td>\n",
              "      <td>39</td>\n",
              "      <td>0</td>\n",
              "      <td>\"W\"</td>\n",
              "      <td>\"Youngstown\"</td>\n",
              "      <td>OH</td>\n",
              "    </tr>\n",
              "    <tr>\n",
              "      <th>1</th>\n",
              "      <td>42</td>\n",
              "      <td>52</td>\n",
              "      <td>48</td>\n",
              "      <td>\"N\"</td>\n",
              "      <td>97</td>\n",
              "      <td>23</td>\n",
              "      <td>23</td>\n",
              "      <td>\"W\"</td>\n",
              "      <td>\"Yankton\"</td>\n",
              "      <td>SD</td>\n",
              "    </tr>\n",
              "    <tr>\n",
              "      <th>2</th>\n",
              "      <td>46</td>\n",
              "      <td>35</td>\n",
              "      <td>59</td>\n",
              "      <td>\"N\"</td>\n",
              "      <td>120</td>\n",
              "      <td>30</td>\n",
              "      <td>36</td>\n",
              "      <td>\"W\"</td>\n",
              "      <td>\"Yakima\"</td>\n",
              "      <td>WA</td>\n",
              "    </tr>\n",
              "    <tr>\n",
              "      <th>3</th>\n",
              "      <td>42</td>\n",
              "      <td>16</td>\n",
              "      <td>12</td>\n",
              "      <td>\"N\"</td>\n",
              "      <td>71</td>\n",
              "      <td>48</td>\n",
              "      <td>0</td>\n",
              "      <td>\"W\"</td>\n",
              "      <td>\"Worcester\"</td>\n",
              "      <td>MA</td>\n",
              "    </tr>\n",
              "    <tr>\n",
              "      <th>4</th>\n",
              "      <td>43</td>\n",
              "      <td>37</td>\n",
              "      <td>48</td>\n",
              "      <td>\"N\"</td>\n",
              "      <td>89</td>\n",
              "      <td>46</td>\n",
              "      <td>11</td>\n",
              "      <td>\"W\"</td>\n",
              "      <td>\"Wisconsin Dells\"</td>\n",
              "      <td>WI</td>\n",
              "    </tr>\n",
              "    <tr>\n",
              "      <th>...</th>\n",
              "      <td>...</td>\n",
              "      <td>...</td>\n",
              "      <td>...</td>\n",
              "      <td>...</td>\n",
              "      <td>...</td>\n",
              "      <td>...</td>\n",
              "      <td>...</td>\n",
              "      <td>...</td>\n",
              "      <td>...</td>\n",
              "      <td>...</td>\n",
              "    </tr>\n",
              "    <tr>\n",
              "      <th>123</th>\n",
              "      <td>39</td>\n",
              "      <td>31</td>\n",
              "      <td>12</td>\n",
              "      <td>\"N\"</td>\n",
              "      <td>119</td>\n",
              "      <td>48</td>\n",
              "      <td>35</td>\n",
              "      <td>\"W\"</td>\n",
              "      <td>\"Reno\"</td>\n",
              "      <td>NV</td>\n",
              "    </tr>\n",
              "    <tr>\n",
              "      <th>124</th>\n",
              "      <td>50</td>\n",
              "      <td>25</td>\n",
              "      <td>11</td>\n",
              "      <td>\"N\"</td>\n",
              "      <td>104</td>\n",
              "      <td>39</td>\n",
              "      <td>0</td>\n",
              "      <td>\"W\"</td>\n",
              "      <td>\"Regina\"</td>\n",
              "      <td>SA</td>\n",
              "    </tr>\n",
              "    <tr>\n",
              "      <th>125</th>\n",
              "      <td>40</td>\n",
              "      <td>10</td>\n",
              "      <td>48</td>\n",
              "      <td>\"N\"</td>\n",
              "      <td>122</td>\n",
              "      <td>14</td>\n",
              "      <td>23</td>\n",
              "      <td>\"W\"</td>\n",
              "      <td>\"Red Bluff\"</td>\n",
              "      <td>CA</td>\n",
              "    </tr>\n",
              "    <tr>\n",
              "      <th>126</th>\n",
              "      <td>40</td>\n",
              "      <td>19</td>\n",
              "      <td>48</td>\n",
              "      <td>\"N\"</td>\n",
              "      <td>75</td>\n",
              "      <td>55</td>\n",
              "      <td>48</td>\n",
              "      <td>\"W\"</td>\n",
              "      <td>\"Reading\"</td>\n",
              "      <td>PA</td>\n",
              "    </tr>\n",
              "    <tr>\n",
              "      <th>127</th>\n",
              "      <td>41</td>\n",
              "      <td>9</td>\n",
              "      <td>35</td>\n",
              "      <td>\"N\"</td>\n",
              "      <td>81</td>\n",
              "      <td>14</td>\n",
              "      <td>23</td>\n",
              "      <td>\"W\"</td>\n",
              "      <td>\"Ravenna\"</td>\n",
              "      <td>OH</td>\n",
              "    </tr>\n",
              "  </tbody>\n",
              "</table>\n",
              "<p>128 rows × 10 columns</p>\n",
              "</div>"
            ],
            "text/plain": [
              "     LatD   \"LatM\"   \"LatS\"  \"NS\"  ...   \"LonS\"   \"EW\"              \"City\"  \"State\"\n",
              "0      41        5       59   \"N\"  ...        0    \"W\"        \"Youngstown\"       OH\n",
              "1      42       52       48   \"N\"  ...       23    \"W\"           \"Yankton\"       SD\n",
              "2      46       35       59   \"N\"  ...       36    \"W\"            \"Yakima\"       WA\n",
              "3      42       16       12   \"N\"  ...        0    \"W\"         \"Worcester\"       MA\n",
              "4      43       37       48   \"N\"  ...       11    \"W\"   \"Wisconsin Dells\"       WI\n",
              "..    ...      ...      ...   ...  ...      ...    ...                 ...      ...\n",
              "123    39       31       12   \"N\"  ...       35    \"W\"              \"Reno\"       NV\n",
              "124    50       25       11   \"N\"  ...        0    \"W\"            \"Regina\"       SA\n",
              "125    40       10       48   \"N\"  ...       23    \"W\"         \"Red Bluff\"       CA\n",
              "126    40       19       48   \"N\"  ...       48    \"W\"           \"Reading\"       PA\n",
              "127    41        9       35   \"N\"  ...       23    \"W\"           \"Ravenna\"      OH \n",
              "\n",
              "[128 rows x 10 columns]"
            ]
          },
          "metadata": {},
          "execution_count": 104
        }
      ]
    },
    {
      "cell_type": "code",
      "metadata": {
        "colab": {
          "base_uri": "https://localhost:8080/",
          "height": 297
        },
        "id": "KV8YDBzM3reh",
        "outputId": "11731cf7-b586-454a-e2b6-44df2eed6d29"
      },
      "source": [
        "#deskriptif data\n",
        "lat6.describe()"
      ],
      "execution_count": 105,
      "outputs": [
        {
          "output_type": "execute_result",
          "data": {
            "text/html": [
              "<div>\n",
              "<style scoped>\n",
              "    .dataframe tbody tr th:only-of-type {\n",
              "        vertical-align: middle;\n",
              "    }\n",
              "\n",
              "    .dataframe tbody tr th {\n",
              "        vertical-align: top;\n",
              "    }\n",
              "\n",
              "    .dataframe thead th {\n",
              "        text-align: right;\n",
              "    }\n",
              "</style>\n",
              "<table border=\"1\" class=\"dataframe\">\n",
              "  <thead>\n",
              "    <tr style=\"text-align: right;\">\n",
              "      <th></th>\n",
              "      <th>LatD</th>\n",
              "      <th>\"LatM\"</th>\n",
              "      <th>\"LatS\"</th>\n",
              "      <th>\"LonD\"</th>\n",
              "      <th>\"LonM\"</th>\n",
              "      <th>\"LonS\"</th>\n",
              "    </tr>\n",
              "  </thead>\n",
              "  <tbody>\n",
              "    <tr>\n",
              "      <th>count</th>\n",
              "      <td>128.000000</td>\n",
              "      <td>128.000000</td>\n",
              "      <td>128.000000</td>\n",
              "      <td>128.000000</td>\n",
              "      <td>128.000000</td>\n",
              "      <td>128.000000</td>\n",
              "    </tr>\n",
              "    <tr>\n",
              "      <th>mean</th>\n",
              "      <td>38.820312</td>\n",
              "      <td>30.765625</td>\n",
              "      <td>27.492188</td>\n",
              "      <td>93.250000</td>\n",
              "      <td>27.742188</td>\n",
              "      <td>26.960938</td>\n",
              "    </tr>\n",
              "    <tr>\n",
              "      <th>std</th>\n",
              "      <td>5.200596</td>\n",
              "      <td>16.426158</td>\n",
              "      <td>18.977814</td>\n",
              "      <td>15.466499</td>\n",
              "      <td>16.927937</td>\n",
              "      <td>18.727807</td>\n",
              "    </tr>\n",
              "    <tr>\n",
              "      <th>min</th>\n",
              "      <td>26.000000</td>\n",
              "      <td>1.000000</td>\n",
              "      <td>0.000000</td>\n",
              "      <td>71.000000</td>\n",
              "      <td>0.000000</td>\n",
              "      <td>0.000000</td>\n",
              "    </tr>\n",
              "    <tr>\n",
              "      <th>25%</th>\n",
              "      <td>35.000000</td>\n",
              "      <td>16.000000</td>\n",
              "      <td>11.000000</td>\n",
              "      <td>80.000000</td>\n",
              "      <td>14.000000</td>\n",
              "      <td>11.000000</td>\n",
              "    </tr>\n",
              "    <tr>\n",
              "      <th>50%</th>\n",
              "      <td>39.000000</td>\n",
              "      <td>31.000000</td>\n",
              "      <td>24.000000</td>\n",
              "      <td>89.500000</td>\n",
              "      <td>26.500000</td>\n",
              "      <td>23.500000</td>\n",
              "    </tr>\n",
              "    <tr>\n",
              "      <th>75%</th>\n",
              "      <td>42.250000</td>\n",
              "      <td>45.000000</td>\n",
              "      <td>47.000000</td>\n",
              "      <td>103.250000</td>\n",
              "      <td>40.250000</td>\n",
              "      <td>47.000000</td>\n",
              "    </tr>\n",
              "    <tr>\n",
              "      <th>max</th>\n",
              "      <td>50.000000</td>\n",
              "      <td>59.000000</td>\n",
              "      <td>59.000000</td>\n",
              "      <td>123.000000</td>\n",
              "      <td>58.000000</td>\n",
              "      <td>59.000000</td>\n",
              "    </tr>\n",
              "  </tbody>\n",
              "</table>\n",
              "</div>"
            ],
            "text/plain": [
              "             LatD      \"LatM\"      \"LatS\"      \"LonD\"      \"LonM\"      \"LonS\"\n",
              "count  128.000000  128.000000  128.000000  128.000000  128.000000  128.000000\n",
              "mean    38.820312   30.765625   27.492188   93.250000   27.742188   26.960938\n",
              "std      5.200596   16.426158   18.977814   15.466499   16.927937   18.727807\n",
              "min     26.000000    1.000000    0.000000   71.000000    0.000000    0.000000\n",
              "25%     35.000000   16.000000   11.000000   80.000000   14.000000   11.000000\n",
              "50%     39.000000   31.000000   24.000000   89.500000   26.500000   23.500000\n",
              "75%     42.250000   45.000000   47.000000  103.250000   40.250000   47.000000\n",
              "max     50.000000   59.000000   59.000000  123.000000   58.000000   59.000000"
            ]
          },
          "metadata": {},
          "execution_count": 105
        }
      ]
    },
    {
      "cell_type": "markdown",
      "metadata": {
        "id": "gNw3kVuyOszN"
      },
      "source": [
        "# Visualisasi dengan Matplotlib"
      ]
    },
    {
      "cell_type": "code",
      "metadata": {
        "id": "5FJ5jJ6N33_Q",
        "colab": {
          "base_uri": "https://localhost:8080/",
          "height": 355
        },
        "outputId": "074d6683-53a6-4f99-9f10-77d26b0e5bcf"
      },
      "source": [
        "#Line Chart\n",
        "lat6[['LatD', ' \"LonD\"']].plot(kind='line', \n",
        "             figsize=(10, 5))\n",
        "\n",
        "plt.title('Perbandingan LatD dan LonD antar Kota', fontsize = 20)\n",
        "plt.ylabel('LatD & LonD', fontsize = 10)\n",
        "plt.xlabel('City', fontsize = 10)\n",
        "\n",
        "plt.show()"
      ],
      "execution_count": 109,
      "outputs": [
        {
          "output_type": "display_data",
          "data": {
            "image/png": "[encoded data removed]",
            "text/plain": [
              "<Figure size 720x360 with 1 Axes>"
            ]
          },
          "metadata": {
            "needs_background": "light"
          }
        }
      ]
    },
    {
      "cell_type": "code",
      "metadata": {
        "colab": {
          "base_uri": "https://localhost:8080/",
          "height": 409
        },
        "id": "7iOPJxqJRMw2",
        "outputId": "b0a41f29-7de2-48d6-fe8e-9c57a62cc008"
      },
      "source": [
        "#ScatterPlot\n",
        "lat6[['LatD', ' \"LonD\"']].plot(kind='scatter', x='LatD', y=' \"LonD\"', \n",
        "                                                 figsize=(10, 6), color='darkblue')\n",
        "\n",
        "plt.title('Perbandingan LatD dan LonD antar Kota', fontsize = 20)\n",
        "plt.ylabel('LatD & LonD', fontsize = 10)\n",
        "plt.xlabel('Kota', fontsize = 10)\n",
        "\n",
        "plt.show()"
      ],
      "execution_count": 110,
      "outputs": [
        {
          "output_type": "display_data",
          "data": {
            "image/png": "[encoded data removed]",
            "text/plain": [
              "<Figure size 720x432 with 1 Axes>"
            ]
          },
          "metadata": {
            "needs_background": "light"
          }
        }
      ]
    },
    {
      "cell_type": "code",
      "metadata": {
        "colab": {
          "base_uri": "https://localhost:8080/",
          "height": 350
        },
        "id": "AhqllEUMR7y1",
        "outputId": "653ae5df-7d35-45c5-9612-356e3ceee664"
      },
      "source": [
        "#Histogram\n",
        "lat6['LatD'].plot(kind='hist', figsize=(7, 5))\n",
        "\n",
        "plt.title('Histogram dari LatD antar Kota')\n",
        "plt.ylabel('LatD')\n",
        "plt.xlabel('Kota')\n",
        "\n",
        "plt.show()"
      ],
      "execution_count": 112,
      "outputs": [
        {
          "output_type": "display_data",
          "data": {
            "image/png": "[encoded data removed]",
            "text/plain": [
              "<Figure size 504x360 with 1 Axes>"
            ]
          },
          "metadata": {
            "needs_background": "light"
          }
        }
      ]
    },
    {
      "cell_type": "code",
      "metadata": {
        "colab": {
          "base_uri": "https://localhost:8080/",
          "height": 336
        },
        "id": "Yrn1eGA2SV1k",
        "outputId": "06fcc164-f2fa-4d09-f3ef-122754247661"
      },
      "source": [
        "rata2LatD = lat6['LatD'].mean()\n",
        "rata2LonD = lat6[' \"LonD\"'].mean()\n",
        "\n",
        "fig = plt.figure(figsize =(7, 5))\n",
        "plt.title('Bar Chart dari rata-rata LatD dan LonD antar Kota')\n",
        "rata = [rata2LatD, rata2LonD]\n",
        "bars = ('LatD', 'LonD')\n",
        "kelompok = np.arange(len(bars))\n",
        "\n",
        "plt.bar(kelompok, rata)\n",
        "plt.xticks(kelompok, bars)\n",
        "\n",
        "plt.show()"
      ],
      "execution_count": 114,
      "outputs": [
        {
          "output_type": "display_data",
          "data": {
            "image/png": "[encoded data removed]",
            "text/plain": [
              "<Figure size 504x360 with 1 Axes>"
            ]
          },
          "metadata": {
            "needs_background": "light"
          }
        }
      ]
    },
    {
      "cell_type": "markdown",
      "metadata": {
        "id": "rU9B_KrETiKs"
      },
      "source": [
        "# Visualisasi dengan Seaborn"
      ]
    },
    {
      "cell_type": "code",
      "metadata": {
        "colab": {
          "base_uri": "https://localhost:8080/",
          "height": 282
        },
        "id": "GRphFqL7Tgqf",
        "outputId": "585f61c1-ddb8-438b-e069-34f90ac56299"
      },
      "source": [
        "#LineChart\n",
        "sns.lineplot(data=lat6[['LatD', ' \"LonD\"']])"
      ],
      "execution_count": 115,
      "outputs": [
        {
          "output_type": "execute_result",
          "data": {
            "text/plain": [
              "<matplotlib.axes._subplots.AxesSubplot at 0x7ff05be83650>"
            ]
          },
          "metadata": {},
          "execution_count": 115
        },
        {
          "output_type": "display_data",
          "data": {
            "image/png": "[encoded data removed]",
            "text/plain": [
              "<Figure size 432x288 with 1 Axes>"
            ]
          },
          "metadata": {
            "needs_background": "light"
          }
        }
      ]
    },
    {
      "cell_type": "code",
      "metadata": {
        "colab": {
          "base_uri": "https://localhost:8080/",
          "height": 386
        },
        "id": "tmfgzCd4U-bb",
        "outputId": "983e0f9d-95b2-4ef4-c30e-7e036142d67c"
      },
      "source": [
        "#ScatterPlot\n",
        "sns.relplot(x='LatD', y=' \"LonD\"', data = lat6)"
      ],
      "execution_count": 116,
      "outputs": [
        {
          "output_type": "execute_result",
          "data": {
            "text/plain": [
              "<seaborn.axisgrid.FacetGrid at 0x7ff05be143d0>"
            ]
          },
          "metadata": {},
          "execution_count": 116
        },
        {
          "output_type": "display_data",
          "data": {
            "image/png": "[encoded data removed]",
            "text/plain": [
              "<Figure size 360x360 with 1 Axes>"
            ]
          },
          "metadata": {
            "needs_background": "light"
          }
        }
      ]
    },
    {
      "cell_type": "code",
      "metadata": {
        "colab": {
          "base_uri": "https://localhost:8080/",
          "height": 386
        },
        "id": "369UQ0DoVGJ-",
        "outputId": "c76afc2d-d483-4726-ea9a-8e793dfdcfa8"
      },
      "source": [
        "#Histogram\n",
        "sns.displot(data=lat6, x='LatD',hue=' \"EW\"', kde=True)"
      ],
      "execution_count": 121,
      "outputs": [
        {
          "output_type": "execute_result",
          "data": {
            "text/plain": [
              "<seaborn.axisgrid.FacetGrid at 0x7ff05c29a950>"
            ]
          },
          "metadata": {},
          "execution_count": 121
        },
        {
          "output_type": "display_data",
          "data": {
            "image/png": "[encoded data removed]",
            "text/plain": [
              "<Figure size 418.5x360 with 1 Axes>"
            ]
          },
          "metadata": {
            "needs_background": "light"
          }
        }
      ]
    },
    {
      "cell_type": "code",
      "metadata": {
        "colab": {
          "base_uri": "https://localhost:8080/",
          "height": 296
        },
        "id": "-sjFH1hMWR7X",
        "outputId": "aeb94860-5db8-4097-a833-f77e9bbf90fe"
      },
      "source": [
        "#boxplot\n",
        "sns.boxplot(data=lat6, x='LatD')"
      ],
      "execution_count": 122,
      "outputs": [
        {
          "output_type": "execute_result",
          "data": {
            "text/plain": [
              "<matplotlib.axes._subplots.AxesSubplot at 0x7ff05b8b20d0>"
            ]
          },
          "metadata": {},
          "execution_count": 122
        },
        {
          "output_type": "display_data",
          "data": {
            "image/png": "[encoded data removed]",
            "text/plain": [
              "<Figure size 432x288 with 1 Axes>"
            ]
          },
          "metadata": {
            "needs_background": "light"
          }
        }
      ]
    },
    {
      "cell_type": "code",
      "metadata": {
        "colab": {
          "base_uri": "https://localhost:8080/",
          "height": 386
        },
        "id": "nxQJaAJpWZF_",
        "outputId": "71519333-292e-4d76-9556-58ab987210a2"
      },
      "source": [
        "#Catplot\n",
        "sns.catplot(data=lat6, x=' \"EW\"', y='LatD')"
      ],
      "execution_count": 123,
      "outputs": [
        {
          "output_type": "execute_result",
          "data": {
            "text/plain": [
              "<seaborn.axisgrid.FacetGrid at 0x7ff05b8b7dd0>"
            ]
          },
          "metadata": {},
          "execution_count": 123
        },
        {
          "output_type": "display_data",
          "data": {
            "image/png": "[encoded data removed]",
            "text/plain": [
              "<Figure size 360x360 with 1 Axes>"
            ]
          },
          "metadata": {
            "needs_background": "light"
          }
        }
      ]
    },
    {
      "cell_type": "code",
      "metadata": {
        "colab": {
          "base_uri": "https://localhost:8080/",
          "height": 395
        },
        "id": "LPzjtZpBWmBQ",
        "outputId": "a15e1fea-bb69-4b14-fdbf-52b0d9217408"
      },
      "source": [
        "#HeatmapKorelasi\n",
        "corrmat = lat6.corr()\n",
        "f, ax = plt.subplots(figsize=(9, 6))\n",
        "sns.heatmap(corrmat, vmax=1)"
      ],
      "execution_count": 124,
      "outputs": [
        {
          "output_type": "execute_result",
          "data": {
            "text/plain": [
              "<matplotlib.axes._subplots.AxesSubplot at 0x7ff05b7e4c10>"
            ]
          },
          "metadata": {},
          "execution_count": 124
        },
        {
          "output_type": "display_data",
          "data": {
            "image/png": "[encoded data removed]",
            "text/plain": [
              "<Figure size 648x432 with 2 Axes>"
            ]
          },
          "metadata": {
            "needs_background": "light"
          }
        }
      ]
    }
  ]
}

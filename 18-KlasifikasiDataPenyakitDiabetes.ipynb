{
  "nbformat": 4,
  "nbformat_minor": 0,
  "metadata": {
    "colab": {
      "name": "18-KlasifikasiDataPenyakitDiabetes.ipynb",
      "provenance": [],
      "include_colab_link": true
    },
    "kernelspec": {
      "name": "python3",
      "display_name": "Python 3"
    },
    "language_info": {
      "name": "python"
    }
  },
  "cells": [
    {
      "cell_type": "markdown",
      "metadata": {
        "id": "view-in-github",
        "colab_type": "text"
      },
      "source": [
        "<a href=\"https://colab.research.google.com/github/davidkevinhh/Orbit-Future-Academy-MSIB/blob/Assesments/18-KlasifikasiDataPenyakitDiabetes.ipynb\" target=\"_parent\"><img src=\"https://colab.research.google.com/assets/colab-badge.svg\" alt=\"Open In Colab\"/></a>"
      ]
    },
    {
      "cell_type": "markdown",
      "metadata": {
        "id": "mof6l9QG9frq"
      },
      "source": [
        "Kamis, 30 Sept 2021"
      ]
    },
    {
      "cell_type": "markdown",
      "metadata": {
        "id": "xBm5KJkJ0Cmz"
      },
      "source": [
        "## Import Library"
      ]
    },
    {
      "cell_type": "code",
      "metadata": {
        "id": "4_uulZNCxeHx"
      },
      "source": [
        "import pandas as pd #mengimport library pandas dan akan dipanggil sebagai pd\n",
        "import numpy as np #mengimport library numpy dan akan dipanggil sebagai np"
      ],
      "execution_count": 4,
      "outputs": []
    },
    {
      "cell_type": "markdown",
      "metadata": {
        "id": "U2wndl2_0NgK"
      },
      "source": [
        "## Import Data Set"
      ]
    },
    {
      "cell_type": "code",
      "metadata": {
        "colab": {
          "base_uri": "https://localhost:8080/"
        },
        "id": "5BztGpWwPLK0",
        "outputId": "450912cb-b3fc-4526-8805-b669eb4f364f"
      },
      "source": [
        "!wget -O diabetes_latih.csv https://raw.githubusercontent.com/davidkevinhh/Orbit-Future-Academy-MSIB/Datasets/diabetes_latih.csv"
      ],
      "execution_count": 1,
      "outputs": [
        {
          "output_type": "stream",
          "name": "stdout",
          "text": [
            "--2021-12-07 04:03:09--  https://raw.githubusercontent.com/davidkevinhh/Orbit-Future-Academy-MSIB/Datasets/diabetes_latih.csv\n",
            "Resolving raw.githubusercontent.com (raw.githubusercontent.com)... 185.199.108.133, 185.199.109.133, 185.199.110.133, ...\n",
            "Connecting to raw.githubusercontent.com (raw.githubusercontent.com)|185.199.108.133|:443... connected.\n",
            "HTTP request sent, awaiting response... 200 OK\n",
            "Length: 18518 (18K) [text/plain]\n",
            "Saving to: ‘diabetes_latih.csv’\n",
            "\n",
            "\rdiabetes_latih.csv    0%[                    ]       0  --.-KB/s               \rdiabetes_latih.csv  100%[===================>]  18.08K  --.-KB/s    in 0s      \n",
            "\n",
            "2021-12-07 04:03:09 (105 MB/s) - ‘diabetes_latih.csv’ saved [18518/18518]\n",
            "\n"
          ]
        }
      ]
    },
    {
      "cell_type": "code",
      "metadata": {
        "colab": {
          "base_uri": "https://localhost:8080/"
        },
        "id": "2krHqeyXQi0I",
        "outputId": "422505a5-865d-4ce0-aed3-d71d79320545"
      },
      "source": [
        "!wget -O diabetes_uji.csv https://raw.githubusercontent.com/davidkevinhh/Orbit-Future-Academy-MSIB/Datasets/diabetes_uji.csv"
      ],
      "execution_count": 2,
      "outputs": [
        {
          "output_type": "stream",
          "name": "stdout",
          "text": [
            "--2021-12-07 04:03:43--  https://raw.githubusercontent.com/davidkevinhh/Orbit-Future-Academy-MSIB/Datasets/diabetes_uji.csv\n",
            "Resolving raw.githubusercontent.com (raw.githubusercontent.com)... 185.199.111.133, 185.199.110.133, 185.199.108.133, ...\n",
            "Connecting to raw.githubusercontent.com (raw.githubusercontent.com)|185.199.111.133|:443... connected.\n",
            "HTTP request sent, awaiting response... 200 OK\n",
            "Length: 4685 (4.6K) [text/plain]\n",
            "Saving to: ‘diabetes_uji.csv’\n",
            "\n",
            "\rdiabetes_uji.csv      0%[                    ]       0  --.-KB/s               \rdiabetes_uji.csv    100%[===================>]   4.58K  --.-KB/s    in 0s      \n",
            "\n",
            "2021-12-07 04:03:43 (49.9 MB/s) - ‘diabetes_uji.csv’ saved [4685/4685]\n",
            "\n"
          ]
        }
      ]
    },
    {
      "cell_type": "markdown",
      "metadata": {
        "id": "l1tcS7OW26ST"
      },
      "source": [
        "## Membuat Data Training & Testing"
      ]
    },
    {
      "cell_type": "code",
      "metadata": {
        "id": "XkWjKYwLPPvl"
      },
      "source": [
        "df = pd.read_csv('diabetes_latih.csv')\n",
        "\n",
        "X_train = df.values\n",
        "X_train = np.delete(X_train,8, axis=1)\n",
        "\n",
        "y_train = df['Outcome'].values\n",
        "\n",
        "df = pd.read_csv('diabetes_uji.csv')\n",
        "\n",
        "X_test = df.values\n",
        "X_test = np.delete(X_test,8,axis=1)\n",
        "\n",
        "y_test = df['Outcome'].values"
      ],
      "execution_count": 5,
      "outputs": []
    },
    {
      "cell_type": "code",
      "metadata": {
        "id": "dkYfQIEwRKMO"
      },
      "source": [
        "from sklearn.preprocessing import MinMaxScaler\n",
        "X_train = MinMaxScaler().fit_transform(X_train)\n",
        "X_test = MinMaxScaler().fit_transform(X_test)"
      ],
      "execution_count": 6,
      "outputs": []
    },
    {
      "cell_type": "markdown",
      "metadata": {
        "id": "rdD8fCTq37js"
      },
      "source": [
        "## Model Text Description"
      ]
    },
    {
      "cell_type": "code",
      "metadata": {
        "id": "Sc5NDhONRbHJ"
      },
      "source": [
        "from keras.models import Sequential\n",
        "from keras.layers import Dense\n",
        "\n",
        "model = Sequential()\n",
        "\n",
        "model.add(Dense(12, activation='relu', input_shape=(8,)))\n",
        "\n",
        "model.add(Dense(8, activation='relu'))\n",
        "model.add(Dense(8, activation='relu'))\n",
        "\n",
        "model.add(Dense(1, activation='sigmoid'))\n",
        "\n",
        "model.compile(loss='binary_crossentropy', optimizer='adam', metrics=['accuracy'])"
      ],
      "execution_count": 7,
      "outputs": []
    },
    {
      "cell_type": "code",
      "metadata": {
        "colab": {
          "base_uri": "https://localhost:8080/"
        },
        "id": "7zvk9lhyRgm7",
        "outputId": "5262d106-d2d2-4cd4-f751-c157163d4711"
      },
      "source": [
        "model.summary()"
      ],
      "execution_count": 8,
      "outputs": [
        {
          "output_type": "stream",
          "name": "stdout",
          "text": [
            "Model: \"sequential\"\n",
            "_________________________________________________________________\n",
            " Layer (type)                Output Shape              Param #   \n",
            "=================================================================\n",
            " dense (Dense)               (None, 12)                108       \n",
            "                                                                 \n",
            " dense_1 (Dense)             (None, 8)                 104       \n",
            "                                                                 \n",
            " dense_2 (Dense)             (None, 8)                 72        \n",
            "                                                                 \n",
            " dense_3 (Dense)             (None, 1)                 9         \n",
            "                                                                 \n",
            "=================================================================\n",
            "Total params: 293\n",
            "Trainable params: 293\n",
            "Non-trainable params: 0\n",
            "_________________________________________________________________\n"
          ]
        }
      ]
    },
    {
      "cell_type": "code",
      "metadata": {
        "colab": {
          "base_uri": "https://localhost:8080/",
          "height": 206
        },
        "id": "FG0HcFPRRiWV",
        "outputId": "1b0a2214-1e09-4280-c2a9-fcf6bccfa82f"
      },
      "source": [
        "df.head() #Memunculkan 5 data teratas"
      ],
      "execution_count": 9,
      "outputs": [
        {
          "output_type": "execute_result",
          "data": {
            "text/html": [
              "<div>\n",
              "<style scoped>\n",
              "    .dataframe tbody tr th:only-of-type {\n",
              "        vertical-align: middle;\n",
              "    }\n",
              "\n",
              "    .dataframe tbody tr th {\n",
              "        vertical-align: top;\n",
              "    }\n",
              "\n",
              "    .dataframe thead th {\n",
              "        text-align: right;\n",
              "    }\n",
              "</style>\n",
              "<table border=\"1\" class=\"dataframe\">\n",
              "  <thead>\n",
              "    <tr style=\"text-align: right;\">\n",
              "      <th></th>\n",
              "      <th>Pregnancies</th>\n",
              "      <th>Glucose</th>\n",
              "      <th>BloodPressure</th>\n",
              "      <th>SkinThickness</th>\n",
              "      <th>Insulin</th>\n",
              "      <th>BMI</th>\n",
              "      <th>DiabetesPedigreeFunction</th>\n",
              "      <th>Age</th>\n",
              "      <th>Outcome</th>\n",
              "    </tr>\n",
              "  </thead>\n",
              "  <tbody>\n",
              "    <tr>\n",
              "      <th>0</th>\n",
              "      <td>6</td>\n",
              "      <td>148</td>\n",
              "      <td>72</td>\n",
              "      <td>35</td>\n",
              "      <td>0</td>\n",
              "      <td>33.6</td>\n",
              "      <td>0.627</td>\n",
              "      <td>50</td>\n",
              "      <td>1</td>\n",
              "    </tr>\n",
              "    <tr>\n",
              "      <th>1</th>\n",
              "      <td>1</td>\n",
              "      <td>85</td>\n",
              "      <td>66</td>\n",
              "      <td>29</td>\n",
              "      <td>0</td>\n",
              "      <td>26.6</td>\n",
              "      <td>0.351</td>\n",
              "      <td>31</td>\n",
              "      <td>0</td>\n",
              "    </tr>\n",
              "    <tr>\n",
              "      <th>2</th>\n",
              "      <td>8</td>\n",
              "      <td>183</td>\n",
              "      <td>64</td>\n",
              "      <td>0</td>\n",
              "      <td>0</td>\n",
              "      <td>23.3</td>\n",
              "      <td>0.672</td>\n",
              "      <td>32</td>\n",
              "      <td>1</td>\n",
              "    </tr>\n",
              "    <tr>\n",
              "      <th>3</th>\n",
              "      <td>1</td>\n",
              "      <td>89</td>\n",
              "      <td>66</td>\n",
              "      <td>23</td>\n",
              "      <td>94</td>\n",
              "      <td>28.1</td>\n",
              "      <td>0.167</td>\n",
              "      <td>21</td>\n",
              "      <td>0</td>\n",
              "    </tr>\n",
              "    <tr>\n",
              "      <th>4</th>\n",
              "      <td>0</td>\n",
              "      <td>137</td>\n",
              "      <td>40</td>\n",
              "      <td>35</td>\n",
              "      <td>168</td>\n",
              "      <td>43.1</td>\n",
              "      <td>2.288</td>\n",
              "      <td>33</td>\n",
              "      <td>1</td>\n",
              "    </tr>\n",
              "  </tbody>\n",
              "</table>\n",
              "</div>"
            ],
            "text/plain": [
              "   Pregnancies  Glucose  BloodPressure  ...  DiabetesPedigreeFunction  Age  Outcome\n",
              "0            6      148             72  ...                     0.627   50        1\n",
              "1            1       85             66  ...                     0.351   31        0\n",
              "2            8      183             64  ...                     0.672   32        1\n",
              "3            1       89             66  ...                     0.167   21        0\n",
              "4            0      137             40  ...                     2.288   33        1\n",
              "\n",
              "[5 rows x 9 columns]"
            ]
          },
          "metadata": {},
          "execution_count": 9
        }
      ]
    },
    {
      "cell_type": "markdown",
      "metadata": {
        "id": "-FXEu1g54QlY"
      },
      "source": [
        "## Memprediksi Model"
      ]
    },
    {
      "cell_type": "code",
      "metadata": {
        "colab": {
          "base_uri": "https://localhost:8080/"
        },
        "id": "YtVcZGu8RqUz",
        "outputId": "0bf294b2-5202-42e4-d67c-60933d32f5da"
      },
      "source": [
        "model.fit(X_train, y_train, epochs=200, verbose=1, batch_size=10)\n",
        "\n",
        "y_pred = model.predict(X_test)\n",
        "y_pred = y_pred >= 0.13"
      ],
      "execution_count": 12,
      "outputs": [
        {
          "output_type": "stream",
          "name": "stdout",
          "text": [
            "Epoch 1/200\n",
            "62/62 [==============================] - 0s 1ms/step - loss: 0.4929 - accuracy: 0.7622\n",
            "Epoch 2/200\n",
            "62/62 [==============================] - 0s 2ms/step - loss: 0.4913 - accuracy: 0.7590\n",
            "Epoch 3/200\n",
            "62/62 [==============================] - 0s 2ms/step - loss: 0.4840 - accuracy: 0.7801\n",
            "Epoch 4/200\n",
            "62/62 [==============================] - 0s 1ms/step - loss: 0.4788 - accuracy: 0.7704\n",
            "Epoch 5/200\n",
            "62/62 [==============================] - 0s 2ms/step - loss: 0.4730 - accuracy: 0.7801\n",
            "Epoch 6/200\n",
            "62/62 [==============================] - 0s 1ms/step - loss: 0.4692 - accuracy: 0.7834\n",
            "Epoch 7/200\n",
            "62/62 [==============================] - 0s 2ms/step - loss: 0.4678 - accuracy: 0.7818\n",
            "Epoch 8/200\n",
            "62/62 [==============================] - 0s 1ms/step - loss: 0.4685 - accuracy: 0.7752\n",
            "Epoch 9/200\n",
            "62/62 [==============================] - 0s 1ms/step - loss: 0.4589 - accuracy: 0.7769\n",
            "Epoch 10/200\n",
            "62/62 [==============================] - 0s 1ms/step - loss: 0.4580 - accuracy: 0.7834\n",
            "Epoch 11/200\n",
            "62/62 [==============================] - 0s 2ms/step - loss: 0.4588 - accuracy: 0.7801\n",
            "Epoch 12/200\n",
            "62/62 [==============================] - 0s 1ms/step - loss: 0.4520 - accuracy: 0.7899\n",
            "Epoch 13/200\n",
            "62/62 [==============================] - 0s 1ms/step - loss: 0.4596 - accuracy: 0.7752\n",
            "Epoch 14/200\n",
            "62/62 [==============================] - 0s 2ms/step - loss: 0.4529 - accuracy: 0.7948\n",
            "Epoch 15/200\n",
            "62/62 [==============================] - 0s 2ms/step - loss: 0.4593 - accuracy: 0.7915\n",
            "Epoch 16/200\n",
            "62/62 [==============================] - 0s 2ms/step - loss: 0.4479 - accuracy: 0.7866\n",
            "Epoch 17/200\n",
            "62/62 [==============================] - 0s 2ms/step - loss: 0.4460 - accuracy: 0.7834\n",
            "Epoch 18/200\n",
            "62/62 [==============================] - 0s 2ms/step - loss: 0.4453 - accuracy: 0.7818\n",
            "Epoch 19/200\n",
            "62/62 [==============================] - 0s 1ms/step - loss: 0.4477 - accuracy: 0.7801\n",
            "Epoch 20/200\n",
            "62/62 [==============================] - 0s 2ms/step - loss: 0.4454 - accuracy: 0.7704\n",
            "Epoch 21/200\n",
            "62/62 [==============================] - 0s 2ms/step - loss: 0.4497 - accuracy: 0.7785\n",
            "Epoch 22/200\n",
            "62/62 [==============================] - 0s 2ms/step - loss: 0.4433 - accuracy: 0.7834\n",
            "Epoch 23/200\n",
            "62/62 [==============================] - 0s 2ms/step - loss: 0.4426 - accuracy: 0.7850\n",
            "Epoch 24/200\n",
            "62/62 [==============================] - 0s 2ms/step - loss: 0.4390 - accuracy: 0.7866\n",
            "Epoch 25/200\n",
            "62/62 [==============================] - 0s 1ms/step - loss: 0.4380 - accuracy: 0.7736\n",
            "Epoch 26/200\n",
            "62/62 [==============================] - 0s 1ms/step - loss: 0.4369 - accuracy: 0.7801\n",
            "Epoch 27/200\n",
            "62/62 [==============================] - 0s 2ms/step - loss: 0.4400 - accuracy: 0.7834\n",
            "Epoch 28/200\n",
            "62/62 [==============================] - 0s 2ms/step - loss: 0.4387 - accuracy: 0.7752\n",
            "Epoch 29/200\n",
            "62/62 [==============================] - 0s 1ms/step - loss: 0.4404 - accuracy: 0.7801\n",
            "Epoch 30/200\n",
            "62/62 [==============================] - 0s 1ms/step - loss: 0.4372 - accuracy: 0.7785\n",
            "Epoch 31/200\n",
            "62/62 [==============================] - 0s 2ms/step - loss: 0.4382 - accuracy: 0.7850\n",
            "Epoch 32/200\n",
            "62/62 [==============================] - 0s 1ms/step - loss: 0.4382 - accuracy: 0.7801\n",
            "Epoch 33/200\n",
            "62/62 [==============================] - 0s 2ms/step - loss: 0.4412 - accuracy: 0.7883\n",
            "Epoch 34/200\n",
            "62/62 [==============================] - 0s 2ms/step - loss: 0.4333 - accuracy: 0.7883\n",
            "Epoch 35/200\n",
            "62/62 [==============================] - 0s 2ms/step - loss: 0.4335 - accuracy: 0.8013\n",
            "Epoch 36/200\n",
            "62/62 [==============================] - 0s 1ms/step - loss: 0.4342 - accuracy: 0.7850\n",
            "Epoch 37/200\n",
            "62/62 [==============================] - 0s 2ms/step - loss: 0.4408 - accuracy: 0.7704\n",
            "Epoch 38/200\n",
            "62/62 [==============================] - 0s 1ms/step - loss: 0.4339 - accuracy: 0.7818\n",
            "Epoch 39/200\n",
            "62/62 [==============================] - 0s 2ms/step - loss: 0.4341 - accuracy: 0.7834\n",
            "Epoch 40/200\n",
            "62/62 [==============================] - 0s 2ms/step - loss: 0.4353 - accuracy: 0.7850\n",
            "Epoch 41/200\n",
            "62/62 [==============================] - 0s 1ms/step - loss: 0.4315 - accuracy: 0.7866\n",
            "Epoch 42/200\n",
            "62/62 [==============================] - 0s 2ms/step - loss: 0.4362 - accuracy: 0.7850\n",
            "Epoch 43/200\n",
            "62/62 [==============================] - 0s 2ms/step - loss: 0.4366 - accuracy: 0.7834\n",
            "Epoch 44/200\n",
            "62/62 [==============================] - 0s 2ms/step - loss: 0.4328 - accuracy: 0.7915\n",
            "Epoch 45/200\n",
            "62/62 [==============================] - 0s 2ms/step - loss: 0.4304 - accuracy: 0.7850\n",
            "Epoch 46/200\n",
            "62/62 [==============================] - 0s 2ms/step - loss: 0.4297 - accuracy: 0.7801\n",
            "Epoch 47/200\n",
            "62/62 [==============================] - 0s 1ms/step - loss: 0.4332 - accuracy: 0.7866\n",
            "Epoch 48/200\n",
            "62/62 [==============================] - 0s 1ms/step - loss: 0.4244 - accuracy: 0.7997\n",
            "Epoch 49/200\n",
            "62/62 [==============================] - 0s 2ms/step - loss: 0.4350 - accuracy: 0.8029\n",
            "Epoch 50/200\n",
            "62/62 [==============================] - 0s 1ms/step - loss: 0.4321 - accuracy: 0.7785\n",
            "Epoch 51/200\n",
            "62/62 [==============================] - 0s 2ms/step - loss: 0.4281 - accuracy: 0.7850\n",
            "Epoch 52/200\n",
            "62/62 [==============================] - 0s 2ms/step - loss: 0.4299 - accuracy: 0.7948\n",
            "Epoch 53/200\n",
            "62/62 [==============================] - 0s 1ms/step - loss: 0.4277 - accuracy: 0.7899\n",
            "Epoch 54/200\n",
            "62/62 [==============================] - 0s 2ms/step - loss: 0.4301 - accuracy: 0.7948\n",
            "Epoch 55/200\n",
            "62/62 [==============================] - 0s 1ms/step - loss: 0.4265 - accuracy: 0.7850\n",
            "Epoch 56/200\n",
            "62/62 [==============================] - 0s 2ms/step - loss: 0.4229 - accuracy: 0.7899\n",
            "Epoch 57/200\n",
            "62/62 [==============================] - 0s 1ms/step - loss: 0.4245 - accuracy: 0.7948\n",
            "Epoch 58/200\n",
            "62/62 [==============================] - 0s 2ms/step - loss: 0.4286 - accuracy: 0.7899\n",
            "Epoch 59/200\n",
            "62/62 [==============================] - 0s 1ms/step - loss: 0.4289 - accuracy: 0.8046\n",
            "Epoch 60/200\n",
            "62/62 [==============================] - 0s 2ms/step - loss: 0.4275 - accuracy: 0.7850\n",
            "Epoch 61/200\n",
            "62/62 [==============================] - 0s 1ms/step - loss: 0.4272 - accuracy: 0.7850\n",
            "Epoch 62/200\n",
            "62/62 [==============================] - 0s 1ms/step - loss: 0.4270 - accuracy: 0.7915\n",
            "Epoch 63/200\n",
            "62/62 [==============================] - 0s 2ms/step - loss: 0.4239 - accuracy: 0.7980\n",
            "Epoch 64/200\n",
            "62/62 [==============================] - 0s 2ms/step - loss: 0.4250 - accuracy: 0.7964\n",
            "Epoch 65/200\n",
            "62/62 [==============================] - 0s 2ms/step - loss: 0.4248 - accuracy: 0.7980\n",
            "Epoch 66/200\n",
            "62/62 [==============================] - 0s 1ms/step - loss: 0.4238 - accuracy: 0.7948\n",
            "Epoch 67/200\n",
            "62/62 [==============================] - 0s 1ms/step - loss: 0.4235 - accuracy: 0.7915\n",
            "Epoch 68/200\n",
            "62/62 [==============================] - 0s 2ms/step - loss: 0.4261 - accuracy: 0.7818\n",
            "Epoch 69/200\n",
            "62/62 [==============================] - 0s 2ms/step - loss: 0.4221 - accuracy: 0.7980\n",
            "Epoch 70/200\n",
            "62/62 [==============================] - 0s 2ms/step - loss: 0.4224 - accuracy: 0.7932\n",
            "Epoch 71/200\n",
            "62/62 [==============================] - 0s 2ms/step - loss: 0.4307 - accuracy: 0.8046\n",
            "Epoch 72/200\n",
            "62/62 [==============================] - 0s 2ms/step - loss: 0.4215 - accuracy: 0.7948\n",
            "Epoch 73/200\n",
            "62/62 [==============================] - 0s 1ms/step - loss: 0.4235 - accuracy: 0.7997\n",
            "Epoch 74/200\n",
            "62/62 [==============================] - 0s 2ms/step - loss: 0.4184 - accuracy: 0.7915\n",
            "Epoch 75/200\n",
            "62/62 [==============================] - 0s 1ms/step - loss: 0.4220 - accuracy: 0.7899\n",
            "Epoch 76/200\n",
            "62/62 [==============================] - 0s 1ms/step - loss: 0.4231 - accuracy: 0.8046\n",
            "Epoch 77/200\n",
            "62/62 [==============================] - 0s 1ms/step - loss: 0.4257 - accuracy: 0.7915\n",
            "Epoch 78/200\n",
            "62/62 [==============================] - 0s 1ms/step - loss: 0.4210 - accuracy: 0.7964\n",
            "Epoch 79/200\n",
            "62/62 [==============================] - 0s 2ms/step - loss: 0.4219 - accuracy: 0.7932\n",
            "Epoch 80/200\n",
            "62/62 [==============================] - 0s 2ms/step - loss: 0.4235 - accuracy: 0.7932\n",
            "Epoch 81/200\n",
            "62/62 [==============================] - 0s 1ms/step - loss: 0.4169 - accuracy: 0.8013\n",
            "Epoch 82/200\n",
            "62/62 [==============================] - 0s 2ms/step - loss: 0.4198 - accuracy: 0.7980\n",
            "Epoch 83/200\n",
            "62/62 [==============================] - 0s 2ms/step - loss: 0.4198 - accuracy: 0.8127\n",
            "Epoch 84/200\n",
            "62/62 [==============================] - 0s 2ms/step - loss: 0.4181 - accuracy: 0.8029\n",
            "Epoch 85/200\n",
            "62/62 [==============================] - 0s 2ms/step - loss: 0.4217 - accuracy: 0.7980\n",
            "Epoch 86/200\n",
            "62/62 [==============================] - 0s 2ms/step - loss: 0.4199 - accuracy: 0.7948\n",
            "Epoch 87/200\n",
            "62/62 [==============================] - 0s 2ms/step - loss: 0.4163 - accuracy: 0.8013\n",
            "Epoch 88/200\n",
            "62/62 [==============================] - 0s 2ms/step - loss: 0.4226 - accuracy: 0.7964\n",
            "Epoch 89/200\n",
            "62/62 [==============================] - 0s 2ms/step - loss: 0.4215 - accuracy: 0.8013\n",
            "Epoch 90/200\n",
            "62/62 [==============================] - 0s 2ms/step - loss: 0.4190 - accuracy: 0.8094\n",
            "Epoch 91/200\n",
            "62/62 [==============================] - 0s 1ms/step - loss: 0.4163 - accuracy: 0.7948\n",
            "Epoch 92/200\n",
            "62/62 [==============================] - 0s 2ms/step - loss: 0.4200 - accuracy: 0.7997\n",
            "Epoch 93/200\n",
            "62/62 [==============================] - 0s 1ms/step - loss: 0.4154 - accuracy: 0.7980\n",
            "Epoch 94/200\n",
            "62/62 [==============================] - 0s 1ms/step - loss: 0.4155 - accuracy: 0.8046\n",
            "Epoch 95/200\n",
            "62/62 [==============================] - 0s 2ms/step - loss: 0.4184 - accuracy: 0.8062\n",
            "Epoch 96/200\n",
            "62/62 [==============================] - 0s 2ms/step - loss: 0.4116 - accuracy: 0.8046\n",
            "Epoch 97/200\n",
            "62/62 [==============================] - 0s 2ms/step - loss: 0.4110 - accuracy: 0.7980\n",
            "Epoch 98/200\n",
            "62/62 [==============================] - 0s 2ms/step - loss: 0.4147 - accuracy: 0.8046\n",
            "Epoch 99/200\n",
            "62/62 [==============================] - 0s 2ms/step - loss: 0.4134 - accuracy: 0.7997\n",
            "Epoch 100/200\n",
            "62/62 [==============================] - 0s 2ms/step - loss: 0.4128 - accuracy: 0.8111\n",
            "Epoch 101/200\n",
            "62/62 [==============================] - 0s 1ms/step - loss: 0.4099 - accuracy: 0.8046\n",
            "Epoch 102/200\n",
            "62/62 [==============================] - 0s 2ms/step - loss: 0.4125 - accuracy: 0.7964\n",
            "Epoch 103/200\n",
            "62/62 [==============================] - 0s 2ms/step - loss: 0.4148 - accuracy: 0.8111\n",
            "Epoch 104/200\n",
            "62/62 [==============================] - 0s 1ms/step - loss: 0.4161 - accuracy: 0.7948\n",
            "Epoch 105/200\n",
            "62/62 [==============================] - 0s 2ms/step - loss: 0.4084 - accuracy: 0.8078\n",
            "Epoch 106/200\n",
            "62/62 [==============================] - 0s 2ms/step - loss: 0.4144 - accuracy: 0.7932\n",
            "Epoch 107/200\n",
            "62/62 [==============================] - 0s 1ms/step - loss: 0.4107 - accuracy: 0.7964\n",
            "Epoch 108/200\n",
            "62/62 [==============================] - 0s 1ms/step - loss: 0.4136 - accuracy: 0.7964\n",
            "Epoch 109/200\n",
            "62/62 [==============================] - 0s 2ms/step - loss: 0.4101 - accuracy: 0.8046\n",
            "Epoch 110/200\n",
            "62/62 [==============================] - 0s 2ms/step - loss: 0.4109 - accuracy: 0.8013\n",
            "Epoch 111/200\n",
            "62/62 [==============================] - 0s 2ms/step - loss: 0.4148 - accuracy: 0.7997\n",
            "Epoch 112/200\n",
            "62/62 [==============================] - 0s 2ms/step - loss: 0.4077 - accuracy: 0.7997\n",
            "Epoch 113/200\n",
            "62/62 [==============================] - 0s 1ms/step - loss: 0.4078 - accuracy: 0.8160\n",
            "Epoch 114/200\n",
            "62/62 [==============================] - 0s 2ms/step - loss: 0.4100 - accuracy: 0.8029\n",
            "Epoch 115/200\n",
            "62/62 [==============================] - 0s 2ms/step - loss: 0.4043 - accuracy: 0.8094\n",
            "Epoch 116/200\n",
            "62/62 [==============================] - 0s 2ms/step - loss: 0.4050 - accuracy: 0.8143\n",
            "Epoch 117/200\n",
            "62/62 [==============================] - 0s 2ms/step - loss: 0.4046 - accuracy: 0.8013\n",
            "Epoch 118/200\n",
            "62/62 [==============================] - 0s 1ms/step - loss: 0.4059 - accuracy: 0.8062\n",
            "Epoch 119/200\n",
            "62/62 [==============================] - 0s 2ms/step - loss: 0.4066 - accuracy: 0.8127\n",
            "Epoch 120/200\n",
            "62/62 [==============================] - 0s 2ms/step - loss: 0.4073 - accuracy: 0.8078\n",
            "Epoch 121/200\n",
            "62/62 [==============================] - 0s 2ms/step - loss: 0.4091 - accuracy: 0.8127\n",
            "Epoch 122/200\n",
            "62/62 [==============================] - 0s 2ms/step - loss: 0.4064 - accuracy: 0.8046\n",
            "Epoch 123/200\n",
            "62/62 [==============================] - 0s 2ms/step - loss: 0.4046 - accuracy: 0.8111\n",
            "Epoch 124/200\n",
            "62/62 [==============================] - 0s 2ms/step - loss: 0.4028 - accuracy: 0.8127\n",
            "Epoch 125/200\n",
            "62/62 [==============================] - 0s 2ms/step - loss: 0.4064 - accuracy: 0.8094\n",
            "Epoch 126/200\n",
            "62/62 [==============================] - 0s 2ms/step - loss: 0.4052 - accuracy: 0.8094\n",
            "Epoch 127/200\n",
            "62/62 [==============================] - 0s 1ms/step - loss: 0.4064 - accuracy: 0.8046\n",
            "Epoch 128/200\n",
            "62/62 [==============================] - 0s 2ms/step - loss: 0.4072 - accuracy: 0.8078\n",
            "Epoch 129/200\n",
            "62/62 [==============================] - 0s 2ms/step - loss: 0.4021 - accuracy: 0.8257\n",
            "Epoch 130/200\n",
            "62/62 [==============================] - 0s 1ms/step - loss: 0.4114 - accuracy: 0.8029\n",
            "Epoch 131/200\n",
            "62/62 [==============================] - 0s 2ms/step - loss: 0.4119 - accuracy: 0.8029\n",
            "Epoch 132/200\n",
            "62/62 [==============================] - 0s 2ms/step - loss: 0.4052 - accuracy: 0.8029\n",
            "Epoch 133/200\n",
            "62/62 [==============================] - 0s 1ms/step - loss: 0.4051 - accuracy: 0.7866\n",
            "Epoch 134/200\n",
            "62/62 [==============================] - 0s 2ms/step - loss: 0.4033 - accuracy: 0.8078\n",
            "Epoch 135/200\n",
            "62/62 [==============================] - 0s 2ms/step - loss: 0.4072 - accuracy: 0.8046\n",
            "Epoch 136/200\n",
            "62/62 [==============================] - 0s 2ms/step - loss: 0.4126 - accuracy: 0.7899\n",
            "Epoch 137/200\n",
            "62/62 [==============================] - 0s 2ms/step - loss: 0.4024 - accuracy: 0.8062\n",
            "Epoch 138/200\n",
            "62/62 [==============================] - 0s 2ms/step - loss: 0.4047 - accuracy: 0.8094\n",
            "Epoch 139/200\n",
            "62/62 [==============================] - 0s 2ms/step - loss: 0.3979 - accuracy: 0.8176\n",
            "Epoch 140/200\n",
            "62/62 [==============================] - 0s 2ms/step - loss: 0.4057 - accuracy: 0.8111\n",
            "Epoch 141/200\n",
            "62/62 [==============================] - 0s 2ms/step - loss: 0.4022 - accuracy: 0.7980\n",
            "Epoch 142/200\n",
            "62/62 [==============================] - 0s 1ms/step - loss: 0.4038 - accuracy: 0.8160\n",
            "Epoch 143/200\n",
            "62/62 [==============================] - 0s 2ms/step - loss: 0.4037 - accuracy: 0.8111\n",
            "Epoch 144/200\n",
            "62/62 [==============================] - 0s 2ms/step - loss: 0.4013 - accuracy: 0.8094\n",
            "Epoch 145/200\n",
            "62/62 [==============================] - 0s 2ms/step - loss: 0.3989 - accuracy: 0.8046\n",
            "Epoch 146/200\n",
            "62/62 [==============================] - 0s 2ms/step - loss: 0.3985 - accuracy: 0.8078\n",
            "Epoch 147/200\n",
            "62/62 [==============================] - 0s 2ms/step - loss: 0.4044 - accuracy: 0.8127\n",
            "Epoch 148/200\n",
            "62/62 [==============================] - 0s 1ms/step - loss: 0.3979 - accuracy: 0.8143\n",
            "Epoch 149/200\n",
            "62/62 [==============================] - 0s 1ms/step - loss: 0.4030 - accuracy: 0.8062\n",
            "Epoch 150/200\n",
            "62/62 [==============================] - 0s 2ms/step - loss: 0.3992 - accuracy: 0.8029\n",
            "Epoch 151/200\n",
            "62/62 [==============================] - 0s 2ms/step - loss: 0.3960 - accuracy: 0.8094\n",
            "Epoch 152/200\n",
            "62/62 [==============================] - 0s 2ms/step - loss: 0.4003 - accuracy: 0.8094\n",
            "Epoch 153/200\n",
            "62/62 [==============================] - 0s 2ms/step - loss: 0.3965 - accuracy: 0.7997\n",
            "Epoch 154/200\n",
            "62/62 [==============================] - 0s 2ms/step - loss: 0.3946 - accuracy: 0.8241\n",
            "Epoch 155/200\n",
            "62/62 [==============================] - 0s 2ms/step - loss: 0.3943 - accuracy: 0.8225\n",
            "Epoch 156/200\n",
            "62/62 [==============================] - 0s 2ms/step - loss: 0.3982 - accuracy: 0.8094\n",
            "Epoch 157/200\n",
            "62/62 [==============================] - 0s 2ms/step - loss: 0.3943 - accuracy: 0.8046\n",
            "Epoch 158/200\n",
            "62/62 [==============================] - 0s 2ms/step - loss: 0.3970 - accuracy: 0.8046\n",
            "Epoch 159/200\n",
            "62/62 [==============================] - 0s 2ms/step - loss: 0.3990 - accuracy: 0.8029\n",
            "Epoch 160/200\n",
            "62/62 [==============================] - 0s 2ms/step - loss: 0.3974 - accuracy: 0.8094\n",
            "Epoch 161/200\n",
            "62/62 [==============================] - 0s 2ms/step - loss: 0.3939 - accuracy: 0.8094\n",
            "Epoch 162/200\n",
            "62/62 [==============================] - 0s 2ms/step - loss: 0.3981 - accuracy: 0.8046\n",
            "Epoch 163/200\n",
            "62/62 [==============================] - 0s 2ms/step - loss: 0.3929 - accuracy: 0.8111\n",
            "Epoch 164/200\n",
            "62/62 [==============================] - 0s 2ms/step - loss: 0.3960 - accuracy: 0.8160\n",
            "Epoch 165/200\n",
            "62/62 [==============================] - 0s 2ms/step - loss: 0.3997 - accuracy: 0.8208\n",
            "Epoch 166/200\n",
            "62/62 [==============================] - 0s 2ms/step - loss: 0.3944 - accuracy: 0.8111\n",
            "Epoch 167/200\n",
            "62/62 [==============================] - 0s 2ms/step - loss: 0.3957 - accuracy: 0.8062\n",
            "Epoch 168/200\n",
            "62/62 [==============================] - 0s 2ms/step - loss: 0.3924 - accuracy: 0.8029\n",
            "Epoch 169/200\n",
            "62/62 [==============================] - 0s 2ms/step - loss: 0.3976 - accuracy: 0.8078\n",
            "Epoch 170/200\n",
            "62/62 [==============================] - 0s 2ms/step - loss: 0.3930 - accuracy: 0.8013\n",
            "Epoch 171/200\n",
            "62/62 [==============================] - 0s 2ms/step - loss: 0.3902 - accuracy: 0.8046\n",
            "Epoch 172/200\n",
            "62/62 [==============================] - 0s 1ms/step - loss: 0.3899 - accuracy: 0.8094\n",
            "Epoch 173/200\n",
            "62/62 [==============================] - 0s 2ms/step - loss: 0.3939 - accuracy: 0.8078\n",
            "Epoch 174/200\n",
            "62/62 [==============================] - 0s 2ms/step - loss: 0.3937 - accuracy: 0.8029\n",
            "Epoch 175/200\n",
            "62/62 [==============================] - 0s 2ms/step - loss: 0.3948 - accuracy: 0.8127\n",
            "Epoch 176/200\n",
            "62/62 [==============================] - 0s 2ms/step - loss: 0.3896 - accuracy: 0.8208\n",
            "Epoch 177/200\n",
            "62/62 [==============================] - 0s 2ms/step - loss: 0.3890 - accuracy: 0.8062\n",
            "Epoch 178/200\n",
            "62/62 [==============================] - 0s 2ms/step - loss: 0.3912 - accuracy: 0.8046\n",
            "Epoch 179/200\n",
            "62/62 [==============================] - 0s 2ms/step - loss: 0.3896 - accuracy: 0.8078\n",
            "Epoch 180/200\n",
            "62/62 [==============================] - 0s 2ms/step - loss: 0.3942 - accuracy: 0.8176\n",
            "Epoch 181/200\n",
            "62/62 [==============================] - 0s 1ms/step - loss: 0.3896 - accuracy: 0.8208\n",
            "Epoch 182/200\n",
            "62/62 [==============================] - 0s 2ms/step - loss: 0.3897 - accuracy: 0.8225\n",
            "Epoch 183/200\n",
            "62/62 [==============================] - 0s 2ms/step - loss: 0.3884 - accuracy: 0.8160\n",
            "Epoch 184/200\n",
            "62/62 [==============================] - 0s 2ms/step - loss: 0.3990 - accuracy: 0.8062\n",
            "Epoch 185/200\n",
            "62/62 [==============================] - 0s 2ms/step - loss: 0.3953 - accuracy: 0.8062\n",
            "Epoch 186/200\n",
            "62/62 [==============================] - 0s 2ms/step - loss: 0.3896 - accuracy: 0.8094\n",
            "Epoch 187/200\n",
            "62/62 [==============================] - 0s 2ms/step - loss: 0.3855 - accuracy: 0.8225\n",
            "Epoch 188/200\n",
            "62/62 [==============================] - 0s 2ms/step - loss: 0.3909 - accuracy: 0.8274\n",
            "Epoch 189/200\n",
            "62/62 [==============================] - 0s 2ms/step - loss: 0.3904 - accuracy: 0.8094\n",
            "Epoch 190/200\n",
            "62/62 [==============================] - 0s 2ms/step - loss: 0.3940 - accuracy: 0.8143\n",
            "Epoch 191/200\n",
            "62/62 [==============================] - 0s 2ms/step - loss: 0.3917 - accuracy: 0.8046\n",
            "Epoch 192/200\n",
            "62/62 [==============================] - 0s 2ms/step - loss: 0.3885 - accuracy: 0.8029\n",
            "Epoch 193/200\n",
            "62/62 [==============================] - 0s 2ms/step - loss: 0.3878 - accuracy: 0.8046\n",
            "Epoch 194/200\n",
            "62/62 [==============================] - 0s 2ms/step - loss: 0.3851 - accuracy: 0.8111\n",
            "Epoch 195/200\n",
            "62/62 [==============================] - 0s 1ms/step - loss: 0.3839 - accuracy: 0.8257\n",
            "Epoch 196/200\n",
            "62/62 [==============================] - 0s 2ms/step - loss: 0.3883 - accuracy: 0.8176\n",
            "Epoch 197/200\n",
            "62/62 [==============================] - 0s 2ms/step - loss: 0.3859 - accuracy: 0.8143\n",
            "Epoch 198/200\n",
            "62/62 [==============================] - 0s 2ms/step - loss: 0.3864 - accuracy: 0.8176\n",
            "Epoch 199/200\n",
            "62/62 [==============================] - 0s 2ms/step - loss: 0.3908 - accuracy: 0.8062\n",
            "Epoch 200/200\n",
            "62/62 [==============================] - 0s 2ms/step - loss: 0.3864 - accuracy: 0.8111\n"
          ]
        }
      ]
    },
    {
      "cell_type": "code",
      "metadata": {
        "colab": {
          "base_uri": "https://localhost:8080/"
        },
        "id": "n6iXe9vJRxcx",
        "outputId": "131bd278-c0f7-470d-abae-e45dd0a3c792"
      },
      "source": [
        "from sklearn.metrics import accuracy_score #Menghitung Akurasi\n",
        "\n",
        "round(accuracy_score(y_test, y_pred),3)"
      ],
      "execution_count": 13,
      "outputs": [
        {
          "output_type": "execute_result",
          "data": {
            "text/plain": [
              "0.584"
            ]
          },
          "metadata": {},
          "execution_count": 13
        }
      ]
    }
  ]
}